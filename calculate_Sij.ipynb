{
 "cells": [
  {
   "cell_type": "code",
   "execution_count": 8,
   "source": [
    "import numpy as np\n",
    "\n",
    "#load eigenvector information\n",
    "#for the purpose of easy calculation, here we load structure information\n",
    "\n",
    "from ase.io import read\n",
    "atoms=read('data.vasp',format='vasp')\n",
    "\n",
    "#all atom is in central region by definition\n",
    "#here we assume number of ghost shell is 1\n",
    "\n",
    "#construct the list of vector connecting between each atoms\n",
    "\n",
    "masses=atoms.get_masses()\n",
    "natom=len(atoms.positions)"
   ],
   "outputs": [],
   "metadata": {}
  },
  {
   "cell_type": "code",
   "execution_count": 9,
   "source": [
    "with open('gulp.eig','r') as eig:\n",
    "    lines=eig.readlines()\n",
    "    #header: number of atom, atom position, number of k-point, number of modes\n",
    "    ref_natom=int(lines[0])\n",
    "    if natom!=ref_natom:\n",
    "        assert \"number of atom is different\"\n",
    "    ref_nkpoints=int(lines[natom+1])\n",
    "    if ref_nkpoints!=0:\n",
    "        assert \"number of kpoint is not zero\"\n",
    "    ref_nmodes=int(lines[natom+2])\n",
    "    if ref_nmodes!=3*natom:\n",
    "        assert \"number of modes seems strange... format error?\"\n",
    "    \n",
    "    #lines[natom+3] --> Kpoint coord\n",
    "\n",
    "    start=natom+4\n",
    "    mode_block=natom+10\n",
    "    nmodes=3*natom\n",
    "    omega=np.zeros(nmodes)\n",
    "    eigenvector=np.zeros((nmodes,natom,3))\n",
    "\n",
    "    for imode in range(nmodes):\n",
    "        omega[imode]=float(lines[start+1])\n",
    "        eigenv_mode=np.loadtxt(lines[start+2: start+2+natom])\n",
    "        eigenvector[imode]=eigenv_mode\n",
    "\n",
    "        start=start+2+natom "
   ],
   "outputs": [],
   "metadata": {}
  },
  {
   "cell_type": "code",
   "execution_count": 10,
   "source": [
    "omega"
   ],
   "outputs": [
    {
     "output_type": "execute_result",
     "data": {
      "text/plain": [
       "array([-1.40000000e-05, -6.00000000e-06,  1.40000000e-05,  2.21940168e+02,\n",
       "        2.21940168e+02,  2.21940168e+02,  2.21940168e+02,  2.21940168e+02,\n",
       "        2.21940168e+02,  4.29619339e+02,  4.29619339e+02,  4.29619339e+02,\n",
       "        4.29619339e+02,  4.29619339e+02,  4.29619339e+02,  5.16419661e+02,\n",
       "        5.16419661e+02,  5.16419661e+02,  5.16419661e+02,  5.16419661e+02,\n",
       "        5.16419661e+02,  5.89804580e+02,  5.89804580e+02,  5.89804580e+02])"
      ]
     },
     "metadata": {},
     "execution_count": 10
    }
   ],
   "metadata": {}
  },
  {
   "cell_type": "code",
   "execution_count": 11,
   "source": [
    "eigenvector[0]"
   ],
   "outputs": [
    {
     "output_type": "execute_result",
     "data": {
      "text/plain": [
       "array([[-0.0810933 ,  0.34412729,  0.00053464],\n",
       "       [-0.0810933 ,  0.34412729,  0.00053464],\n",
       "       [-0.0810933 ,  0.34412729,  0.00053464],\n",
       "       [-0.0810933 ,  0.34412729,  0.00053464],\n",
       "       [-0.0810933 ,  0.34412729,  0.00053464],\n",
       "       [-0.0810933 ,  0.34412729,  0.00053464],\n",
       "       [-0.0810933 ,  0.34412729,  0.00053464],\n",
       "       [-0.0810933 ,  0.34412729,  0.00053464]])"
      ]
     },
     "metadata": {},
     "execution_count": 11
    }
   ],
   "metadata": {}
  },
  {
   "cell_type": "code",
   "execution_count": 12,
   "source": [
    "eigen_flat=np.reshape(eigenvector,(nmodes, natom*3))"
   ],
   "outputs": [],
   "metadata": {}
  },
  {
   "cell_type": "code",
   "execution_count": 13,
   "source": [
    "eigen_flat[0]"
   ],
   "outputs": [
    {
     "output_type": "execute_result",
     "data": {
      "text/plain": [
       "array([-0.0810933 ,  0.34412729,  0.00053464, -0.0810933 ,  0.34412729,\n",
       "        0.00053464, -0.0810933 ,  0.34412729,  0.00053464, -0.0810933 ,\n",
       "        0.34412729,  0.00053464, -0.0810933 ,  0.34412729,  0.00053464,\n",
       "       -0.0810933 ,  0.34412729,  0.00053464, -0.0810933 ,  0.34412729,\n",
       "        0.00053464, -0.0810933 ,  0.34412729,  0.00053464])"
      ]
     },
     "metadata": {},
     "execution_count": 13
    }
   ],
   "metadata": {}
  },
  {
   "cell_type": "code",
   "execution_count": 14,
   "source": [
    "eigen_flat[1]"
   ],
   "outputs": [
    {
     "output_type": "execute_result",
     "data": {
      "text/plain": [
       "array([0.00939437, 0.0016647 , 0.35342464, 0.00939437, 0.0016647 ,\n",
       "       0.35342464, 0.00939437, 0.0016647 , 0.35342464, 0.00939437,\n",
       "       0.0016647 , 0.35342464, 0.00939437, 0.0016647 , 0.35342464,\n",
       "       0.00939437, 0.0016647 , 0.35342464, 0.00939437, 0.0016647 ,\n",
       "       0.35342464, 0.00939437, 0.0016647 , 0.35342464])"
      ]
     },
     "metadata": {},
     "execution_count": 14
    }
   ],
   "metadata": {}
  },
  {
   "cell_type": "code",
   "execution_count": 15,
   "source": [
    "eigen_flat[3]"
   ],
   "outputs": [
    {
     "output_type": "execute_result",
     "data": {
      "text/plain": [
       "array([ 0.06927493,  0.17493567, -0.21775762, -0.06927493, -0.26847225,\n",
       "       -0.30628705,  0.03593061, -0.17493567,  0.30628705, -0.03593061,\n",
       "        0.26847225,  0.21775762,  0.26596868, -0.24535017,  0.00583448,\n",
       "       -0.26596868, -0.27869449, -0.09937106, -0.17743925,  0.24535017,\n",
       "        0.09937106,  0.17743925,  0.27869449, -0.00583448])"
      ]
     },
     "metadata": {},
     "execution_count": 15
    }
   ],
   "metadata": {}
  },
  {
   "cell_type": "code",
   "execution_count": 16,
   "source": [
    "masses=atoms.get_masses()\n",
    "dist=np.zeros((natom,natom,3))\n",
    "for i in range(natom):\n",
    "    for j in range(natom):\n",
    "        rmin=np.zeros(3)\n",
    "        rij=atoms.get_distance(i,j,vector=True)\n",
    "        rij_mic=atoms.get_distance(i,j,mic=True,vector=True)\n",
    "        if(np.linalg.norm(rij_mic)<np.linalg.norm(rij)):\n",
    "            rmin=rij_mic\n",
    "        else:\n",
    "            rmin=rij\n",
    "        dist[i,j]=rmin"
   ],
   "outputs": [],
   "metadata": {}
  },
  {
   "cell_type": "code",
   "execution_count": 19,
   "source": [
    "with open('FORCE_CONSTANTS_2ND','r') as fc:\n",
    "    lines=fc.readlines()\n",
    "\n",
    "    nlineblock=4\n",
    "    fc_all=np.zeros((natom,natom,3,3))\n",
    "    start=1\n",
    "    for i in range(natom):\n",
    "        for j in range(natom):\n",
    "            fc_block=lines[start+1:start+nlineblock]\n",
    "            fc=np.loadtxt(fc_block)\n",
    "            fc_all[i,j]=fc/np.sqrt(masses[i]*masses[j])\n",
    "            #fc_all[i,j]=fc\n",
    "            start=start+nlineblock"
   ],
   "outputs": [],
   "metadata": {}
  },
  {
   "cell_type": "code",
   "execution_count": 20,
   "source": [
    "Rx=dist[:,:,0]\n",
    "Ry=dist[:,:,1]\n",
    "Rz=dist[:,:,2]"
   ],
   "outputs": [],
   "metadata": {}
  },
  {
   "cell_type": "code",
   "execution_count": 21,
   "source": [
    "Vx=np.zeros((natom,natom,3,3))\n",
    "Vy=np.zeros((natom,natom,3,3))\n",
    "Vz=np.zeros((natom,natom,3,3))\n",
    "\n",
    "for i in range(natom):\n",
    "    for j in range(natom):\n",
    "        Vijx=Rx[i,j]*fc_all[i,j]\n",
    "        Vx[i,j]=Vijx\n",
    "\n",
    "        Vijy=Ry[i,j]*fc_all[i,j]\n",
    "        Vy[i,j]=Vijy\n",
    "\n",
    "        Vijz=Rz[i,j]*fc_all[i,j]\n",
    "        Vz[i,j]=Vijz"
   ],
   "outputs": [],
   "metadata": {}
  },
  {
   "cell_type": "code",
   "execution_count": 23,
   "source": [
    "flatVx=np.reshape(Vx.transpose(0,2,1,3),(24,24))\n",
    "flatVy=np.reshape(Vy.transpose(0,2,1,3),(24,24))\n",
    "flatVz=np.reshape(Vz.transpose(0,2,1,3),(24,24))\n",
    "\n",
    "#check\n",
    "GULP_Vijz=np.loadtxt('Vijz.txt').reshape((24,24))\n",
    "np.sum(flatVz-GULP_Vijz)"
   ],
   "outputs": [
    {
     "output_type": "execute_result",
     "data": {
      "text/plain": [
       "-2.7755575615628914e-17"
      ]
     },
     "metadata": {},
     "execution_count": 23
    }
   ],
   "metadata": {}
  },
  {
   "cell_type": "code",
   "execution_count": 25,
   "source": [
    "eigen_Vx=np.dot(eigen_flat.T,flatVx)\n",
    "eigen_Vx.shape"
   ],
   "outputs": [
    {
     "output_type": "execute_result",
     "data": {
      "text/plain": [
       "(24, 24)"
      ]
     },
     "metadata": {},
     "execution_count": 25
    }
   ],
   "metadata": {}
  },
  {
   "cell_type": "code",
   "execution_count": 26,
   "source": [
    "eigen_Vx_eigen=np.dot(eigen_Vx,eigen_flat)"
   ],
   "outputs": [],
   "metadata": {}
  },
  {
   "cell_type": "markdown",
   "source": [
    "It seems the result not matches with that of GULP..."
   ],
   "metadata": {}
  },
  {
   "cell_type": "code",
   "execution_count": 28,
   "source": [
    "np.max(eigen_Vx_eigen)"
   ],
   "outputs": [
    {
     "output_type": "execute_result",
     "data": {
      "text/plain": [
       "0.3704920325297108"
      ]
     },
     "metadata": {},
     "execution_count": 28
    }
   ],
   "metadata": {}
  }
 ],
 "metadata": {
  "orig_nbformat": 4,
  "language_info": {
   "name": "python",
   "version": "3.9.5",
   "mimetype": "text/x-python",
   "codemirror_mode": {
    "name": "ipython",
    "version": 3
   },
   "pygments_lexer": "ipython3",
   "nbconvert_exporter": "python",
   "file_extension": ".py"
  },
  "kernelspec": {
   "name": "python3",
   "display_name": "Python 3.9.5 64-bit ('env_3.9': venv)"
  },
  "interpreter": {
   "hash": "f28014fb09611fa8280d50d19c96de868b70c0c432dcef6642ed055c9deb0d24"
  }
 },
 "nbformat": 4,
 "nbformat_minor": 2
}