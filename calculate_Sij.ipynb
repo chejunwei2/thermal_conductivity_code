{
 "cells": [
  {
   "cell_type": "code",
   "execution_count": 85,
   "source": [
    "import numpy as np\n",
    "\n",
    "#load eigenvector information\n",
    "#for the purpose of easy calculation, here we load structure information\n",
    "\n",
    "from ase.io import read\n",
    "atoms=read('data.vasp',format='vasp')\n",
    "\n",
    "#all atom is in central region by definition\n",
    "#here we assume number of ghost shell is 1\n",
    "\n",
    "#construct the list of vector connecting between each atoms\n",
    "\n",
    "masses=atoms.get_masses()\n",
    "natom=len(atoms.positions)"
   ],
   "outputs": [],
   "metadata": {}
  },
  {
   "cell_type": "code",
   "execution_count": 86,
   "source": [
    "with open('gulp.eig','r') as eig:\n",
    "    lines=eig.readlines()\n",
    "    #header: number of atom, atom position, number of k-point, number of modes\n",
    "    ref_natom=int(lines[0])\n",
    "    if natom!=ref_natom:\n",
    "        assert \"number of atom is different\"\n",
    "    ref_nkpoints=int(lines[natom+1])\n",
    "    if ref_nkpoints!=0:\n",
    "        assert \"number of kpoint is not zero\"\n",
    "    ref_nmodes=int(lines[natom+2])\n",
    "    if ref_nmodes!=3*natom:\n",
    "        assert \"number of modes seems strange... format error?\"\n",
    "    \n",
    "    #lines[natom+3] --> Kpoint coord\n",
    "\n",
    "    start=natom+4\n",
    "    mode_block=natom+10\n",
    "    nmodes=3*natom\n",
    "    omega=np.zeros(nmodes)\n",
    "    eigenvector=np.zeros((nmodes,natom,3))\n",
    "\n",
    "    for imode in range(nmodes):\n",
    "        omega[imode]=float(lines[start+1])\n",
    "        eigenv_mode=np.loadtxt(lines[start+2: start+2+natom])\n",
    "        eigenvector[imode]=eigenv_mode\n",
    "\n",
    "        start=start+2+natom "
   ],
   "outputs": [],
   "metadata": {}
  },
  {
   "cell_type": "code",
   "execution_count": 87,
   "source": [
    "omega"
   ],
   "outputs": [
    {
     "output_type": "execute_result",
     "data": {
      "text/plain": [
       "array([-1.40000000e-05, -6.00000000e-06,  1.40000000e-05,  2.21940168e+02,\n",
       "        2.21940168e+02,  2.21940168e+02,  2.21940168e+02,  2.21940168e+02,\n",
       "        2.21940168e+02,  4.29619339e+02,  4.29619339e+02,  4.29619339e+02,\n",
       "        4.29619339e+02,  4.29619339e+02,  4.29619339e+02,  5.16419661e+02,\n",
       "        5.16419661e+02,  5.16419661e+02,  5.16419661e+02,  5.16419661e+02,\n",
       "        5.16419661e+02,  5.89804580e+02,  5.89804580e+02,  5.89804580e+02])"
      ]
     },
     "metadata": {},
     "execution_count": 87
    }
   ],
   "metadata": {}
  },
  {
   "cell_type": "code",
   "execution_count": 88,
   "source": [
    "eigenvector[0]"
   ],
   "outputs": [
    {
     "output_type": "execute_result",
     "data": {
      "text/plain": [
       "array([[-0.0810933 ,  0.34412729,  0.00053464],\n",
       "       [-0.0810933 ,  0.34412729,  0.00053464],\n",
       "       [-0.0810933 ,  0.34412729,  0.00053464],\n",
       "       [-0.0810933 ,  0.34412729,  0.00053464],\n",
       "       [-0.0810933 ,  0.34412729,  0.00053464],\n",
       "       [-0.0810933 ,  0.34412729,  0.00053464],\n",
       "       [-0.0810933 ,  0.34412729,  0.00053464],\n",
       "       [-0.0810933 ,  0.34412729,  0.00053464]])"
      ]
     },
     "metadata": {},
     "execution_count": 88
    }
   ],
   "metadata": {}
  },
  {
   "cell_type": "code",
   "execution_count": 89,
   "source": [
    "eigenvector[1]"
   ],
   "outputs": [
    {
     "output_type": "execute_result",
     "data": {
      "text/plain": [
       "array([[0.00939437, 0.0016647 , 0.35342464],\n",
       "       [0.00939437, 0.0016647 , 0.35342464],\n",
       "       [0.00939437, 0.0016647 , 0.35342464],\n",
       "       [0.00939437, 0.0016647 , 0.35342464],\n",
       "       [0.00939437, 0.0016647 , 0.35342464],\n",
       "       [0.00939437, 0.0016647 , 0.35342464],\n",
       "       [0.00939437, 0.0016647 , 0.35342464],\n",
       "       [0.00939437, 0.0016647 , 0.35342464]])"
      ]
     },
     "metadata": {},
     "execution_count": 89
    }
   ],
   "metadata": {}
  },
  {
   "cell_type": "code",
   "execution_count": 90,
   "source": [
    "eigenvector.T[0]"
   ],
   "outputs": [
    {
     "output_type": "execute_result",
     "data": {
      "text/plain": [
       "array([[-0.0810933 ,  0.00939437, -0.34399945,  0.06927493, -0.13156827,\n",
       "        -0.34910638,  0.10340464, -0.1449356 ,  0.27261081,  0.27645266,\n",
       "        -0.04594068, -0.01720995,  0.15691473, -0.27834608, -0.26280873,\n",
       "        -0.10807929,  0.31187346, -0.1074178 , -0.05337865,  0.16864587,\n",
       "        -0.31340791,  0.        ,  0.0060635 , -0.35350139],\n",
       "       [-0.0810933 ,  0.00939437, -0.34399945, -0.06927493,  0.13156827,\n",
       "         0.34910638, -0.10340464,  0.1449356 , -0.27261081,  0.27645266,\n",
       "        -0.04594068, -0.01720995,  0.15691473, -0.27834608, -0.26280873,\n",
       "         0.10807929, -0.31187346,  0.1074178 ,  0.05337865, -0.16864587,\n",
       "         0.31340791, -0.        ,  0.0060635 , -0.35350139],\n",
       "       [-0.0810933 ,  0.00939437, -0.34399945,  0.03593061,  0.06635197,\n",
       "        -0.15144365, -0.2952307 ,  0.34465896,  0.12417834, -0.27645266,\n",
       "         0.04594068,  0.01720995, -0.15691473,  0.27834608,  0.26280873,\n",
       "         0.25401387,  0.15020433,  0.11000857, -0.37702497, -0.08185595,\n",
       "         0.04433404,  0.        ,  0.0060635 , -0.35350139],\n",
       "       [-0.0810933 ,  0.00939437, -0.34399945, -0.03593061, -0.06635197,\n",
       "         0.15144365,  0.2952307 , -0.34465896, -0.12417834, -0.27645266,\n",
       "         0.04594068,  0.01720995, -0.15691473,  0.27834608,  0.26280873,\n",
       "        -0.25401387, -0.15020433, -0.11000857,  0.37702497,  0.08185595,\n",
       "        -0.04433404, -0.        ,  0.0060635 , -0.35350139],\n",
       "       [-0.0810933 ,  0.00939437, -0.34399945,  0.26596868,  0.26864983,\n",
       "        -0.04088074, -0.19988014, -0.25130382, -0.04807304,  0.00146087,\n",
       "         0.07390204, -0.01714621,  0.06513864,  0.35034729, -0.34242677,\n",
       "        -0.21036694,  0.08291932,  0.44391123,  0.02522106, -0.02961305,\n",
       "        -0.01731836, -0.        , -0.0060635 ,  0.35350139],\n",
       "       [-0.0810933 ,  0.00939437, -0.34399945, -0.26596868, -0.26864983,\n",
       "         0.04088074,  0.19988014,  0.25130382,  0.04807304,  0.00146087,\n",
       "         0.07390204, -0.01714621,  0.06513864,  0.35034729, -0.34242677,\n",
       "         0.21036694, -0.08291932, -0.44391123, -0.02522106,  0.02961305,\n",
       "         0.01731836, -0.        , -0.0060635 ,  0.35350139],\n",
       "       [-0.0810933 ,  0.00939437, -0.34399945, -0.17743925,  0.38839862,\n",
       "        -0.01080812,  0.19291902,  0.04347063,  0.16863441, -0.00146087,\n",
       "        -0.07390204,  0.01714621, -0.06513864, -0.35034729,  0.34242677,\n",
       "         0.0356516 , -0.00678338,  0.05813659, -0.03454872,  0.44813223,\n",
       "         0.20805523, -0.        , -0.0060635 ,  0.35350139],\n",
       "       [-0.0810933 ,  0.00939437, -0.34399945,  0.17743925, -0.38839862,\n",
       "         0.01080812, -0.19291902, -0.04347063, -0.16863441, -0.00146087,\n",
       "        -0.07390204,  0.01714621, -0.06513864, -0.35034729,  0.34242677,\n",
       "        -0.0356516 ,  0.00678338, -0.05813659,  0.03454872, -0.44813223,\n",
       "        -0.20805523, -0.        , -0.0060635 ,  0.35350139]])"
      ]
     },
     "metadata": {},
     "execution_count": 90
    }
   ],
   "metadata": {}
  },
  {
   "cell_type": "code",
   "execution_count": 91,
   "source": [
    "eigen_flat=np.reshape(eigenvector,(nmodes, natom*3))"
   ],
   "outputs": [],
   "metadata": {}
  },
  {
   "cell_type": "code",
   "execution_count": 92,
   "source": [
    "GULP_eigen=np.loadtxt('eigr.dat').reshape(natom*3,nmodes)"
   ],
   "outputs": [],
   "metadata": {}
  },
  {
   "cell_type": "code",
   "execution_count": 93,
   "source": [
    "eigen_flat.T[0]"
   ],
   "outputs": [
    {
     "output_type": "execute_result",
     "data": {
      "text/plain": [
       "array([-0.0810933 ,  0.00939437, -0.34399945,  0.06927493, -0.13156827,\n",
       "       -0.34910638,  0.10340464, -0.1449356 ,  0.27261081,  0.27645266,\n",
       "       -0.04594068, -0.01720995,  0.15691473, -0.27834608, -0.26280873,\n",
       "       -0.10807929,  0.31187346, -0.1074178 , -0.05337865,  0.16864587,\n",
       "       -0.31340791,  0.        ,  0.0060635 , -0.35350139])"
      ]
     },
     "metadata": {},
     "execution_count": 93
    }
   ],
   "metadata": {}
  },
  {
   "cell_type": "code",
   "execution_count": 94,
   "source": [
    "GULP_eigen[0]"
   ],
   "outputs": [
    {
     "output_type": "execute_result",
     "data": {
      "text/plain": [
       "array([-8.10932971e-02,  9.39437410e-03, -3.43999452e-01,  6.92749345e-02,\n",
       "       -1.31568273e-01, -3.49106384e-01,  1.03404644e-01, -1.44935604e-01,\n",
       "        2.72610814e-01,  2.76452656e-01, -4.59406784e-02, -1.72099550e-02,\n",
       "        1.56914734e-01, -2.78346076e-01, -2.62808730e-01, -1.08079287e-01,\n",
       "        3.11873457e-01, -1.07417803e-01, -5.33786463e-02,  1.68645874e-01,\n",
       "       -3.13407912e-01,  2.23281552e-15,  6.06350434e-03, -3.53501392e-01])"
      ]
     },
     "metadata": {},
     "execution_count": 94
    }
   ],
   "metadata": {}
  },
  {
   "cell_type": "code",
   "execution_count": 95,
   "source": [
    "np.where(np.abs(eigen_flat.T-GULP_eigen) >0.001)"
   ],
   "outputs": [
    {
     "output_type": "execute_result",
     "data": {
      "text/plain": [
       "(array([], dtype=int64), array([], dtype=int64))"
      ]
     },
     "metadata": {},
     "execution_count": 95
    }
   ],
   "metadata": {}
  },
  {
   "cell_type": "code",
   "execution_count": 96,
   "source": [
    "masses=atoms.get_masses()\n",
    "dist=np.zeros((natom,natom,3))\n",
    "#only consider lower triangle\n",
    "#find_nearest seems only works for lower triangle\n",
    "from nearest import find_nearest\n",
    "for i in range(natom):\n",
    "    for j in range(i):\n",
    "        xdc,ydc,zdc,rmin=find_nearest(atoms,i,j)\n",
    "        dist[i,j]=np.array([xdc,ydc,zdc])"
   ],
   "outputs": [],
   "metadata": {}
  },
  {
   "cell_type": "code",
   "execution_count": 97,
   "source": [
    "with open('FORCE_CONSTANTS_2ND','r') as fc:\n",
    "    lines=fc.readlines()\n",
    "\n",
    "    nlineblock=4\n",
    "    fc_all=np.zeros((natom,natom,3,3))\n",
    "    start=1\n",
    "    for i in range(natom):\n",
    "        for j in range(natom):\n",
    "            fc_block=lines[start+1:start+nlineblock]\n",
    "            fc=np.loadtxt(fc_block)\n",
    "            fc_all[i,j]=fc/np.sqrt(masses[i]*masses[j])\n",
    "            #fc_all[i,j]=fc\n",
    "            start=start+nlineblock"
   ],
   "outputs": [],
   "metadata": {}
  },
  {
   "cell_type": "code",
   "execution_count": 98,
   "source": [
    "Rx=dist[:,:,0]\n",
    "Ry=dist[:,:,1]\n",
    "Rz=dist[:,:,2]"
   ],
   "outputs": [],
   "metadata": {}
  },
  {
   "cell_type": "code",
   "execution_count": 99,
   "source": [
    "Vx=np.zeros((natom,natom,3,3))\n",
    "Vy=np.zeros((natom,natom,3,3))\n",
    "Vz=np.zeros((natom,natom,3,3))\n",
    "\n",
    "#loop only for lower triangle\n",
    "#make sure that Vij=-Vji\n",
    "for i in range(natom):\n",
    "    for j in range(i):\n",
    "        Vijx=-Rx[i,j]*fc_all[i,j]\n",
    "        Vx[i,j]=Vijx\n",
    "        Vx[j,i]=-Vijx\n",
    "\n",
    "        Vijy=-Ry[i,j]*fc_all[i,j]\n",
    "        Vy[i,j]=Vijy\n",
    "        Vy[j,i]=-Vijy\n",
    "\n",
    "        Vijz=-Rz[i,j]*fc_all[i,j]\n",
    "        Vz[i,j]=Vijz\n",
    "        Vz[j,i]=-Vijz"
   ],
   "outputs": [],
   "metadata": {}
  },
  {
   "cell_type": "code",
   "execution_count": 100,
   "source": [
    "flatVx=np.reshape(Vx.transpose(0,2,1,3),(24,24))\n",
    "flatVy=np.reshape(Vy.transpose(0,2,1,3),(24,24))\n",
    "flatVz=np.reshape(Vz.transpose(0,2,1,3),(24,24))\n",
    "\n",
    "#check\n",
    "GULP_Vijz=np.loadtxt('Vijz.dat').reshape((24,24))\n",
    "np.max(flatVz-GULP_Vijz)"
   ],
   "outputs": [
    {
     "output_type": "execute_result",
     "data": {
      "text/plain": [
       "3.878832717502112e-05"
      ]
     },
     "metadata": {},
     "execution_count": 100
    }
   ],
   "metadata": {}
  },
  {
   "cell_type": "code",
   "execution_count": 101,
   "source": [
    "tmp1=np.dot(flatVx,eigen_flat.T)\n",
    "EVijx=np.dot(eigen_flat,tmp1)"
   ],
   "outputs": [],
   "metadata": {}
  },
  {
   "cell_type": "markdown",
   "source": [
    ">It seems the result not matches with that of GULP...\n",
    "--> The reason was the different order of eigenvector in GULP and GULP output"
   ],
   "metadata": {}
  },
  {
   "cell_type": "code",
   "execution_count": 102,
   "source": [
    "EVijx[0]"
   ],
   "outputs": [
    {
     "output_type": "execute_result",
     "data": {
      "text/plain": [
       "array([-1.77966441e-18,  7.58523517e-18, -4.59111816e-18,  3.40521112e-02,\n",
       "        5.52795311e-03, -9.94819808e-03,  2.99903159e-02,  2.31202774e-02,\n",
       "       -1.78086130e-02, -4.80588501e-03, -4.83528387e-04,  5.94111969e-04,\n",
       "       -3.83991007e-03, -1.24509784e-03,  1.04661771e-02, -3.71153966e-02,\n",
       "       -1.66389225e-02, -1.23724469e-02, -3.43425065e-02, -1.02510014e-03,\n",
       "        5.77989811e-03,  5.30290343e-01,  8.23743825e-04,  1.41294230e-05])"
      ]
     },
     "metadata": {},
     "execution_count": 102
    }
   ],
   "metadata": {}
  },
  {
   "cell_type": "code",
   "execution_count": 103,
   "source": [
    "GULP_Vijx_aftermatp=np.loadtxt('Vijx_aftermatpro.dat').reshape(24,24)"
   ],
   "outputs": [],
   "metadata": {}
  },
  {
   "cell_type": "code",
   "execution_count": null,
   "source": [
    "np.where(np.abs(EVijx-GULP_Vijx_aftermatp) > 0.001)"
   ],
   "outputs": [],
   "metadata": {}
  }
 ],
 "metadata": {
  "orig_nbformat": 4,
  "language_info": {
   "name": "python",
   "version": "3.9.5",
   "mimetype": "text/x-python",
   "codemirror_mode": {
    "name": "ipython",
    "version": 3
   },
   "pygments_lexer": "ipython3",
   "nbconvert_exporter": "python",
   "file_extension": ".py"
  },
  "kernelspec": {
   "name": "python3",
   "display_name": "Python 3.9.5 64-bit ('env_3.9': venv)"
  },
  "interpreter": {
   "hash": "f28014fb09611fa8280d50d19c96de868b70c0c432dcef6642ed055c9deb0d24"
  }
 },
 "nbformat": 4,
 "nbformat_minor": 2
}