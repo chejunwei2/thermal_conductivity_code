{
 "cells": [
  {
   "cell_type": "code",
   "execution_count": 30,
   "source": [
    "import phonopy\n",
    "\n",
    "phonon = phonopy.load(supercell_matrix=[1, 1, 1],\n",
    "                      primitive_matrix=[[1, 0, 0],\n",
    "                                         [0, 1, 0],\n",
    "                                         [0, 0, 1]],\n",
    "                      unitcell_filename=\"POSCAR\",\n",
    "                      force_constants_filename=\"force_constants.hdf5\")"
   ],
   "outputs": [],
   "metadata": {}
  },
  {
   "cell_type": "code",
   "execution_count": 31,
   "source": [
    "print(phonon.primitive)"
   ],
   "outputs": [
    {
     "output_type": "stream",
     "name": "stdout",
     "text": [
      "lattice:\n",
      "- [     5.450000000000000,     0.000000000000000,     0.000000000000000 ] # a\n",
      "- [     0.000000000000000,     5.450000000000000,     0.000000000000000 ] # b\n",
      "- [     0.000000000000000,     0.000000000000000,     5.450000000000000 ] # c\n",
      "points:\n",
      "- symbol: Si # 1\n",
      "  coordinates: [  0.875000000000000,  0.875000000000000,  0.875000000000000 ]\n",
      "  mass: 28.085500\n",
      "- symbol: Si # 2\n",
      "  coordinates: [  0.875000000000000,  0.375000000000000,  0.375000000000000 ]\n",
      "  mass: 28.085500\n",
      "- symbol: Si # 3\n",
      "  coordinates: [  0.375000000000000,  0.875000000000000,  0.375000000000000 ]\n",
      "  mass: 28.085500\n",
      "- symbol: Si # 4\n",
      "  coordinates: [  0.375000000000000,  0.375000000000000,  0.875000000000000 ]\n",
      "  mass: 28.085500\n",
      "- symbol: Si # 5\n",
      "  coordinates: [  0.125000000000000,  0.125000000000000,  0.125000000000000 ]\n",
      "  mass: 28.085500\n",
      "- symbol: Si # 6\n",
      "  coordinates: [  0.125000000000000,  0.625000000000000,  0.625000000000000 ]\n",
      "  mass: 28.085500\n",
      "- symbol: Si # 7\n",
      "  coordinates: [  0.625000000000000,  0.125000000000000,  0.625000000000000 ]\n",
      "  mass: 28.085500\n",
      "- symbol: Si # 8\n",
      "  coordinates: [  0.625000000000000,  0.625000000000000,  0.125000000000000 ]\n",
      "  mass: 28.085500\n"
     ]
    }
   ],
   "metadata": {}
  },
  {
   "cell_type": "code",
   "execution_count": 32,
   "source": [
    "print(phonon.supercell)"
   ],
   "outputs": [
    {
     "output_type": "stream",
     "name": "stdout",
     "text": [
      "lattice:\n",
      "- [     5.450000000000000,     0.000000000000000,     0.000000000000000 ] # a\n",
      "- [     0.000000000000000,     5.450000000000000,     0.000000000000000 ] # b\n",
      "- [     0.000000000000000,     0.000000000000000,     5.450000000000000 ] # c\n",
      "points:\n",
      "- symbol: Si # 1\n",
      "  coordinates: [  0.875000000000000,  0.875000000000000,  0.875000000000000 ]\n",
      "  mass: 28.085500\n",
      "- symbol: Si # 2\n",
      "  coordinates: [  0.875000000000000,  0.375000000000000,  0.375000000000000 ]\n",
      "  mass: 28.085500\n",
      "- symbol: Si # 3\n",
      "  coordinates: [  0.375000000000000,  0.875000000000000,  0.375000000000000 ]\n",
      "  mass: 28.085500\n",
      "- symbol: Si # 4\n",
      "  coordinates: [  0.375000000000000,  0.375000000000000,  0.875000000000000 ]\n",
      "  mass: 28.085500\n",
      "- symbol: Si # 5\n",
      "  coordinates: [  0.125000000000000,  0.125000000000000,  0.125000000000000 ]\n",
      "  mass: 28.085500\n",
      "- symbol: Si # 6\n",
      "  coordinates: [  0.125000000000000,  0.625000000000000,  0.625000000000000 ]\n",
      "  mass: 28.085500\n",
      "- symbol: Si # 7\n",
      "  coordinates: [  0.625000000000000,  0.125000000000000,  0.625000000000000 ]\n",
      "  mass: 28.085500\n",
      "- symbol: Si # 8\n",
      "  coordinates: [  0.625000000000000,  0.625000000000000,  0.125000000000000 ]\n",
      "  mass: 28.085500\n"
     ]
    }
   ],
   "metadata": {}
  },
  {
   "cell_type": "code",
   "execution_count": 33,
   "source": [
    "mesh = [1, 1, 1]\n",
    "phonon.run_mesh(mesh, with_eigenvectors=True)"
   ],
   "outputs": [],
   "metadata": {}
  },
  {
   "cell_type": "code",
   "execution_count": 34,
   "source": [
    "mesh_dict = phonon.get_mesh_dict()\n",
    "frequencies = mesh_dict['frequencies']\n",
    "eigenvectors = mesh_dict['eigenvectors']"
   ],
   "outputs": [],
   "metadata": {}
  },
  {
   "cell_type": "code",
   "execution_count": 35,
   "source": [
    "frequencies"
   ],
   "outputs": [
    {
     "output_type": "execute_result",
     "data": {
      "text/plain": [
       "array([[1.52040650e-07, 2.41322701e-07, 2.73252130e-07, 6.65389129e+00,\n",
       "        6.65389129e+00, 6.65389129e+00, 6.65389129e+00, 6.65389129e+00,\n",
       "        6.65389129e+00, 1.28808164e+01, 1.28808164e+01, 1.28808164e+01,\n",
       "        1.28808164e+01, 1.28808164e+01, 1.28808164e+01, 1.54834050e+01,\n",
       "        1.54834050e+01, 1.54834050e+01, 1.54834050e+01, 1.54834050e+01,\n",
       "        1.54834050e+01, 1.76834046e+01, 1.76834046e+01, 1.76834046e+01]])"
      ]
     },
     "metadata": {},
     "execution_count": 35
    }
   ],
   "metadata": {}
  },
  {
   "cell_type": "code",
   "execution_count": 36,
   "source": [
    "eigenvectors.shape"
   ],
   "outputs": [
    {
     "output_type": "execute_result",
     "data": {
      "text/plain": [
       "(1, 24, 24)"
      ]
     },
     "metadata": {},
     "execution_count": 36
    }
   ],
   "metadata": {}
  },
  {
   "cell_type": "code",
   "execution_count": 41,
   "source": [
    "eigenvectors[0,:,0].reshape((8,3))"
   ],
   "outputs": [
    {
     "output_type": "execute_result",
     "data": {
      "text/plain": [
       "array([[-0.03287924+0.j, -0.07239675+0.j, -0.34449625+0.j],\n",
       "       [-0.03287924+0.j, -0.07239675+0.j, -0.34449625+0.j],\n",
       "       [-0.03287924+0.j, -0.07239675+0.j, -0.34449625+0.j],\n",
       "       [-0.03287924+0.j, -0.07239675+0.j, -0.34449625+0.j],\n",
       "       [-0.03287924+0.j, -0.07239675+0.j, -0.34449625+0.j],\n",
       "       [-0.03287924+0.j, -0.07239675+0.j, -0.34449625+0.j],\n",
       "       [-0.03287924+0.j, -0.07239675+0.j, -0.34449625+0.j],\n",
       "       [-0.03287924+0.j, -0.07239675+0.j, -0.34449625+0.j]])"
      ]
     },
     "metadata": {},
     "execution_count": 41
    }
   ],
   "metadata": {}
  },
  {
   "cell_type": "code",
   "execution_count": 42,
   "source": [
    "eigenvectors[0,:,1].reshape((8,3))"
   ],
   "outputs": [
    {
     "output_type": "execute_result",
     "data": {
      "text/plain": [
       "array([[ 0.00406757+0.j, -0.34605068+0.j,  0.0723352 +0.j],\n",
       "       [ 0.00406757+0.j, -0.34605068+0.j,  0.0723352 +0.j],\n",
       "       [ 0.00406757+0.j, -0.34605068+0.j,  0.0723352 +0.j],\n",
       "       [ 0.00406757+0.j, -0.34605068+0.j,  0.0723352 +0.j],\n",
       "       [ 0.00406757+0.j, -0.34605068+0.j,  0.0723352 +0.j],\n",
       "       [ 0.00406757+0.j, -0.34605068+0.j,  0.0723352 +0.j],\n",
       "       [ 0.00406757+0.j, -0.34605068+0.j,  0.0723352 +0.j],\n",
       "       [ 0.00406757+0.j, -0.34605068+0.j,  0.0723352 +0.j]])"
      ]
     },
     "metadata": {},
     "execution_count": 42
    }
   ],
   "metadata": {}
  },
  {
   "cell_type": "code",
   "execution_count": 43,
   "source": [
    "eigenvectors[0,:,4].reshape((8,3))"
   ],
   "outputs": [
    {
     "output_type": "execute_result",
     "data": {
      "text/plain": [
       "array([[ 0.04558229+0.j,  0.30842064+0.j, -0.29828543+0.j],\n",
       "       [-0.04558229+0.j,  0.09408045+0.j,  0.21457884+0.j],\n",
       "       [-0.09449635+0.j, -0.30842064+0.j, -0.21457884+0.j],\n",
       "       [ 0.09449635+0.j, -0.09408045+0.j,  0.29828543+0.j],\n",
       "       [-0.14926204+0.j,  0.02818602+0.j,  0.17679352+0.j],\n",
       "       [ 0.14926204+0.j, -0.11189261+0.j,  0.22570757+0.j],\n",
       "       [-0.36360223+0.j, -0.02818602+0.j, -0.22570757+0.j],\n",
       "       [ 0.36360223+0.j,  0.11189261+0.j, -0.17679352+0.j]])"
      ]
     },
     "metadata": {},
     "execution_count": 43
    }
   ],
   "metadata": {}
  },
  {
   "cell_type": "code",
   "execution_count": 44,
   "source": [
    "eigenvectors[0,:,23].reshape((8,3))"
   ],
   "outputs": [
    {
     "output_type": "execute_result",
     "data": {
      "text/plain": [
       "array([[-0.32754772+0.j,  0.00906384+0.j, -0.13277928+0.j],\n",
       "       [-0.32754772+0.j,  0.00906384+0.j, -0.13277928+0.j],\n",
       "       [-0.32754772+0.j,  0.00906384+0.j, -0.13277928+0.j],\n",
       "       [-0.32754772+0.j,  0.00906384+0.j, -0.13277928+0.j],\n",
       "       [ 0.32754772+0.j, -0.00906384+0.j,  0.13277928+0.j],\n",
       "       [ 0.32754772+0.j, -0.00906384+0.j,  0.13277928+0.j],\n",
       "       [ 0.32754772+0.j, -0.00906384+0.j,  0.13277928+0.j],\n",
       "       [ 0.32754772+0.j, -0.00906384+0.j,  0.13277928+0.j]])"
      ]
     },
     "metadata": {},
     "execution_count": 44
    }
   ],
   "metadata": {}
  },
  {
   "cell_type": "markdown",
   "source": [
    "縮退しているから固有ベクトルのとり方に任意性があってなかなか比較はしにくい。\n",
    "frquencyは単位が違うので変換する"
   ],
   "metadata": {}
  }
 ],
 "metadata": {
  "orig_nbformat": 4,
  "language_info": {
   "name": "python",
   "version": "3.9.5",
   "mimetype": "text/x-python",
   "codemirror_mode": {
    "name": "ipython",
    "version": 3
   },
   "pygments_lexer": "ipython3",
   "nbconvert_exporter": "python",
   "file_extension": ".py"
  },
  "kernelspec": {
   "name": "python3",
   "display_name": "Python 3.9.5 64-bit ('env_3.9': venv)"
  },
  "interpreter": {
   "hash": "f28014fb09611fa8280d50d19c96de868b70c0c432dcef6642ed055c9deb0d24"
  }
 },
 "nbformat": 4,
 "nbformat_minor": 2
}