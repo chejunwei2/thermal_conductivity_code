{
 "cells": [
  {
   "cell_type": "code",
   "execution_count": 2,
   "source": [
    "import phonopy\n",
    "\n",
    "phonon = phonopy.load(supercell_matrix=[1, 1, 1],\n",
    "                      primitive_matrix=[[1, 0, 0],\n",
    "                                         [0, 1, 0],\n",
    "                                         [0, 0, 1]],\n",
    "                      unitcell_filename=\"POSCAR\",\n",
    "                      force_constants_filename=\"force_constants.hdf5\")"
   ],
   "outputs": [],
   "metadata": {}
  },
  {
   "cell_type": "markdown",
   "source": [
    "primitive cellが自動で設定されないように手動で単位行列を入れておく"
   ],
   "metadata": {}
  },
  {
   "cell_type": "code",
   "execution_count": 3,
   "source": [
    "print(phonon.primitive)"
   ],
   "outputs": [
    {
     "output_type": "stream",
     "name": "stdout",
     "text": [
      "lattice:\n",
      "- [     5.450000000000000,     0.000000000000000,     0.000000000000000 ] # a\n",
      "- [     0.000000000000000,     5.450000000000000,     0.000000000000000 ] # b\n",
      "- [     0.000000000000000,     0.000000000000000,     5.450000000000000 ] # c\n",
      "points:\n",
      "- symbol: Si # 1\n",
      "  coordinates: [  0.875000000000000,  0.875000000000000,  0.875000000000000 ]\n",
      "  mass: 28.085500\n",
      "- symbol: Si # 2\n",
      "  coordinates: [  0.875000000000000,  0.375000000000000,  0.375000000000000 ]\n",
      "  mass: 28.085500\n",
      "- symbol: Si # 3\n",
      "  coordinates: [  0.375000000000000,  0.875000000000000,  0.375000000000000 ]\n",
      "  mass: 28.085500\n",
      "- symbol: Si # 4\n",
      "  coordinates: [  0.375000000000000,  0.375000000000000,  0.875000000000000 ]\n",
      "  mass: 28.085500\n",
      "- symbol: Si # 5\n",
      "  coordinates: [  0.125000000000000,  0.125000000000000,  0.125000000000000 ]\n",
      "  mass: 28.085500\n",
      "- symbol: Si # 6\n",
      "  coordinates: [  0.125000000000000,  0.625000000000000,  0.625000000000000 ]\n",
      "  mass: 28.085500\n",
      "- symbol: Si # 7\n",
      "  coordinates: [  0.625000000000000,  0.125000000000000,  0.625000000000000 ]\n",
      "  mass: 28.085500\n",
      "- symbol: Si # 8\n",
      "  coordinates: [  0.625000000000000,  0.625000000000000,  0.125000000000000 ]\n",
      "  mass: 28.085500\n"
     ]
    }
   ],
   "metadata": {}
  },
  {
   "cell_type": "code",
   "execution_count": 4,
   "source": [
    "print(phonon.supercell)"
   ],
   "outputs": [
    {
     "output_type": "stream",
     "name": "stdout",
     "text": [
      "lattice:\n",
      "- [     5.450000000000000,     0.000000000000000,     0.000000000000000 ] # a\n",
      "- [     0.000000000000000,     5.450000000000000,     0.000000000000000 ] # b\n",
      "- [     0.000000000000000,     0.000000000000000,     5.450000000000000 ] # c\n",
      "points:\n",
      "- symbol: Si # 1\n",
      "  coordinates: [  0.875000000000000,  0.875000000000000,  0.875000000000000 ]\n",
      "  mass: 28.085500\n",
      "- symbol: Si # 2\n",
      "  coordinates: [  0.875000000000000,  0.375000000000000,  0.375000000000000 ]\n",
      "  mass: 28.085500\n",
      "- symbol: Si # 3\n",
      "  coordinates: [  0.375000000000000,  0.875000000000000,  0.375000000000000 ]\n",
      "  mass: 28.085500\n",
      "- symbol: Si # 4\n",
      "  coordinates: [  0.375000000000000,  0.375000000000000,  0.875000000000000 ]\n",
      "  mass: 28.085500\n",
      "- symbol: Si # 5\n",
      "  coordinates: [  0.125000000000000,  0.125000000000000,  0.125000000000000 ]\n",
      "  mass: 28.085500\n",
      "- symbol: Si # 6\n",
      "  coordinates: [  0.125000000000000,  0.625000000000000,  0.625000000000000 ]\n",
      "  mass: 28.085500\n",
      "- symbol: Si # 7\n",
      "  coordinates: [  0.625000000000000,  0.125000000000000,  0.625000000000000 ]\n",
      "  mass: 28.085500\n",
      "- symbol: Si # 8\n",
      "  coordinates: [  0.625000000000000,  0.625000000000000,  0.125000000000000 ]\n",
      "  mass: 28.085500\n"
     ]
    }
   ],
   "metadata": {}
  },
  {
   "cell_type": "code",
   "execution_count": 5,
   "source": [
    "mesh = [1, 1, 1]\n",
    "phonon.run_mesh(mesh, with_eigenvectors=True)"
   ],
   "outputs": [],
   "metadata": {}
  },
  {
   "cell_type": "code",
   "execution_count": 6,
   "source": [
    "mesh_dict = phonon.get_mesh_dict()\n",
    "frequencies = mesh_dict['frequencies']\n",
    "eigenvectors = mesh_dict['eigenvectors']"
   ],
   "outputs": [],
   "metadata": {}
  },
  {
   "cell_type": "code",
   "execution_count": 7,
   "source": [
    "frequencies"
   ],
   "outputs": [
    {
     "output_type": "execute_result",
     "data": {
      "text/plain": [
       "array([[1.52040650e-07, 2.41322701e-07, 2.73252130e-07, 6.65389129e+00,\n",
       "        6.65389129e+00, 6.65389129e+00, 6.65389129e+00, 6.65389129e+00,\n",
       "        6.65389129e+00, 1.28808164e+01, 1.28808164e+01, 1.28808164e+01,\n",
       "        1.28808164e+01, 1.28808164e+01, 1.28808164e+01, 1.54834050e+01,\n",
       "        1.54834050e+01, 1.54834050e+01, 1.54834050e+01, 1.54834050e+01,\n",
       "        1.54834050e+01, 1.76834046e+01, 1.76834046e+01, 1.76834046e+01]])"
      ]
     },
     "metadata": {},
     "execution_count": 7
    }
   ],
   "metadata": {}
  },
  {
   "cell_type": "code",
   "execution_count": 8,
   "source": [
    "eigenvectors.shape"
   ],
   "outputs": [
    {
     "output_type": "execute_result",
     "data": {
      "text/plain": [
       "(1, 24, 24)"
      ]
     },
     "metadata": {},
     "execution_count": 8
    }
   ],
   "metadata": {}
  },
  {
   "cell_type": "code",
   "execution_count": 9,
   "source": [
    "eigenvectors[0,:,0].reshape((8,3))"
   ],
   "outputs": [
    {
     "output_type": "execute_result",
     "data": {
      "text/plain": [
       "array([[-0.03287924+0.j, -0.07239675+0.j, -0.34449625+0.j],\n",
       "       [-0.03287924+0.j, -0.07239675+0.j, -0.34449625+0.j],\n",
       "       [-0.03287924+0.j, -0.07239675+0.j, -0.34449625+0.j],\n",
       "       [-0.03287924+0.j, -0.07239675+0.j, -0.34449625+0.j],\n",
       "       [-0.03287924+0.j, -0.07239675+0.j, -0.34449625+0.j],\n",
       "       [-0.03287924+0.j, -0.07239675+0.j, -0.34449625+0.j],\n",
       "       [-0.03287924+0.j, -0.07239675+0.j, -0.34449625+0.j],\n",
       "       [-0.03287924+0.j, -0.07239675+0.j, -0.34449625+0.j]])"
      ]
     },
     "metadata": {},
     "execution_count": 9
    }
   ],
   "metadata": {}
  },
  {
   "cell_type": "code",
   "execution_count": 10,
   "source": [
    "eigenvectors[0,:,1].reshape((8,3))"
   ],
   "outputs": [
    {
     "output_type": "execute_result",
     "data": {
      "text/plain": [
       "array([[ 0.00406757+0.j, -0.34605068+0.j,  0.0723352 +0.j],\n",
       "       [ 0.00406757+0.j, -0.34605068+0.j,  0.0723352 +0.j],\n",
       "       [ 0.00406757+0.j, -0.34605068+0.j,  0.0723352 +0.j],\n",
       "       [ 0.00406757+0.j, -0.34605068+0.j,  0.0723352 +0.j],\n",
       "       [ 0.00406757+0.j, -0.34605068+0.j,  0.0723352 +0.j],\n",
       "       [ 0.00406757+0.j, -0.34605068+0.j,  0.0723352 +0.j],\n",
       "       [ 0.00406757+0.j, -0.34605068+0.j,  0.0723352 +0.j],\n",
       "       [ 0.00406757+0.j, -0.34605068+0.j,  0.0723352 +0.j]])"
      ]
     },
     "metadata": {},
     "execution_count": 10
    }
   ],
   "metadata": {}
  },
  {
   "cell_type": "code",
   "execution_count": 11,
   "source": [
    "eigenvectors[0,:,4].reshape((8,3))"
   ],
   "outputs": [
    {
     "output_type": "execute_result",
     "data": {
      "text/plain": [
       "array([[ 0.04558229+0.j,  0.30842064+0.j, -0.29828543+0.j],\n",
       "       [-0.04558229+0.j,  0.09408045+0.j,  0.21457884+0.j],\n",
       "       [-0.09449635+0.j, -0.30842064+0.j, -0.21457884+0.j],\n",
       "       [ 0.09449635+0.j, -0.09408045+0.j,  0.29828543+0.j],\n",
       "       [-0.14926204+0.j,  0.02818602+0.j,  0.17679352+0.j],\n",
       "       [ 0.14926204+0.j, -0.11189261+0.j,  0.22570757+0.j],\n",
       "       [-0.36360223+0.j, -0.02818602+0.j, -0.22570757+0.j],\n",
       "       [ 0.36360223+0.j,  0.11189261+0.j, -0.17679352+0.j]])"
      ]
     },
     "metadata": {},
     "execution_count": 11
    }
   ],
   "metadata": {}
  },
  {
   "cell_type": "code",
   "execution_count": 12,
   "source": [
    "eigenvectors[0,:,23].reshape((8,3))"
   ],
   "outputs": [
    {
     "output_type": "execute_result",
     "data": {
      "text/plain": [
       "array([[-0.32754772+0.j,  0.00906384+0.j, -0.13277928+0.j],\n",
       "       [-0.32754772+0.j,  0.00906384+0.j, -0.13277928+0.j],\n",
       "       [-0.32754772+0.j,  0.00906384+0.j, -0.13277928+0.j],\n",
       "       [-0.32754772+0.j,  0.00906384+0.j, -0.13277928+0.j],\n",
       "       [ 0.32754772+0.j, -0.00906384+0.j,  0.13277928+0.j],\n",
       "       [ 0.32754772+0.j, -0.00906384+0.j,  0.13277928+0.j],\n",
       "       [ 0.32754772+0.j, -0.00906384+0.j,  0.13277928+0.j],\n",
       "       [ 0.32754772+0.j, -0.00906384+0.j,  0.13277928+0.j]])"
      ]
     },
     "metadata": {},
     "execution_count": 12
    }
   ],
   "metadata": {}
  },
  {
   "cell_type": "markdown",
   "source": [
    "縮退しているから固有ベクトルのとり方に任意性があってなかなか比較はしにくい。\n",
    "frquencyは単位が違うので変換する\n",
    "\n",
    "1THz=33.3 cm-1"
   ],
   "metadata": {}
  },
  {
   "cell_type": "code",
   "execution_count": 13,
   "source": [
    "√*33.3"
   ],
   "outputs": [
    {
     "output_type": "execute_result",
     "data": {
      "text/plain": [
       "array([[5.06295363e-06, 8.03604594e-06, 9.09929593e-06, 2.21574580e+02,\n",
       "        2.21574580e+02, 2.21574580e+02, 2.21574580e+02, 2.21574580e+02,\n",
       "        2.21574580e+02, 4.28931187e+02, 4.28931187e+02, 4.28931187e+02,\n",
       "        4.28931187e+02, 4.28931187e+02, 4.28931187e+02, 5.15597387e+02,\n",
       "        5.15597387e+02, 5.15597387e+02, 5.15597387e+02, 5.15597387e+02,\n",
       "        5.15597387e+02, 5.88857373e+02, 5.88857373e+02, 5.88857373e+02]])"
      ]
     },
     "metadata": {},
     "execution_count": 13
    }
   ],
   "metadata": {}
  },
  {
   "cell_type": "code",
   "execution_count": 21,
   "source": [
    "#Speed of light (in cm/s)\n",
    "speedl = 2.99792458e10\n",
    "import numpy as np\n",
    "1/(speedl*1.0e-12)"
   ],
   "outputs": [
    {
     "output_type": "execute_result",
     "data": {
      "text/plain": [
       "33.35640951981521"
      ]
     },
     "metadata": {},
     "execution_count": 21
    }
   ],
   "metadata": {}
  },
  {
   "cell_type": "code",
   "execution_count": 22,
   "source": [
    "frequencies*1/(speedl*1.0e-12)"
   ],
   "outputs": [
    {
     "output_type": "execute_result",
     "data": {
      "text/plain": [
       "array([[5.07153017e-06, 8.04965883e-06, 9.11470995e-06, 2.21949923e+02,\n",
       "        2.21949923e+02, 2.21949923e+02, 2.21949923e+02, 2.21949923e+02,\n",
       "        2.21949923e+02, 4.29657788e+02, 4.29657788e+02, 4.29657788e+02,\n",
       "        4.29657788e+02, 4.29657788e+02, 4.29657788e+02, 5.16470798e+02,\n",
       "        5.16470798e+02, 5.16470798e+02, 5.16470798e+02, 5.16470798e+02,\n",
       "        5.16470798e+02, 5.89854886e+02, 5.89854886e+02, 5.89854886e+02]])"
      ]
     },
     "metadata": {},
     "execution_count": 22
    }
   ],
   "metadata": {}
  },
  {
   "cell_type": "code",
   "execution_count": 23,
   "source": [
    "#planck constant eV s\n",
    "planck=4.135667696e-15"
   ],
   "outputs": [],
   "metadata": {}
  },
  {
   "cell_type": "code",
   "execution_count": 24,
   "source": [
    "THzTomev=planck*1.0e12*1.0e3\n",
    "THzTomev"
   ],
   "outputs": [
    {
     "output_type": "execute_result",
     "data": {
      "text/plain": [
       "4.1356676960000005"
      ]
     },
     "metadata": {},
     "execution_count": 24
    }
   ],
   "metadata": {}
  },
  {
   "cell_type": "code",
   "execution_count": 29,
   "source": [
    "cmtomeV=planck*(speedl)*1.0e3\n",
    "cmtomeV"
   ],
   "outputs": [
    {
     "output_type": "execute_result",
     "data": {
      "text/plain": [
       "0.12398419840550369"
      ]
     },
     "metadata": {},
     "execution_count": 29
    }
   ],
   "metadata": {}
  },
  {
   "cell_type": "code",
   "execution_count": 30,
   "source": [
    "1500*cmtomeV"
   ],
   "outputs": [
    {
     "output_type": "execute_result",
     "data": {
      "text/plain": [
       "185.97629760825552"
      ]
     },
     "metadata": {},
     "execution_count": 30
    }
   ],
   "metadata": {}
  },
  {
   "cell_type": "markdown",
   "source": [
    "```\n",
    "!  Set constants\n",
    "!\n",
    "!  fscale is the conversion factor from (eV/Ang^2)(mol/g) in the dynamical matrix to\n",
    "!  wavenumbers for the frequencies. The factor of 10^23 comes from Ang^2 -> m^2 and\n",
    "!  g -> kg.\n",
    "!\n",
    "  fscale = sqrt(1.0d23*evtoj*avogadro)\n",
    "  fscale = fscale/(2.0_dp*pi*speedl)\n",
    "```"
   ],
   "metadata": {}
  },
  {
   "cell_type": "markdown",
   "source": [
    "```\n",
    "!*********************************\n",
    "!  Eigenvectors and eigenvalues  *\n",
    "!*********************************\n",
    "      if (lgamma) then\n",
    "!\n",
    "!  Calculate eigenvalues and eigenvectors of uncorrected dynamical matrix\n",
    "!\n",
    "        call pdiagg(mcv,maxd2,derv2,eigr,freq(1,k-nlkpt+1),fscale,.true.,lprint,ifail)\n",
    "```"
   ],
   "metadata": {}
  },
  {
   "cell_type": "markdown",
   "source": [
    "```\n",
    "!\n",
    "!  Convert frequency units - imaginary freqs denoted by negative no.\n",
    "!\n",
    "  do i = 1,mcv\n",
    "    root = freq(i)\n",
    "    if (root.ge.0.0_dp) then\n",
    "      freq(i) = sqrt(root)*fscale\n",
    "    else\n",
    "      root = abs(root)\n",
    "      freq(i) = - sqrt(root)*fscale\n",
    "    endif\n",
    "  enddo\n",
    "#ifdef TRACE\n",
    "  call trace_out('pdiagg')\n",
    "#endif\n",
    "!\n",
    "```"
   ],
   "metadata": {}
  }
 ],
 "metadata": {
  "orig_nbformat": 4,
  "language_info": {
   "name": "python",
   "version": "3.9.5",
   "mimetype": "text/x-python",
   "codemirror_mode": {
    "name": "ipython",
    "version": 3
   },
   "pygments_lexer": "ipython3",
   "nbconvert_exporter": "python",
   "file_extension": ".py"
  },
  "kernelspec": {
   "name": "python3",
   "display_name": "Python 3.9.5 64-bit ('env_3.9': venv)"
  },
  "interpreter": {
   "hash": "f28014fb09611fa8280d50d19c96de868b70c0c432dcef6642ed055c9deb0d24"
  }
 },
 "nbformat": 4,
 "nbformat_minor": 2
}