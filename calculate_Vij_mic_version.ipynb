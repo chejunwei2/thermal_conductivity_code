{
 "cells": [
  {
   "cell_type": "code",
   "execution_count": 5,
   "source": [
    "import numpy as np\n",
    "\n",
    "from ase.io import read\n",
    "atoms=read('data.vasp',format='vasp')\n",
    "\n",
    "#all atom is in central region by definition\n",
    "#here we assume number of ghost shell is 1\n",
    "\n",
    "#construct the list of vector connecting between each atoms\n",
    "\n",
    "masses=atoms.get_masses()\n",
    "natom=len(atoms.positions)\n",
    "\n",
    "dist=np.zeros((natom,natom,3))\n",
    "for i in range(natom):\n",
    "    for j in range(i):\n",
    "        rmin=np.zeros(3)\n",
    "        rij=atoms.get_distance(i,j,vector=True)\n",
    "        rij_mic=atoms.get_distance(i,j,mic=True,vector=True)\n",
    "        if(np.linalg.norm(rij_mic)<np.linalg.norm(rij)):\n",
    "            rmin=rij_mic\n",
    "        else:\n",
    "            rmin=rij\n",
    "        dist[i,j]=rmin\n"
   ],
   "outputs": [],
   "metadata": {}
  },
  {
   "cell_type": "code",
   "execution_count": 6,
   "source": [
    "with open('FORCE_CONSTANTS_2ND','r') as fc:\n",
    "    lines=fc.readlines()\n",
    "\n",
    "    nlineblock=4\n",
    "    fc_all=np.zeros((natom,natom,3,3))\n",
    "    start=1\n",
    "    for i in range(natom):\n",
    "        for j in range(natom):\n",
    "            fc_block=lines[start+1:start+nlineblock]\n",
    "            fc=np.loadtxt(fc_block)\n",
    "            fc_all[i,j]=fc/np.sqrt(masses[i]*masses[j])\n",
    "            #fc_all[i,j]=fc\n",
    "            start=start+nlineblock"
   ],
   "outputs": [],
   "metadata": {}
  },
  {
   "cell_type": "code",
   "execution_count": 7,
   "source": [
    "Rx=dist[:,:,0]\n",
    "Ry=dist[:,:,1]\n",
    "Rz=dist[:,:,2]\n",
    "\n",
    "Vx=np.zeros((natom,natom,3,3))\n",
    "Vy=np.zeros((natom,natom,3,3))\n",
    "Vz=np.zeros((natom,natom,3,3))\n",
    "\n",
    "#loop only for lower triangle\n",
    "#make sure that Vij=-Vji\n",
    "for i in range(natom):\n",
    "    for j in range(i):\n",
    "        Vijx=-Rx[i,j]*fc_all[i,j]\n",
    "        Vx[i,j]=Vijx\n",
    "        Vx[j,i]=-Vijx\n",
    "\n",
    "        Vijy=-Ry[i,j]*fc_all[i,j]\n",
    "        Vy[i,j]=Vijy\n",
    "        Vy[j,i]=-Vijy\n",
    "\n",
    "        Vijz=-Rz[i,j]*fc_all[i,j]\n",
    "        Vz[i,j]=Vijz\n",
    "        Vz[j,i]=-Vijz"
   ],
   "outputs": [],
   "metadata": {}
  },
  {
   "cell_type": "code",
   "execution_count": 8,
   "source": [
    "flatVx=np.reshape(Vx.transpose(0,2,1,3),(24,24))\n",
    "GULP_Vijx=np.loadtxt('Vijx.dat').reshape((24,24))\n",
    "np.where(np.abs(flatVx-GULP_Vijx) > 0.001)"
   ],
   "outputs": [
    {
     "output_type": "execute_result",
     "data": {
      "text/plain": [
       "(array([12, 12, 13, 13, 14, 14, 15, 15, 16, 16, 17, 17, 18, 18, 19, 19, 20,\n",
       "        20, 21, 21, 22, 22, 23, 23]),\n",
       " array([18, 21, 19, 22, 20, 23, 18, 21, 19, 22, 20, 23, 12, 15, 13, 16, 14,\n",
       "        17, 12, 15, 13, 16, 14, 17]))"
      ]
     },
     "metadata": {},
     "execution_count": 8
    }
   ],
   "metadata": {}
  },
  {
   "cell_type": "code",
   "execution_count": 9,
   "source": [
    "for i in range(natom):\n",
    "    for j in range(i):\n",
    "        print (i+1,j+1,dist[i,j,0])"
   ],
   "outputs": [
    {
     "output_type": "stream",
     "name": "stdout",
     "text": [
      "2 1 0.0\n",
      "3 1 2.7249999999999996\n",
      "3 2 2.7249999999999996\n",
      "4 1 2.7249999999999996\n",
      "4 2 2.7249999999999996\n",
      "4 3 0.0\n",
      "5 1 -1.3625000000000007\n",
      "5 2 -1.3625000000000007\n",
      "5 3 1.3625000000000003\n",
      "5 4 1.3625000000000003\n",
      "6 1 -1.3625000000000007\n",
      "6 2 -1.3625000000000007\n",
      "6 3 1.3625000000000003\n",
      "6 4 1.3625000000000003\n",
      "6 5 0.0\n",
      "7 1 1.3624999999999998\n",
      "7 2 1.3624999999999998\n",
      "7 3 -1.3624999999999998\n",
      "7 4 -1.3624999999999998\n",
      "7 5 -2.725\n",
      "7 6 -2.725\n",
      "8 1 1.3624999999999998\n",
      "8 2 1.3624999999999998\n",
      "8 3 -1.3624999999999998\n",
      "8 4 -1.3624999999999998\n",
      "8 5 -2.725\n",
      "8 6 -2.725\n",
      "8 7 0.0\n"
     ]
    }
   ],
   "metadata": {}
  }
 ],
 "metadata": {
  "orig_nbformat": 4,
  "language_info": {
   "name": "python",
   "version": "3.9.5",
   "mimetype": "text/x-python",
   "codemirror_mode": {
    "name": "ipython",
    "version": 3
   },
   "pygments_lexer": "ipython3",
   "nbconvert_exporter": "python",
   "file_extension": ".py"
  },
  "kernelspec": {
   "name": "python3",
   "display_name": "Python 3.9.5 64-bit ('env_3.9': venv)"
  },
  "interpreter": {
   "hash": "f28014fb09611fa8280d50d19c96de868b70c0c432dcef6642ed055c9deb0d24"
  }
 },
 "nbformat": 4,
 "nbformat_minor": 2
}