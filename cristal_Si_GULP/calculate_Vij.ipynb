{
 "cells": [
  {
   "cell_type": "code",
   "execution_count": 107,
   "source": [
    "import numpy as np\n",
    "import math"
   ],
   "outputs": [],
   "metadata": {}
  },
  {
   "cell_type": "code",
   "execution_count": 108,
   "source": [
    "from ase.io import read\n",
    "atoms=read('data.vasp',format='vasp')\n",
    "\n",
    "#all atom is in central region by definition\n",
    "#here we assume number of ghost shell is 1\n",
    "\n",
    "#construct the list of vector connecting between each atoms\n",
    "\n",
    "masses=atoms.get_masses()\n",
    "natom=len(atoms.positions)\n",
    "\n",
    "dist=np.zeros((natom,natom,3))\n",
    "'''\n",
    "for i in range(natom):\n",
    "    for j in range(natom):\n",
    "        rmin=np.zeros(3)\n",
    "        rij=atoms.get_distance(i,j,vector=True)\n",
    "        rij_mic=atoms.get_distance(i,j,mic=True,vector=True)\n",
    "        if(np.linalg.norm(rij_mic)<np.linalg.norm(rij)):\n",
    "            rmin=rij_mic\n",
    "        else:\n",
    "            rmin=rij\n",
    "        dist[i,j]=rmin\n",
    "'''"
   ],
   "outputs": [
    {
     "output_type": "execute_result",
     "data": {
      "text/plain": [
       "'\\nfor i in range(natom):\\n    for j in range(natom):\\n        rmin=np.zeros(3)\\n        rij=atoms.get_distance(i,j,vector=True)\\n        rij_mic=atoms.get_distance(i,j,mic=True,vector=True)\\n        if(np.linalg.norm(rij_mic)<np.linalg.norm(rij)):\\n            rmin=rij_mic\\n        else:\\n            rmin=rij\\n        dist[i,j]=rmin\\n'"
      ]
     },
     "metadata": {},
     "execution_count": 108
    }
   ],
   "metadata": {}
  },
  {
   "cell_type": "code",
   "execution_count": 109,
   "source": [
    "#only consider lower triangle\n",
    "#find_nearest seems only works for lower triangle\n",
    "from nearest import find_nearest\n",
    "for i in range(natom):\n",
    "    for j in range(i):\n",
    "        xdc,ydc,zdc,rmin=find_nearest(atoms,i,j)\n",
    "        dist[i,j]=np.array([xdc,ydc,zdc])\n"
   ],
   "outputs": [],
   "metadata": {}
  },
  {
   "cell_type": "code",
   "execution_count": 111,
   "source": [
    "with open('FORCE_CONSTANTS_2ND','r') as fc:\n",
    "    lines=fc.readlines()\n",
    "\n",
    "    nlineblock=4\n",
    "    fc_all=np.zeros((natom,natom,3,3))\n",
    "    start=1\n",
    "    for i in range(natom):\n",
    "        for j in range(natom):\n",
    "            fc_block=lines[start+1:start+nlineblock]\n",
    "            fc=np.loadtxt(fc_block)\n",
    "            fc_all[i,j]=fc/np.sqrt(masses[i]*masses[j])\n",
    "            #fc_all[i,j]=fc\n",
    "            start=start+nlineblock\n",
    "\n"
   ],
   "outputs": [],
   "metadata": {}
  },
  {
   "cell_type": "code",
   "execution_count": 112,
   "source": [
    "fc_all[0,1]"
   ],
   "outputs": [
    {
     "output_type": "execute_result",
     "data": {
      "text/plain": [
       "array([[ 0.03913539, -0.        , -0.        ],\n",
       "       [ 0.        , -0.00978188, -0.        ],\n",
       "       [ 0.        , -0.        , -0.00978188]])"
      ]
     },
     "metadata": {},
     "execution_count": 112
    }
   ],
   "metadata": {}
  },
  {
   "cell_type": "code",
   "execution_count": 113,
   "source": [
    "atoms.get_masses()"
   ],
   "outputs": [
    {
     "output_type": "execute_result",
     "data": {
      "text/plain": [
       "array([28.085, 28.085, 28.085, 28.085, 28.085, 28.085, 28.085, 28.085])"
      ]
     },
     "metadata": {},
     "execution_count": 113
    }
   ],
   "metadata": {}
  },
  {
   "cell_type": "code",
   "execution_count": 115,
   "source": [
    "#slice for x-component\n",
    "dist[:,:,0]"
   ],
   "outputs": [
    {
     "output_type": "execute_result",
     "data": {
      "text/plain": [
       "array([[ 0.    ,  0.    ,  0.    ,  0.    ,  0.    ,  0.    ,  0.    ,\n",
       "         0.    ],\n",
       "       [ 0.    ,  0.    ,  0.    ,  0.    ,  0.    ,  0.    ,  0.    ,\n",
       "         0.    ],\n",
       "       [ 2.725 ,  2.725 ,  0.    ,  0.    ,  0.    ,  0.    ,  0.    ,\n",
       "         0.    ],\n",
       "       [ 2.725 ,  2.725 ,  0.    ,  0.    ,  0.    ,  0.    ,  0.    ,\n",
       "         0.    ],\n",
       "       [-1.3625, -1.3625,  1.3625,  1.3625,  0.    ,  0.    ,  0.    ,\n",
       "         0.    ],\n",
       "       [-1.3625, -1.3625,  1.3625,  1.3625,  0.    ,  0.    ,  0.    ,\n",
       "         0.    ],\n",
       "       [ 1.3625,  1.3625, -1.3625, -1.3625,  2.725 ,  2.725 ,  0.    ,\n",
       "         0.    ],\n",
       "       [ 1.3625,  1.3625, -1.3625, -1.3625,  2.725 ,  2.725 ,  0.    ,\n",
       "         0.    ]])"
      ]
     },
     "metadata": {},
     "execution_count": 115
    }
   ],
   "metadata": {}
  },
  {
   "cell_type": "code",
   "execution_count": 116,
   "source": [
    "for i in range(natom):\n",
    "    for j in range(i):\n",
    "        print (i+1,j+1,dist[i,j,0])"
   ],
   "outputs": [
    {
     "output_type": "stream",
     "name": "stdout",
     "text": [
      "2 1 0.0\n",
      "3 1 2.7249999999999996\n",
      "3 2 2.7249999999999996\n",
      "4 1 2.7249999999999996\n",
      "4 2 2.7249999999999996\n",
      "4 3 0.0\n",
      "5 1 -1.3625000000000007\n",
      "5 2 -1.3625000000000007\n",
      "5 3 1.3625000000000007\n",
      "5 4 1.3625000000000007\n",
      "6 1 -1.3625000000000007\n",
      "6 2 -1.3625000000000007\n",
      "6 3 1.3625000000000007\n",
      "6 4 1.3625000000000007\n",
      "6 5 0.0\n",
      "7 1 1.362499999999999\n",
      "7 2 1.362499999999999\n",
      "7 3 -1.362499999999999\n",
      "7 4 -1.362499999999999\n",
      "7 5 2.7249999999999996\n",
      "7 6 2.7249999999999996\n",
      "8 1 1.362499999999999\n",
      "8 2 1.362499999999999\n",
      "8 3 -1.362499999999999\n",
      "8 4 -1.362499999999999\n",
      "8 5 2.7249999999999996\n",
      "8 6 2.7249999999999996\n",
      "8 7 0.0\n"
     ]
    }
   ],
   "metadata": {}
  },
  {
   "cell_type": "code",
   "execution_count": 117,
   "source": [
    "Rx=dist[:,:,0]\n",
    "Ry=dist[:,:,1]\n",
    "Rz=dist[:,:,2]\n",
    "Rx.shape, fc_all.shape"
   ],
   "outputs": [
    {
     "output_type": "execute_result",
     "data": {
      "text/plain": [
       "((8, 8), (8, 8, 3, 3))"
      ]
     },
     "metadata": {},
     "execution_count": 117
    }
   ],
   "metadata": {}
  },
  {
   "cell_type": "markdown",
   "source": [
    "コードをよく見ると、ix,jxの要素では負が入ってた。\n",
    "当初比較していたのはFortran orderでのダンプだったので、列と行の順番が逆。"
   ],
   "metadata": {}
  },
  {
   "cell_type": "code",
   "execution_count": 118,
   "source": [
    "Vx=np.zeros((natom,natom,3,3))\n",
    "Vy=np.zeros((natom,natom,3,3))\n",
    "Vz=np.zeros((natom,natom,3,3))\n",
    "\n",
    "#loop only for lower triangle\n",
    "#make sure that Vij=-Vji\n",
    "for i in range(natom):\n",
    "    for j in range(i):\n",
    "        Vijx=-Rx[i,j]*fc_all[i,j]\n",
    "        Vx[i,j]=Vijx\n",
    "        Vx[j,i]=-Vijx\n",
    "\n",
    "        Vijy=-Ry[i,j]*fc_all[i,j]\n",
    "        Vy[i,j]=Vijy\n",
    "        Vy[j,i]=-Vijy\n",
    "\n",
    "        Vijz=-Rz[i,j]*fc_all[i,j]\n",
    "        Vz[i,j]=Vijz\n",
    "        Vz[j,i]=-Vijz\n",
    "\n"
   ],
   "outputs": [],
   "metadata": {}
  },
  {
   "cell_type": "code",
   "execution_count": 119,
   "source": [
    "#compare with GULP output\n",
    "#1st atom x-direction component\n",
    "Vx[0,:,0,:]"
   ],
   "outputs": [
    {
     "output_type": "execute_result",
     "data": {
      "text/plain": [
       "array([[ 0.        ,  0.        ,  0.        ],\n",
       "       [ 0.        ,  0.        ,  0.        ],\n",
       "       [-0.02665562, -0.        , -0.        ],\n",
       "       [-0.02665562, -0.        , -0.        ],\n",
       "       [ 0.21791282,  0.13620392,  0.13620392],\n",
       "       [ 0.21791282, -0.13620392, -0.13620392],\n",
       "       [-0.21791282,  0.13620392, -0.13620392],\n",
       "       [-0.21791282, -0.13620392,  0.13620392]])"
      ]
     },
     "metadata": {},
     "execution_count": 119
    }
   ],
   "metadata": {}
  },
  {
   "cell_type": "markdown",
   "source": [
    "GULP side\n",
    "```\n",
    " ixyz:           1\n",
    "  0.000000000000000E+000  0.000000000000000E+000  0.000000000000000E+000\n",
    "  0.000000000000000E+000  0.000000000000000E+000  0.000000000000000E+000\n",
    " -2.665087135698760E-002  8.616184384773376E-017 -7.000649812628367E-017\n",
    " -2.665087135698760E-002 -7.000649812628367E-017  8.616184384773376E-017\n",
    "  0.217874033757599       0.136179679902043       0.136179679902043     \n",
    "  0.217874033757600      -0.136179679902044      -0.136179679902044     \n",
    " -0.217874033757599       0.136179679902043      -0.136179679902043     \n",
    " -0.217874033757599      -0.136179679902043       0.136179679902043    \n",
    "```"
   ],
   "metadata": {}
  },
  {
   "cell_type": "code",
   "execution_count": 120,
   "source": [
    "#1st atom y-direction component\n",
    "Vx[0,:,1,:]"
   ],
   "outputs": [
    {
     "output_type": "execute_result",
     "data": {
      "text/plain": [
       "array([[ 0.        ,  0.        ,  0.        ],\n",
       "       [-0.        , -0.        , -0.        ],\n",
       "       [ 0.        ,  0.10664395,  0.        ],\n",
       "       [-0.        , -0.02665562, -0.        ],\n",
       "       [ 0.13620392,  0.21791282,  0.13620392],\n",
       "       [-0.13620392,  0.21791282,  0.13620392],\n",
       "       [ 0.13620392, -0.21791282,  0.13620392],\n",
       "       [-0.13620392, -0.21791282,  0.13620392]])"
      ]
     },
     "metadata": {},
     "execution_count": 120
    }
   ],
   "metadata": {}
  },
  {
   "cell_type": "markdown",
   "source": [
    "GULP\n",
    "```\n",
    "  0.000000000000000E+000  0.000000000000000E+000  0.000000000000000E+000\n",
    "  0.000000000000000E+000  0.000000000000000E+000  0.000000000000000E+000\n",
    " -8.616184384773376E-017  0.106624964870440      -8.616184384773376E-017\n",
    " -7.000649812628367E-017 -2.665087135698760E-002  8.616184384773376E-017\n",
    "  0.136179679902043       0.217874033757599       0.136179679902043     \n",
    " -0.136179679902044       0.217874033757600       0.136179679902043     \n",
    "  0.136179679902043      -0.217874033757599       0.136179679902043     \n",
    " -0.136179679902043      -0.217874033757599       0.136179679902043   \n",
    "```"
   ],
   "metadata": {}
  },
  {
   "cell_type": "code",
   "execution_count": 121,
   "source": [
    "Vx[7,:,2,:]"
   ],
   "outputs": [
    {
     "output_type": "execute_result",
     "data": {
      "text/plain": [
       "array([[-0.13620392, -0.13620392,  0.21791282],\n",
       "       [ 0.13620392, -0.13620392,  0.21791282],\n",
       "       [ 0.13620392, -0.13620392, -0.21791282],\n",
       "       [-0.13620392, -0.13620392, -0.21791282],\n",
       "       [-0.        ,  0.        , -0.10664395],\n",
       "       [ 0.        ,  0.        ,  0.02665562],\n",
       "       [ 0.        ,  0.        ,  0.        ],\n",
       "       [ 0.        ,  0.        ,  0.        ]])"
      ]
     },
     "metadata": {},
     "execution_count": 121
    }
   ],
   "metadata": {}
  },
  {
   "cell_type": "markdown",
   "source": [
    "GULP\n",
    "```\n",
    "-0.136179679902043      -0.136179679902043       0.217874033757599     \n",
    "  0.136179679902043      -0.136179679902043       0.217874033757599     \n",
    "  0.136179679902043      -0.136179679902043      -0.217874033757599     \n",
    " -0.136179679902043      -0.136179679902043      -0.217874033757599     \n",
    "  0.000000000000000E+000  5.385115240483360E-018 -0.106624964870440     \n",
    "  3.231069144290016E-017  1.615534572145008E-017  2.665087135698754E-002\n",
    "  0.000000000000000E+000  0.000000000000000E+000  0.000000000000000E+000\n",
    "  0.000000000000000E+000  0.000000000000000E+000  0.000000000000000E+000\n",
    "```"
   ],
   "metadata": {}
  },
  {
   "cell_type": "code",
   "execution_count": 122,
   "source": [
    "#y-component\n",
    "\n",
    "Vy[0,:,0,:]"
   ],
   "outputs": [
    {
     "output_type": "execute_result",
     "data": {
      "text/plain": [
       "array([[ 0.        ,  0.        ,  0.        ],\n",
       "       [ 0.10664395,  0.        ,  0.        ],\n",
       "       [-0.        , -0.        , -0.        ],\n",
       "       [-0.02665562, -0.        , -0.        ],\n",
       "       [ 0.21791282,  0.13620392,  0.13620392],\n",
       "       [-0.21791282,  0.13620392,  0.13620392],\n",
       "       [ 0.21791282, -0.13620392,  0.13620392],\n",
       "       [-0.21791282, -0.13620392,  0.13620392]])"
      ]
     },
     "metadata": {},
     "execution_count": 122
    }
   ],
   "metadata": {}
  },
  {
   "cell_type": "markdown",
   "source": [
    "GULP\n",
    "```\n",
    "  0.000000000000000E+000  0.000000000000000E+000  0.000000000000000E+000\n",
    "  0.106624964870440      -8.616184384773376E-017 -8.616184384773376E-017\n",
    "  0.000000000000000E+000  0.000000000000000E+000  0.000000000000000E+000\n",
    " -2.665087135698760E-002 -7.000649812628367E-017  8.616184384773376E-017\n",
    "  0.217874033757599       0.136179679902043       0.136179679902043     \n",
    " -0.217874033757599       0.136179679902043       0.136179679902043     \n",
    "  0.217874033757600      -0.136179679902044       0.136179679902043     \n",
    " -0.217874033757599      -0.136179679902043       0.136179679902043   \n",
    "```"
   ],
   "metadata": {}
  },
  {
   "cell_type": "code",
   "execution_count": 123,
   "source": [
    "#z component\n",
    "Vz[0,:,0,:]"
   ],
   "outputs": [
    {
     "output_type": "execute_result",
     "data": {
      "text/plain": [
       "array([[ 0.        ,  0.        ,  0.        ],\n",
       "       [ 0.10664395,  0.        ,  0.        ],\n",
       "       [-0.02665562, -0.        , -0.        ],\n",
       "       [-0.        , -0.        , -0.        ],\n",
       "       [ 0.21791282,  0.13620392,  0.13620392],\n",
       "       [-0.21791282,  0.13620392,  0.13620392],\n",
       "       [-0.21791282,  0.13620392, -0.13620392],\n",
       "       [ 0.21791282,  0.13620392, -0.13620392]])"
      ]
     },
     "metadata": {},
     "execution_count": 123
    }
   ],
   "metadata": {}
  },
  {
   "cell_type": "markdown",
   "source": [
    "GULP\n",
    "```\n",
    "  0.000000000000000E+000  0.000000000000000E+000  0.000000000000000E+000\n",
    "  0.106624964870440      -8.616184384773376E-017 -8.616184384773376E-017\n",
    " -2.665087135698760E-002  8.616184384773376E-017 -7.000649812628367E-017\n",
    "  0.000000000000000E+000  0.000000000000000E+000  0.000000000000000E+000\n",
    "  0.217874033757599       0.136179679902043       0.136179679902043     \n",
    " -0.217874033757599       0.136179679902043       0.136179679902043     \n",
    " -0.217874033757599       0.136179679902043      -0.136179679902043     \n",
    "  0.217874033757600       0.136179679902043      -0.136179679902044     \n",
    "```"
   ],
   "metadata": {}
  },
  {
   "cell_type": "markdown",
   "source": [
    "convert the shape of tensor to evaluate Sij with dot product with eigenvector"
   ],
   "metadata": {}
  },
  {
   "cell_type": "code",
   "execution_count": 124,
   "source": [
    "flatVx=np.reshape(Vx.transpose(0,2,1,3),(24,24))"
   ],
   "outputs": [],
   "metadata": {}
  },
  {
   "cell_type": "code",
   "execution_count": 125,
   "source": [
    "flatVx[0]"
   ],
   "outputs": [
    {
     "output_type": "execute_result",
     "data": {
      "text/plain": [
       "array([ 0.        ,  0.        ,  0.        ,  0.        ,  0.        ,\n",
       "        0.        , -0.02665562, -0.        , -0.        , -0.02665562,\n",
       "       -0.        , -0.        ,  0.21791282,  0.13620392,  0.13620392,\n",
       "        0.21791282, -0.13620392, -0.13620392, -0.21791282,  0.13620392,\n",
       "       -0.13620392, -0.21791282, -0.13620392,  0.13620392])"
      ]
     },
     "metadata": {},
     "execution_count": 125
    }
   ],
   "metadata": {}
  },
  {
   "cell_type": "code",
   "execution_count": 126,
   "source": [
    "GULP_Vijx=np.loadtxt('Vijx.dat').reshape((24,24))"
   ],
   "outputs": [],
   "metadata": {}
  },
  {
   "cell_type": "code",
   "execution_count": 127,
   "source": [
    "GULP_Vijx[0]"
   ],
   "outputs": [
    {
     "output_type": "execute_result",
     "data": {
      "text/plain": [
       "array([ 0.00000000e+00,  0.00000000e+00,  0.00000000e+00,  0.00000000e+00,\n",
       "        0.00000000e+00,  0.00000000e+00, -2.66508714e-02,  8.61618438e-17,\n",
       "       -7.00064981e-17, -2.66508714e-02, -7.00064981e-17,  8.61618438e-17,\n",
       "        2.17874034e-01,  1.36179680e-01,  1.36179680e-01,  2.17874034e-01,\n",
       "       -1.36179680e-01, -1.36179680e-01, -2.17874034e-01,  1.36179680e-01,\n",
       "       -1.36179680e-01, -2.17874034e-01, -1.36179680e-01,  1.36179680e-01])"
      ]
     },
     "metadata": {},
     "execution_count": 127
    }
   ],
   "metadata": {}
  },
  {
   "cell_type": "code",
   "execution_count": 136,
   "source": [
    "np.where(np.abs(flatVx-GULP_Vijx) > 0.001)"
   ],
   "outputs": [
    {
     "output_type": "execute_result",
     "data": {
      "text/plain": [
       "(array([], dtype=int64), array([], dtype=int64))"
      ]
     },
     "metadata": {},
     "execution_count": 136
    }
   ],
   "metadata": {}
  },
  {
   "cell_type": "code",
   "execution_count": 135,
   "source": [
    "flatVy=np.reshape(Vy.transpose(0,2,1,3),(24,24))\n",
    "GULP_Vijy=np.loadtxt('Vijy.dat').reshape((24,24))\n",
    "np.where(np.abs(flatVy-GULP_Vijy) > 0.001)"
   ],
   "outputs": [
    {
     "output_type": "execute_result",
     "data": {
      "text/plain": [
       "(array([], dtype=int64), array([], dtype=int64))"
      ]
     },
     "metadata": {},
     "execution_count": 135
    }
   ],
   "metadata": {}
  },
  {
   "cell_type": "code",
   "execution_count": 137,
   "source": [
    "flatVz=np.reshape(Vz.transpose(0,2,1,3),(24,24))\n",
    "GULP_Vijz=np.loadtxt('Vijz.dat').reshape((24,24))\n",
    "np.where(np.abs(flatVz-GULP_Vijz) > 0.001)"
   ],
   "outputs": [
    {
     "output_type": "execute_result",
     "data": {
      "text/plain": [
       "(array([], dtype=int64), array([], dtype=int64))"
      ]
     },
     "metadata": {},
     "execution_count": 137
    }
   ],
   "metadata": {}
  }
 ],
 "metadata": {
  "orig_nbformat": 4,
  "language_info": {
   "name": "python",
   "version": "3.9.5",
   "mimetype": "text/x-python",
   "codemirror_mode": {
    "name": "ipython",
    "version": 3
   },
   "pygments_lexer": "ipython3",
   "nbconvert_exporter": "python",
   "file_extension": ".py"
  },
  "kernelspec": {
   "name": "python3",
   "display_name": "Python 3.9.5 64-bit ('env_3.9': venv)"
  },
  "interpreter": {
   "hash": "f28014fb09611fa8280d50d19c96de868b70c0c432dcef6642ed055c9deb0d24"
  }
 },
 "nbformat": 4,
 "nbformat_minor": 2
}