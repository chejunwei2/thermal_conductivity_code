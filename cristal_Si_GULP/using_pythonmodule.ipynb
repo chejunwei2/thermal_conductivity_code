{
 "cells": [
  {
   "cell_type": "code",
   "execution_count": 24,
   "source": [
    "structure_file='data.vasp'\n",
    "FC_file='FORCE_CONSTANTS_2ND'"
   ],
   "outputs": [],
   "metadata": {}
  },
  {
   "cell_type": "code",
   "execution_count": 25,
   "source": [
    "from os import path\n",
    "import sys\n",
    "\n",
    "sys.path.append('../src')\n",
    "\n",
    "Vx, Vy, Vz=get_Vij(structure_file,FC_file)\n"
   ],
   "outputs": [],
   "metadata": {}
  },
  {
   "cell_type": "code",
   "execution_count": 26,
   "source": [
    "import numpy as np \n",
    "eigenvector=np.loadtxt('eigr.dat').reshape((24,24))\n",
    "omega=np.loadtxt('freq.dat')"
   ],
   "outputs": [],
   "metadata": {}
  },
  {
   "cell_type": "code",
   "execution_count": 27,
   "source": [
    "Sx,Sy,Sz=get_Sij(Vx,Vy,Vz,eigenvector,omega)"
   ],
   "outputs": [],
   "metadata": {}
  },
  {
   "cell_type": "code",
   "execution_count": 28,
   "source": [
    "#check\n",
    "GULP_Vijz=np.loadtxt('Vijz.dat').reshape((24,24))\n",
    "np.where(np.abs(Vz-GULP_Vijz) > 0.001)"
   ],
   "outputs": [
    {
     "output_type": "execute_result",
     "data": {
      "text/plain": [
       "(array([], dtype=int64), array([], dtype=int64))"
      ]
     },
     "metadata": {},
     "execution_count": 28
    }
   ],
   "metadata": {}
  },
  {
   "cell_type": "code",
   "execution_count": 29,
   "source": [
    "GULP_Vijy=np.loadtxt('Vijy.dat').reshape((24,24))\n",
    "np.where(np.abs(Vy-GULP_Vijy) > 0.001)"
   ],
   "outputs": [
    {
     "output_type": "execute_result",
     "data": {
      "text/plain": [
       "(array([], dtype=int64), array([], dtype=int64))"
      ]
     },
     "metadata": {},
     "execution_count": 29
    }
   ],
   "metadata": {}
  },
  {
   "cell_type": "code",
   "execution_count": 30,
   "source": [
    "GULP_Vijx=np.loadtxt('Vijx.dat').reshape((24,24))\n",
    "np.where(np.abs(Vx-GULP_Vijx) > 0.001)"
   ],
   "outputs": [
    {
     "output_type": "execute_result",
     "data": {
      "text/plain": [
       "(array([], dtype=int64), array([], dtype=int64))"
      ]
     },
     "metadata": {},
     "execution_count": 30
    }
   ],
   "metadata": {}
  },
  {
   "cell_type": "code",
   "execution_count": 31,
   "source": [
    "GULP_Sijx=np.loadtxt('Sijx.dat').reshape((24,24))\n",
    "GULP_Sijy=np.loadtxt('Sijy.dat').reshape((24,24))\n",
    "GULP_Sijz=np.loadtxt('Sijz.dat').reshape((24,24))\n",
    "np.where(np.abs(Sx-GULP_Sijx) > 0.01)"
   ],
   "outputs": [
    {
     "output_type": "execute_result",
     "data": {
      "text/plain": [
       "(array([ 2,  2,  2,  2,  2,  2,  9, 12, 14, 15, 21, 22]),\n",
       " array([ 9, 12, 14, 15, 21, 22,  2,  2,  2,  2,  2,  2]))"
      ]
     },
     "metadata": {},
     "execution_count": 31
    }
   ],
   "metadata": {}
  },
  {
   "cell_type": "markdown",
   "source": [
    "システムの違いでどうしてもズレが出る"
   ],
   "metadata": {}
  },
  {
   "cell_type": "code",
   "execution_count": 32,
   "source": [
    "np.sum(np.abs(Sx-GULP_Sijx) )"
   ],
   "outputs": [
    {
     "output_type": "execute_result",
     "data": {
      "text/plain": [
       "0.604556369400741"
      ]
     },
     "metadata": {},
     "execution_count": 32
    }
   ],
   "metadata": {}
  },
  {
   "cell_type": "code",
   "execution_count": 33,
   "source": [
    "np.where(np.abs(Sy-GULP_Sijy) > 0.1)"
   ],
   "outputs": [
    {
     "output_type": "execute_result",
     "data": {
      "text/plain": [
       "(array([ 2, 21]), array([21,  2]))"
      ]
     },
     "metadata": {},
     "execution_count": 33
    }
   ],
   "metadata": {}
  },
  {
   "cell_type": "code",
   "execution_count": 34,
   "source": [
    "Sy[2]"
   ],
   "outputs": [
    {
     "output_type": "execute_result",
     "data": {
      "text/plain": [
       "array([ 0.00000000e+00, -0.00000000e+00, -1.61922382e-17,  7.18477546e+01,\n",
       "        1.74766510e+02, -1.65249442e+02, -4.42425771e+01,  8.13632681e+00,\n",
       "        1.42493180e+02, -6.76131435e+01, -2.97489709e+01,  1.24603810e+01,\n",
       "       -5.87304130e+01, -1.86498842e+01,  1.09191898e+02, -2.18974177e+01,\n",
       "        2.31502851e+02,  2.17869646e+02, -2.01147569e+02,  2.21005046e+02,\n",
       "       -3.28542407e+01, -3.40444808e+03, -1.61679958e+00,  9.42591723e+01])"
      ]
     },
     "metadata": {},
     "execution_count": 34
    }
   ],
   "metadata": {}
  },
  {
   "cell_type": "code",
   "execution_count": 35,
   "source": [
    "GULP_Sijy[2]"
   ],
   "outputs": [
    {
     "output_type": "execute_result",
     "data": {
      "text/plain": [
       "array([ 0.00000000e+00,  0.00000000e+00,  0.00000000e+00,  7.18349657e+01,\n",
       "        1.74735402e+02, -1.65220028e+02, -4.42347020e+01,  8.13487854e+00,\n",
       "        1.42467817e+02, -6.76011084e+01, -2.97436756e+01,  1.24581631e+01,\n",
       "       -5.87199590e+01, -1.86465646e+01,  1.09172462e+02, -2.18935200e+01,\n",
       "        2.31461643e+02,  2.17830865e+02, -2.01111765e+02,  2.20965708e+02,\n",
       "       -3.28483926e+01, -3.40384209e+03, -1.61651179e+00,  9.42423942e+01])"
      ]
     },
     "metadata": {},
     "execution_count": 35
    }
   ],
   "metadata": {}
  },
  {
   "cell_type": "code",
   "execution_count": null,
   "source": [],
   "outputs": [],
   "metadata": {}
  },
  {
   "cell_type": "code",
   "execution_count": 36,
   "source": [
    "np.sum(np.abs(Sz-GULP_Sijz) )"
   ],
   "outputs": [
    {
     "output_type": "execute_result",
     "data": {
      "text/plain": [
       "2.196118214102145"
      ]
     },
     "metadata": {},
     "execution_count": 36
    }
   ],
   "metadata": {}
  },
  {
   "cell_type": "code",
   "execution_count": 37,
   "source": [
    "np.sum(np.abs(Sy-GULP_Sijy) )"
   ],
   "outputs": [
    {
     "output_type": "execute_result",
     "data": {
      "text/plain": [
       "1.9097769167402316"
      ]
     },
     "metadata": {},
     "execution_count": 37
    }
   ],
   "metadata": {}
  },
  {
   "cell_type": "code",
   "execution_count": 38,
   "source": [
    "#mode diffusivity\n",
    "#consider that frequency has cm-1 unit\n",
    "#2pi of hbar is cancelled by this frequency definition\n",
    "\n",
    "#Boltzmanns constant (J/K)\n",
    "boltz = 1.38066244e-23\n",
    "\n",
    "#Planck's constant (Js)\n",
    "planck = 6.62617636e-34\n",
    "\n",
    "#Speed of light (in cm/s)\n",
    "speedl = 2.99792458e10\n",
    "\n",
    "#eV -> Joules\n",
    "\n",
    "evtoj = 1.6021917e-19\n",
    "\n",
    "#Avogadros number\n",
    "avogadro = 6.022045e23"
   ],
   "outputs": [],
   "metadata": {}
  },
  {
   "cell_type": "code",
   "execution_count": 39,
   "source": [
    "fscale = np.sqrt(1.0e23*evtoj*avogadro)\n",
    "fscale = fscale/(2.0*np.pi*speedl)"
   ],
   "outputs": [],
   "metadata": {}
  },
  {
   "cell_type": "code",
   "execution_count": 40,
   "source": [
    "constant = ((1.0e-17*evtoj*avogadro)**0.5)*(fscale**3)\n",
    "constant = np.pi*constant/48.0"
   ],
   "outputs": [],
   "metadata": {}
  },
  {
   "cell_type": "code",
   "execution_count": 41,
   "source": [
    "constant"
   ],
   "outputs": [
    {
     "output_type": "execute_result",
     "data": {
      "text/plain": [
       "9.116410435342889"
      ]
     },
     "metadata": {},
     "execution_count": 41
    }
   ],
   "metadata": {}
  },
  {
   "cell_type": "code",
   "execution_count": 42,
   "source": [
    "#get mean of frequency spacing\n",
    "dwavg=0.0\n",
    "for i in range(len(omega)-1):\n",
    "    if omega[i] > 0.0:\n",
    "        dwavg+=omega[i+1]-omega[i]\n",
    "    elif omega[i+1] >0.0:\n",
    "        dwavg+=omega[i+1]\n",
    "\n",
    "dwavg=dwavg/(len(omega)-1)\n",
    "dwavg"
   ],
   "outputs": [
    {
     "output_type": "execute_result",
     "data": {
      "text/plain": [
       "25.643677400657612"
      ]
     },
     "metadata": {},
     "execution_count": 42
    }
   ],
   "metadata": {}
  },
  {
   "cell_type": "code",
   "execution_count": 43,
   "source": [
    "Di=np.zeros(len(omega))\n",
    "nmodes=len(omega)\n",
    "bfactor=5.0\n",
    "broad = bfactor*dwavg\n",
    "for i in range(nmodes):\n",
    "    Di_loc = 0.0\n",
    "    for j in range(nmodes):\n",
    "        if(omega[i] > 0.01):\n",
    "            dwij = (1.0/np.pi)*broad/( (omega[j] - omega[i])**2 + broad**2 )\n",
    "            if(dwij > 0.01):\n",
    "                Di_loc = Di_loc + dwij*Sx[j,i]**2+dwij*Sy[j,i]**2+dwij*Sz[j,i]**2\n",
    "    Di[i] = Di[i] + Di_loc*constant/(omega[i]**2)"
   ],
   "outputs": [],
   "metadata": {}
  },
  {
   "cell_type": "code",
   "execution_count": 44,
   "source": [
    "Di"
   ],
   "outputs": [
    {
     "output_type": "execute_result",
     "data": {
      "text/plain": [
       "array([0., 0., 0., 0., 0., 0., 0., 0., 0., 0., 0., 0., 0., 0., 0., 0., 0.,\n",
       "       0., 0., 0., 0., 0., 0., 0.])"
      ]
     },
     "metadata": {},
     "execution_count": 44
    }
   ],
   "metadata": {}
  },
  {
   "cell_type": "code",
   "execution_count": 45,
   "source": [
    "from ase.io import read\n",
    "atoms=read(structure_file,format='vasp')\n",
    "vol = atoms.get_volume()\n",
    "kappafct = 1.0e30/vol\n",
    "temperature=300\n",
    "cmfact = planck*speedl/(boltz*temperature)\n",
    "for i in range(nmodes):\n",
    "    xfreq = omega[i]*cmfact\n",
    "    expfreq = np.exp(xfreq)\n",
    "    cv_i = boltz*xfreq*xfreq*expfreq/(expfreq - 1.0)**2\n",
    "    print(omega[i],Di[i]*1.0e4,cv_i*kappafct*Di[i])"
   ],
   "outputs": [
    {
     "output_type": "stream",
     "name": "stdout",
     "text": [
      "-1.365903968777618e-05 0.0 0.0\n",
      "-5.998889625991092e-06 0.0 0.0\n",
      "1.429945356769956e-05 0.0 0.0\n",
      "221.940168139047 0.0 0.0\n",
      "221.940168139047 0.0 0.0\n",
      "221.940168139047 0.0 0.0\n",
      "221.940168139047 0.0 0.0\n",
      "221.940168139047 0.0 0.0\n",
      "221.940168139047 0.0 0.0\n",
      "429.619338912949 0.0 0.0\n",
      "429.619338912949 0.0 0.0\n",
      "429.619338912949 0.0 0.0\n",
      "429.61933891295 0.0 0.0\n",
      "429.61933891295 0.0 0.0\n",
      "429.61933891295 0.0 0.0\n",
      "516.419660702354 0.0 0.0\n",
      "516.419660702354 0.0 0.0\n",
      "516.419660702354 0.0 0.0\n",
      "516.419660702354 0.0 0.0\n",
      "516.419660702354 0.0 0.0\n",
      "516.419660702355 0.0 0.0\n",
      "589.804580215125 0.0 0.0\n",
      "589.804580215125 0.0 0.0\n",
      "589.804580215125 0.0 0.0\n"
     ]
    }
   ],
   "metadata": {}
  }
 ],
 "metadata": {
  "orig_nbformat": 4,
  "language_info": {
   "name": "python",
   "version": "3.9.5",
   "mimetype": "text/x-python",
   "codemirror_mode": {
    "name": "ipython",
    "version": 3
   },
   "pygments_lexer": "ipython3",
   "nbconvert_exporter": "python",
   "file_extension": ".py"
  },
  "kernelspec": {
   "name": "python3",
   "display_name": "Python 3.9.5 64-bit ('env_3.9': venv)"
  },
  "interpreter": {
   "hash": "f28014fb09611fa8280d50d19c96de868b70c0c432dcef6642ed055c9deb0d24"
  }
 },
 "nbformat": 4,
 "nbformat_minor": 2
}