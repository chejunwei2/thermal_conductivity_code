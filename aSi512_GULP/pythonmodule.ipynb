{
 "cells": [
  {
   "cell_type": "code",
   "execution_count": 79,
   "source": [
    "from ase.io import read,write\n",
    "import numpy as np\n",
    "atoms=read('gulp.xyz',format='xyz')\n",
    "atoms.positions\n",
    "atoms.set_cell([[21.889317,0,0], [0,21.889317,0],[0,0,21.889317]])"
   ],
   "outputs": [],
   "metadata": {}
  },
  {
   "cell_type": "code",
   "execution_count": 80,
   "source": [
    "write('optimized.vasp',atoms,format='vasp',vasp5=True)"
   ],
   "outputs": [],
   "metadata": {}
  },
  {
   "cell_type": "code",
   "execution_count": 81,
   "source": [
    "#check nearest distance\n",
    "natom=len(atoms.positions)\n",
    "dist=np.zeros((natom,natom,3))\n",
    "from tqdm import tqdm\n",
    "from nearest import find_nearest\n",
    "for i in tqdm(range(natom)):  \n",
    "    for j in range(i):\n",
    "        xdc,ydc,zdc,rmin=find_nearest(atoms,i,j)\n",
    "        dist[i,j]=np.array([xdc,ydc,zdc])"
   ],
   "outputs": [
    {
     "output_type": "stream",
     "name": "stderr",
     "text": [
      "100%|██████████| 512/512 [01:08<00:00,  7.44it/s]\n"
     ]
    }
   ],
   "metadata": {}
  },
  {
   "cell_type": "code",
   "execution_count": 82,
   "source": [
    "GULP_distx=np.loadtxt('distx.dat')[:,2]\n",
    "GULP_disty=np.loadtxt('disty.dat')[:,2]\n",
    "GULP_distz=np.loadtxt('distz.dat')[:,2]"
   ],
   "outputs": [],
   "metadata": {}
  },
  {
   "cell_type": "code",
   "execution_count": 83,
   "source": [
    "GULP_distx"
   ],
   "outputs": [
    {
     "output_type": "execute_result",
     "data": {
      "text/plain": [
       "array([10.14206505,  7.88180726, -2.26025778, ..., -9.25122951,\n",
       "       -7.09069481, -2.65821372])"
      ]
     },
     "metadata": {},
     "execution_count": 83
    }
   ],
   "metadata": {}
  },
  {
   "cell_type": "code",
   "execution_count": 84,
   "source": [
    "from tqdm import tqdm\n",
    "counter=0\n",
    "diff=[]\n",
    "for i in tqdm(range(natom)):  \n",
    "    for j in range(i):\n",
    "        diffx=np.abs(dist[i,j,0]-GULP_distx[counter])\n",
    "        diffy=np.abs(dist[i,j,1]-GULP_disty[counter])\n",
    "        diffz=np.abs(dist[i,j,1]-GULP_disty[counter])\n",
    "        diff.append([diffx,diffy,diffz])\n",
    "        #print(diffx,diffy,diffz)\n",
    "        counter+=1"
   ],
   "outputs": [
    {
     "output_type": "stream",
     "name": "stderr",
     "text": [
      "100%|██████████| 512/512 [00:00<00:00, 632.71it/s]\n"
     ]
    }
   ],
   "metadata": {}
  },
  {
   "cell_type": "code",
   "execution_count": 85,
   "source": [
    "np.max(np.array(diff))"
   ],
   "outputs": [
    {
     "output_type": "execute_result",
     "data": {
      "text/plain": [
       "9.980016812960457e-10"
      ]
     },
     "metadata": {},
     "execution_count": 85
    }
   ],
   "metadata": {}
  },
  {
   "cell_type": "markdown",
   "source": [
    "距離の計算は間違ってないように見える"
   ],
   "metadata": {}
  },
  {
   "cell_type": "code",
   "execution_count": 86,
   "source": [
    "atoms.get_masses()"
   ],
   "outputs": [
    {
     "output_type": "execute_result",
     "data": {
      "text/plain": [
       "array([28.085, 28.085, 28.085, 28.085, 28.085, 28.085, 28.085, 28.085,\n",
       "       28.085, 28.085, 28.085, 28.085, 28.085, 28.085, 28.085, 28.085,\n",
       "       28.085, 28.085, 28.085, 28.085, 28.085, 28.085, 28.085, 28.085,\n",
       "       28.085, 28.085, 28.085, 28.085, 28.085, 28.085, 28.085, 28.085,\n",
       "       28.085, 28.085, 28.085, 28.085, 28.085, 28.085, 28.085, 28.085,\n",
       "       28.085, 28.085, 28.085, 28.085, 28.085, 28.085, 28.085, 28.085,\n",
       "       28.085, 28.085, 28.085, 28.085, 28.085, 28.085, 28.085, 28.085,\n",
       "       28.085, 28.085, 28.085, 28.085, 28.085, 28.085, 28.085, 28.085,\n",
       "       28.085, 28.085, 28.085, 28.085, 28.085, 28.085, 28.085, 28.085,\n",
       "       28.085, 28.085, 28.085, 28.085, 28.085, 28.085, 28.085, 28.085,\n",
       "       28.085, 28.085, 28.085, 28.085, 28.085, 28.085, 28.085, 28.085,\n",
       "       28.085, 28.085, 28.085, 28.085, 28.085, 28.085, 28.085, 28.085,\n",
       "       28.085, 28.085, 28.085, 28.085, 28.085, 28.085, 28.085, 28.085,\n",
       "       28.085, 28.085, 28.085, 28.085, 28.085, 28.085, 28.085, 28.085,\n",
       "       28.085, 28.085, 28.085, 28.085, 28.085, 28.085, 28.085, 28.085,\n",
       "       28.085, 28.085, 28.085, 28.085, 28.085, 28.085, 28.085, 28.085,\n",
       "       28.085, 28.085, 28.085, 28.085, 28.085, 28.085, 28.085, 28.085,\n",
       "       28.085, 28.085, 28.085, 28.085, 28.085, 28.085, 28.085, 28.085,\n",
       "       28.085, 28.085, 28.085, 28.085, 28.085, 28.085, 28.085, 28.085,\n",
       "       28.085, 28.085, 28.085, 28.085, 28.085, 28.085, 28.085, 28.085,\n",
       "       28.085, 28.085, 28.085, 28.085, 28.085, 28.085, 28.085, 28.085,\n",
       "       28.085, 28.085, 28.085, 28.085, 28.085, 28.085, 28.085, 28.085,\n",
       "       28.085, 28.085, 28.085, 28.085, 28.085, 28.085, 28.085, 28.085,\n",
       "       28.085, 28.085, 28.085, 28.085, 28.085, 28.085, 28.085, 28.085,\n",
       "       28.085, 28.085, 28.085, 28.085, 28.085, 28.085, 28.085, 28.085,\n",
       "       28.085, 28.085, 28.085, 28.085, 28.085, 28.085, 28.085, 28.085,\n",
       "       28.085, 28.085, 28.085, 28.085, 28.085, 28.085, 28.085, 28.085,\n",
       "       28.085, 28.085, 28.085, 28.085, 28.085, 28.085, 28.085, 28.085,\n",
       "       28.085, 28.085, 28.085, 28.085, 28.085, 28.085, 28.085, 28.085,\n",
       "       28.085, 28.085, 28.085, 28.085, 28.085, 28.085, 28.085, 28.085,\n",
       "       28.085, 28.085, 28.085, 28.085, 28.085, 28.085, 28.085, 28.085,\n",
       "       28.085, 28.085, 28.085, 28.085, 28.085, 28.085, 28.085, 28.085,\n",
       "       28.085, 28.085, 28.085, 28.085, 28.085, 28.085, 28.085, 28.085,\n",
       "       28.085, 28.085, 28.085, 28.085, 28.085, 28.085, 28.085, 28.085,\n",
       "       28.085, 28.085, 28.085, 28.085, 28.085, 28.085, 28.085, 28.085,\n",
       "       28.085, 28.085, 28.085, 28.085, 28.085, 28.085, 28.085, 28.085,\n",
       "       28.085, 28.085, 28.085, 28.085, 28.085, 28.085, 28.085, 28.085,\n",
       "       28.085, 28.085, 28.085, 28.085, 28.085, 28.085, 28.085, 28.085,\n",
       "       28.085, 28.085, 28.085, 28.085, 28.085, 28.085, 28.085, 28.085,\n",
       "       28.085, 28.085, 28.085, 28.085, 28.085, 28.085, 28.085, 28.085,\n",
       "       28.085, 28.085, 28.085, 28.085, 28.085, 28.085, 28.085, 28.085,\n",
       "       28.085, 28.085, 28.085, 28.085, 28.085, 28.085, 28.085, 28.085,\n",
       "       28.085, 28.085, 28.085, 28.085, 28.085, 28.085, 28.085, 28.085,\n",
       "       28.085, 28.085, 28.085, 28.085, 28.085, 28.085, 28.085, 28.085,\n",
       "       28.085, 28.085, 28.085, 28.085, 28.085, 28.085, 28.085, 28.085,\n",
       "       28.085, 28.085, 28.085, 28.085, 28.085, 28.085, 28.085, 28.085,\n",
       "       28.085, 28.085, 28.085, 28.085, 28.085, 28.085, 28.085, 28.085,\n",
       "       28.085, 28.085, 28.085, 28.085, 28.085, 28.085, 28.085, 28.085,\n",
       "       28.085, 28.085, 28.085, 28.085, 28.085, 28.085, 28.085, 28.085,\n",
       "       28.085, 28.085, 28.085, 28.085, 28.085, 28.085, 28.085, 28.085,\n",
       "       28.085, 28.085, 28.085, 28.085, 28.085, 28.085, 28.085, 28.085,\n",
       "       28.085, 28.085, 28.085, 28.085, 28.085, 28.085, 28.085, 28.085,\n",
       "       28.085, 28.085, 28.085, 28.085, 28.085, 28.085, 28.085, 28.085,\n",
       "       28.085, 28.085, 28.085, 28.085, 28.085, 28.085, 28.085, 28.085,\n",
       "       28.085, 28.085, 28.085, 28.085, 28.085, 28.085, 28.085, 28.085,\n",
       "       28.085, 28.085, 28.085, 28.085, 28.085, 28.085, 28.085, 28.085,\n",
       "       28.085, 28.085, 28.085, 28.085, 28.085, 28.085, 28.085, 28.085,\n",
       "       28.085, 28.085, 28.085, 28.085, 28.085, 28.085, 28.085, 28.085,\n",
       "       28.085, 28.085, 28.085, 28.085, 28.085, 28.085, 28.085, 28.085,\n",
       "       28.085, 28.085, 28.085, 28.085, 28.085, 28.085, 28.085, 28.085,\n",
       "       28.085, 28.085, 28.085, 28.085, 28.085, 28.085, 28.085, 28.085,\n",
       "       28.085, 28.085, 28.085, 28.085, 28.085, 28.085, 28.085, 28.085,\n",
       "       28.085, 28.085, 28.085, 28.085, 28.085, 28.085, 28.085, 28.085,\n",
       "       28.085, 28.085, 28.085, 28.085, 28.085, 28.085, 28.085, 28.085])"
      ]
     },
     "metadata": {},
     "execution_count": 86
    }
   ],
   "metadata": {}
  },
  {
   "cell_type": "code",
   "execution_count": 87,
   "source": [
    "import numpy as np\n",
    "from ase.io import read\n",
    "\n",
    "'''\n",
    "evaluate velocity operator.\n",
    "structure file: unitcell structure with vasp POSCAR format\n",
    "FC_file: force constant file of phonopy format \n",
    "'''\n",
    "def get_Vij(structure_file,FC_file):\n",
    "    atoms=read(structure_file,format='vasp')\n",
    "    masses=atoms.get_masses()\n",
    "    natom=len(atoms.positions)\n",
    "\n",
    "    dist=np.zeros((natom,natom,3))\n",
    "\n",
    "    from nearest import find_nearest\n",
    "    for i in range(natom):  \n",
    "        for j in range(i):\n",
    "            xdc,ydc,zdc,rmin=find_nearest(atoms,i,j)\n",
    "            dist[i,j]=np.array([xdc,ydc,zdc])\n",
    "    \n",
    "    #reading phonopy format force constant\n",
    "    with open(FC_file,'r') as fc:\n",
    "        lines=fc.readlines()\n",
    "\n",
    "        nlineblock=4\n",
    "        fc_all=np.zeros((natom,natom,3,3))\n",
    "        start=1\n",
    "        for i in range(natom):\n",
    "            for j in range(natom):\n",
    "                fc_block=lines[start+1:start+nlineblock]\n",
    "                fc=np.loadtxt(fc_block)\n",
    "                fc_all[i,j]=fc/np.sqrt(masses[i]*masses[j])\n",
    "                #fc_all[i,j]=fc\n",
    "                start=start+nlineblock\n",
    "    \n",
    "    Rx=dist[:,:,0]\n",
    "    Ry=dist[:,:,1]\n",
    "    Rz=dist[:,:,2]  \n",
    "\n",
    "    Vx=np.zeros((natom,natom,3,3))\n",
    "    Vy=np.zeros((natom,natom,3,3))\n",
    "    Vz=np.zeros((natom,natom,3,3))\n",
    "\n",
    "    #loop only for lower triangle\n",
    "    #make sure that Vij=-Vji\n",
    "    for i in range(natom):\n",
    "        for j in range(i):\n",
    "            Vijx=-Rx[i,j]*fc_all[i,j]\n",
    "            Vx[i,j]=Vijx\n",
    "            Vx[j,i]=-Vijx.T\n",
    "\n",
    "            Vijy=-Ry[i,j]*fc_all[i,j]\n",
    "            Vy[i,j]=Vijy\n",
    "            Vy[j,i]=-Vijy.T\n",
    "\n",
    "            Vijz=-Rz[i,j]*fc_all[i,j]\n",
    "            Vz[i,j]=Vijz\n",
    "            Vz[j,i]=-Vijz.T\n",
    "\n",
    "    #reshape to (natom*3,natom*3) that matches with GULP format\n",
    "\n",
    "    flatVx=np.reshape(Vx.transpose(0,2,1,3),(natom*3,natom*3))\n",
    "    flatVy=np.reshape(Vy.transpose(0,2,1,3),(natom*3,natom*3))\n",
    "    flatVz=np.reshape(Vz.transpose(0,2,1,3),(natom*3,natom*3))\n",
    "\n",
    "    return flatVx, flatVy, flatVz"
   ],
   "outputs": [],
   "metadata": {}
  },
  {
   "cell_type": "code",
   "execution_count": 88,
   "source": [
    "structure_file='optimized.vasp'\n",
    "FC_file='FORCE_CONSTANTS_2ND'\n",
    "\n",
    "Vx, Vy, Vz=get_Vij(structure_file,FC_file)"
   ],
   "outputs": [],
   "metadata": {}
  },
  {
   "cell_type": "code",
   "execution_count": 89,
   "source": [
    "import numpy as np \n",
    "natom=len(atoms.positions)\n",
    "eigenvector=np.loadtxt('eigr.dat').reshape((natom*3,natom*3))\n",
    "omega=np.loadtxt('freq.dat')"
   ],
   "outputs": [],
   "metadata": {}
  },
  {
   "cell_type": "code",
   "execution_count": 90,
   "source": [
    "'''\n",
    "evaluate heat flux operator matrix element.\n",
    "Vx, Vy, Vz is the return of get_Vij\n",
    "omega--> phonon frequency\n",
    "note that eigenvector is assumed to store in column order (same as the return of numpy.linalg.eig)\n",
    "'''\n",
    "def get_Sij(Vx,Vy,Vz, eigenvector, omega):\n",
    "\n",
    "    nmodes=len(omega)\n",
    "\n",
    "    #confirm matrix shape\n",
    "    if(Vx.shape[0]!=Vx.shape[1] or Vx.shape[0]!=nmodes):\n",
    "        assert \"matrix shape Vx is strange\"\n",
    "\n",
    "    if(Vy.shape[0]!=Vy.shape[1] or Vy.shape[0]!=nmodes):\n",
    "        assert \"matrix shape Vy is strange\"   \n",
    "\n",
    "    if(Vz.shape[0]!=Vz.shape[1] or Vz.shape[0]!=nmodes):\n",
    "        assert \"matrix shape Vz is strange\"  \n",
    "\n",
    "    if(eigenvector.shape[0]!=eigenvector.shape[1] or eigenvector.shape[0]!=nmodes):\n",
    "        assert \"matrix shape eigenvector is strange\" \n",
    "\n",
    "    #here the shape of eigenvector is assumed to that the typical return of numpy.linalg.eig\n",
    "    #thus, each column is the eigenvector of each mode\n",
    "    tmpx=np.dot(Vx,eigenvector)\n",
    "    EVijx=np.dot(eigenvector.T,tmpx)\n",
    "\n",
    "    tmpy=np.dot(Vy,eigenvector)\n",
    "    EVijy=np.dot(eigenvector.T,tmpy)\n",
    "\n",
    "    tmpz=np.dot(Vz,eigenvector)\n",
    "    EVijz=np.dot(eigenvector.T,tmpz)\n",
    "\n",
    "\n",
    "    Sijx=np.zeros((nmodes,nmodes))\n",
    "    Sijy=np.zeros((nmodes,nmodes))\n",
    "    Sijz=np.zeros((nmodes,nmodes))\n",
    "\n",
    "    nfreqmin = 0\n",
    "    inv_omega=np.zeros(nmodes)\n",
    "    for i in range(nmodes):\n",
    "        if (nfreqmin==0 and omega[i]> 0.01):\n",
    "            nfreqmin = i\n",
    "        if omega[i] >0.0:\n",
    "            inv_omega[i]=1.0/np.sqrt(omega[i])\n",
    "        else:\n",
    "            inv_omega[i]=0.0\n",
    "\n",
    "\n",
    "    for i in range(nmodes):\n",
    "        for j in range(nmodes):\n",
    "            Sijx[i,j]=EVijx[i,j]*(omega[i]+omega[j])*inv_omega[i]*inv_omega[j]\n",
    "            Sijy[i,j]=EVijy[i,j]*(omega[i]+omega[j])*inv_omega[i]*inv_omega[j]\n",
    "            Sijz[i,j]=EVijz[i,j]*(omega[i]+omega[j])*inv_omega[i]*inv_omega[j]\n",
    "    \n",
    "    return Sijx, Sijy, Sijz"
   ],
   "outputs": [],
   "metadata": {}
  },
  {
   "cell_type": "code",
   "execution_count": 91,
   "source": [
    "Sx,Sy,Sz=get_Sij(Vx,Vy,Vz,eigenvector,omega)"
   ],
   "outputs": [],
   "metadata": {}
  },
  {
   "cell_type": "code",
   "execution_count": 92,
   "source": [
    "#check\n",
    "GULP_Vijx=np.loadtxt('Vijx.dat').reshape((natom*3,natom*3))\n",
    "np.where(np.abs(Vx-GULP_Vijx) > 0.1)"
   ],
   "outputs": [
    {
     "output_type": "execute_result",
     "data": {
      "text/plain": [
       "(array([], dtype=int64), array([], dtype=int64))"
      ]
     },
     "metadata": {},
     "execution_count": 92
    }
   ],
   "metadata": {}
  },
  {
   "cell_type": "code",
   "execution_count": 93,
   "source": [
    "Vx[0,243:260]"
   ],
   "outputs": [
    {
     "output_type": "execute_result",
     "data": {
      "text/plain": [
       "array([-0.11037678,  0.0387957 ,  0.13679122,  0.        ,  0.        ,\n",
       "        0.        ,  0.        ,  0.        ,  0.        , -0.        ,\n",
       "       -0.        , -0.        ,  0.        ,  0.        ,  0.        ,\n",
       "        0.        ,  0.        ])"
      ]
     },
     "metadata": {},
     "execution_count": 93
    }
   ],
   "metadata": {}
  },
  {
   "cell_type": "code",
   "execution_count": 94,
   "source": [
    "GULP_Vijx[0,243:260]"
   ],
   "outputs": [
    {
     "output_type": "execute_result",
     "data": {
      "text/plain": [
       "array([-0.11035713,  0.0387888 ,  0.13676687,  0.        ,  0.        ,\n",
       "        0.        ,  0.        ,  0.        ,  0.        ,  0.        ,\n",
       "        0.        ,  0.        ,  0.        ,  0.        ,  0.        ,\n",
       "        0.        ,  0.        ])"
      ]
     },
     "metadata": {},
     "execution_count": 94
    }
   ],
   "metadata": {}
  },
  {
   "cell_type": "markdown",
   "source": [
    "0,82の要素を詳しくみてみる"
   ],
   "metadata": {}
  },
  {
   "cell_type": "code",
   "execution_count": 95,
   "source": [
    "masses=atoms.get_masses()\n",
    "\n",
    "with open(FC_file,'r') as fc:\n",
    "    lines=fc.readlines()\n",
    "    nlineblock=4\n",
    "    fc_all=np.zeros((natom,natom,3,3))\n",
    "    start=1\n",
    "    for i in range(natom):\n",
    "        for j in range(natom):\n",
    "            fc_block=lines[start+1:start+nlineblock]\n",
    "            fc=np.loadtxt(fc_block)\n",
    "            fc_all[i,j]=fc/np.sqrt(masses[i]*masses[j])\n",
    "            #fc_all[i,j]=fc\n",
    "            start=start+nlineblock"
   ],
   "outputs": [],
   "metadata": {}
  },
  {
   "cell_type": "code",
   "execution_count": 96,
   "source": [
    "fc_all[0,81]"
   ],
   "outputs": [
    {
     "output_type": "execute_result",
     "data": {
      "text/plain": [
       "array([[-0.10056151,  0.03534579,  0.12462704],\n",
       "       [ 0.05026058, -0.08582116, -0.14422731],\n",
       "       [ 0.10238973, -0.09820934, -0.25153559]])"
      ]
     },
     "metadata": {},
     "execution_count": 96
    }
   ],
   "metadata": {}
  },
  {
   "cell_type": "code",
   "execution_count": 97,
   "source": [
    "fc_all[81,0]"
   ],
   "outputs": [
    {
     "output_type": "execute_result",
     "data": {
      "text/plain": [
       "array([[-0.10056151,  0.05026058,  0.10238973],\n",
       "       [ 0.03534579, -0.08582116, -0.09820934],\n",
       "       [ 0.12462704, -0.14422731, -0.25153559]])"
      ]
     },
     "metadata": {},
     "execution_count": 97
    }
   ],
   "metadata": {}
  },
  {
   "cell_type": "markdown",
   "source": [
    "アモルファスの場合は非対角項がある。i,jとj,iは転置の関係にある。\n",
    "これが上手く反映されていないように見える"
   ],
   "metadata": {}
  },
  {
   "cell_type": "code",
   "execution_count": 98,
   "source": [
    "dist[81,0,0]"
   ],
   "outputs": [
    {
     "output_type": "execute_result",
     "data": {
      "text/plain": [
       "1.0976046420000003"
      ]
     },
     "metadata": {},
     "execution_count": 98
    }
   ],
   "metadata": {}
  },
  {
   "cell_type": "code",
   "execution_count": 99,
   "source": [
    "fc_all[0,81]*dist[81,0,0]"
   ],
   "outputs": [
    {
     "output_type": "execute_result",
     "data": {
      "text/plain": [
       "array([[-0.11037678,  0.0387957 ,  0.13679122],\n",
       "       [ 0.05516625, -0.0941977 , -0.15830457],\n",
       "       [ 0.11238344, -0.10779503, -0.27608664]])"
      ]
     },
     "metadata": {},
     "execution_count": 99
    }
   ],
   "metadata": {}
  },
  {
   "cell_type": "markdown",
   "source": [
    "```\n",
    "-0.11035713,  0.0387888 ,  0.13676687\n",
    "```\n",
    "force constant と距離の積から求めると、GULPの計算とあっている。\n",
    "tensorのreshapeの挙動がおかしいのかも\n",
    "--> 転置をきちんと入れる処理で解決"
   ],
   "metadata": {}
  },
  {
   "cell_type": "code",
   "execution_count": 101,
   "source": [
    "#check\n",
    "GULP_Vijy=np.loadtxt('Vijy.dat').reshape((natom*3,natom*3))\n",
    "np.where(np.abs(Vy-GULP_Vijy) > 0.01)"
   ],
   "outputs": [
    {
     "output_type": "execute_result",
     "data": {
      "text/plain": [
       "(array([], dtype=int64), array([], dtype=int64))"
      ]
     },
     "metadata": {},
     "execution_count": 101
    }
   ],
   "metadata": {}
  },
  {
   "cell_type": "code",
   "execution_count": 102,
   "source": [
    "GULP_Vijz=np.loadtxt('Vijz.dat').reshape((natom*3,natom*3))\n",
    "np.where(np.abs(Vz-GULP_Vijz) > 0.01)"
   ],
   "outputs": [
    {
     "output_type": "execute_result",
     "data": {
      "text/plain": [
       "(array([], dtype=int64), array([], dtype=int64))"
      ]
     },
     "metadata": {},
     "execution_count": 102
    }
   ],
   "metadata": {}
  },
  {
   "cell_type": "code",
   "execution_count": 103,
   "source": [
    "GULP_Sijx=np.loadtxt('Sijx.dat').reshape((natom*3,natom*3))\n",
    "np.where(np.abs(Sx-GULP_Sijx) > 0.01)"
   ],
   "outputs": [
    {
     "output_type": "execute_result",
     "data": {
      "text/plain": [
       "(array([], dtype=int64), array([], dtype=int64))"
      ]
     },
     "metadata": {},
     "execution_count": 103
    }
   ],
   "metadata": {}
  },
  {
   "cell_type": "code",
   "execution_count": null,
   "source": [
    "GULP_Sijy=np.loadtxt('Sijy.dat').reshape((natom*3,natom*3))\n",
    "np.where(np.abs(Sy-GULP_Sijy) > 0.01)"
   ],
   "outputs": [],
   "metadata": {}
  }
 ],
 "metadata": {
  "orig_nbformat": 4,
  "language_info": {
   "name": "python",
   "version": "3.9.5",
   "mimetype": "text/x-python",
   "codemirror_mode": {
    "name": "ipython",
    "version": 3
   },
   "pygments_lexer": "ipython3",
   "nbconvert_exporter": "python",
   "file_extension": ".py"
  },
  "kernelspec": {
   "name": "python3",
   "display_name": "Python 3.9.5 64-bit ('env_3.9': venv)"
  },
  "interpreter": {
   "hash": "f28014fb09611fa8280d50d19c96de868b70c0c432dcef6642ed055c9deb0d24"
  }
 },
 "nbformat": 4,
 "nbformat_minor": 2
}