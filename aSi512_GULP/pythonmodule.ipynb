{
 "cells": [
  {
   "cell_type": "code",
   "execution_count": 36,
   "source": [
    "from ase.io import read,write\n",
    "import numpy as np\n",
    "atoms=read('gulp.xyz',format='xyz')\n",
    "atoms.positions\n",
    "atoms.set_cell([[21.889317,0,0], [0,21.889317,0],[0,0,21.889317]])"
   ],
   "outputs": [],
   "metadata": {}
  },
  {
   "cell_type": "code",
   "execution_count": 37,
   "source": [
    "write('optimized.vasp',atoms,format='vasp',vasp5=True)"
   ],
   "outputs": [],
   "metadata": {}
  },
  {
   "cell_type": "code",
   "execution_count": 38,
   "source": [
    "#check nearest distance\n",
    "natom=len(atoms.positions)\n",
    "dist=np.zeros((natom,natom,3))\n",
    "from tqdm import tqdm\n",
    "from nearest import find_nearest\n",
    "for i in tqdm(range(natom)):  \n",
    "    for j in range(i):\n",
    "        xdc,ydc,zdc,rmin=find_nearest(atoms,i,j)\n",
    "        dist[i,j]=np.array([xdc,ydc,zdc])"
   ],
   "outputs": [
    {
     "output_type": "stream",
     "name": "stderr",
     "text": [
      "100%|██████████| 512/512 [01:09<00:00,  7.40it/s]\n"
     ]
    }
   ],
   "metadata": {}
  },
  {
   "cell_type": "code",
   "execution_count": 39,
   "source": [
    "GULP_distx=np.loadtxt('distx.dat')[:,2]\n",
    "GULP_disty=np.loadtxt('disty.dat')[:,2]\n",
    "GULP_distz=np.loadtxt('distz.dat')[:,2]"
   ],
   "outputs": [],
   "metadata": {}
  },
  {
   "cell_type": "code",
   "execution_count": 40,
   "source": [
    "GULP_distx"
   ],
   "outputs": [
    {
     "output_type": "execute_result",
     "data": {
      "text/plain": [
       "array([10.14206505,  7.88180726, -2.26025778, ..., -9.25122951,\n",
       "       -7.09069481, -2.65821372])"
      ]
     },
     "metadata": {},
     "execution_count": 40
    }
   ],
   "metadata": {}
  },
  {
   "cell_type": "code",
   "execution_count": 41,
   "source": [
    "from tqdm import tqdm\n",
    "counter=0\n",
    "diff=[]\n",
    "for i in tqdm(range(natom)):  \n",
    "    for j in range(i):\n",
    "        diffx=np.abs(dist[i,j,0]-GULP_distx[counter])\n",
    "        diffy=np.abs(dist[i,j,1]-GULP_disty[counter])\n",
    "        diffz=np.abs(dist[i,j,1]-GULP_disty[counter])\n",
    "        diff.append([diffx,diffy,diffz])\n",
    "        #print(diffx,diffy,diffz)\n",
    "        counter+=1"
   ],
   "outputs": [
    {
     "output_type": "stream",
     "name": "stderr",
     "text": [
      "100%|██████████| 512/512 [00:00<00:00, 664.56it/s]\n"
     ]
    }
   ],
   "metadata": {}
  },
  {
   "cell_type": "code",
   "execution_count": 42,
   "source": [
    "np.max(np.array(diff))"
   ],
   "outputs": [
    {
     "output_type": "execute_result",
     "data": {
      "text/plain": [
       "9.980016812960457e-10"
      ]
     },
     "metadata": {},
     "execution_count": 42
    }
   ],
   "metadata": {}
  },
  {
   "cell_type": "markdown",
   "source": [
    "距離の計算は間違ってないように見える"
   ],
   "metadata": {}
  },
  {
   "cell_type": "code",
   "execution_count": 43,
   "source": [
    "atoms.get_masses()"
   ],
   "outputs": [
    {
     "output_type": "execute_result",
     "data": {
      "text/plain": [
       "array([28.085, 28.085, 28.085, 28.085, 28.085, 28.085, 28.085, 28.085,\n",
       "       28.085, 28.085, 28.085, 28.085, 28.085, 28.085, 28.085, 28.085,\n",
       "       28.085, 28.085, 28.085, 28.085, 28.085, 28.085, 28.085, 28.085,\n",
       "       28.085, 28.085, 28.085, 28.085, 28.085, 28.085, 28.085, 28.085,\n",
       "       28.085, 28.085, 28.085, 28.085, 28.085, 28.085, 28.085, 28.085,\n",
       "       28.085, 28.085, 28.085, 28.085, 28.085, 28.085, 28.085, 28.085,\n",
       "       28.085, 28.085, 28.085, 28.085, 28.085, 28.085, 28.085, 28.085,\n",
       "       28.085, 28.085, 28.085, 28.085, 28.085, 28.085, 28.085, 28.085,\n",
       "       28.085, 28.085, 28.085, 28.085, 28.085, 28.085, 28.085, 28.085,\n",
       "       28.085, 28.085, 28.085, 28.085, 28.085, 28.085, 28.085, 28.085,\n",
       "       28.085, 28.085, 28.085, 28.085, 28.085, 28.085, 28.085, 28.085,\n",
       "       28.085, 28.085, 28.085, 28.085, 28.085, 28.085, 28.085, 28.085,\n",
       "       28.085, 28.085, 28.085, 28.085, 28.085, 28.085, 28.085, 28.085,\n",
       "       28.085, 28.085, 28.085, 28.085, 28.085, 28.085, 28.085, 28.085,\n",
       "       28.085, 28.085, 28.085, 28.085, 28.085, 28.085, 28.085, 28.085,\n",
       "       28.085, 28.085, 28.085, 28.085, 28.085, 28.085, 28.085, 28.085,\n",
       "       28.085, 28.085, 28.085, 28.085, 28.085, 28.085, 28.085, 28.085,\n",
       "       28.085, 28.085, 28.085, 28.085, 28.085, 28.085, 28.085, 28.085,\n",
       "       28.085, 28.085, 28.085, 28.085, 28.085, 28.085, 28.085, 28.085,\n",
       "       28.085, 28.085, 28.085, 28.085, 28.085, 28.085, 28.085, 28.085,\n",
       "       28.085, 28.085, 28.085, 28.085, 28.085, 28.085, 28.085, 28.085,\n",
       "       28.085, 28.085, 28.085, 28.085, 28.085, 28.085, 28.085, 28.085,\n",
       "       28.085, 28.085, 28.085, 28.085, 28.085, 28.085, 28.085, 28.085,\n",
       "       28.085, 28.085, 28.085, 28.085, 28.085, 28.085, 28.085, 28.085,\n",
       "       28.085, 28.085, 28.085, 28.085, 28.085, 28.085, 28.085, 28.085,\n",
       "       28.085, 28.085, 28.085, 28.085, 28.085, 28.085, 28.085, 28.085,\n",
       "       28.085, 28.085, 28.085, 28.085, 28.085, 28.085, 28.085, 28.085,\n",
       "       28.085, 28.085, 28.085, 28.085, 28.085, 28.085, 28.085, 28.085,\n",
       "       28.085, 28.085, 28.085, 28.085, 28.085, 28.085, 28.085, 28.085,\n",
       "       28.085, 28.085, 28.085, 28.085, 28.085, 28.085, 28.085, 28.085,\n",
       "       28.085, 28.085, 28.085, 28.085, 28.085, 28.085, 28.085, 28.085,\n",
       "       28.085, 28.085, 28.085, 28.085, 28.085, 28.085, 28.085, 28.085,\n",
       "       28.085, 28.085, 28.085, 28.085, 28.085, 28.085, 28.085, 28.085,\n",
       "       28.085, 28.085, 28.085, 28.085, 28.085, 28.085, 28.085, 28.085,\n",
       "       28.085, 28.085, 28.085, 28.085, 28.085, 28.085, 28.085, 28.085,\n",
       "       28.085, 28.085, 28.085, 28.085, 28.085, 28.085, 28.085, 28.085,\n",
       "       28.085, 28.085, 28.085, 28.085, 28.085, 28.085, 28.085, 28.085,\n",
       "       28.085, 28.085, 28.085, 28.085, 28.085, 28.085, 28.085, 28.085,\n",
       "       28.085, 28.085, 28.085, 28.085, 28.085, 28.085, 28.085, 28.085,\n",
       "       28.085, 28.085, 28.085, 28.085, 28.085, 28.085, 28.085, 28.085,\n",
       "       28.085, 28.085, 28.085, 28.085, 28.085, 28.085, 28.085, 28.085,\n",
       "       28.085, 28.085, 28.085, 28.085, 28.085, 28.085, 28.085, 28.085,\n",
       "       28.085, 28.085, 28.085, 28.085, 28.085, 28.085, 28.085, 28.085,\n",
       "       28.085, 28.085, 28.085, 28.085, 28.085, 28.085, 28.085, 28.085,\n",
       "       28.085, 28.085, 28.085, 28.085, 28.085, 28.085, 28.085, 28.085,\n",
       "       28.085, 28.085, 28.085, 28.085, 28.085, 28.085, 28.085, 28.085,\n",
       "       28.085, 28.085, 28.085, 28.085, 28.085, 28.085, 28.085, 28.085,\n",
       "       28.085, 28.085, 28.085, 28.085, 28.085, 28.085, 28.085, 28.085,\n",
       "       28.085, 28.085, 28.085, 28.085, 28.085, 28.085, 28.085, 28.085,\n",
       "       28.085, 28.085, 28.085, 28.085, 28.085, 28.085, 28.085, 28.085,\n",
       "       28.085, 28.085, 28.085, 28.085, 28.085, 28.085, 28.085, 28.085,\n",
       "       28.085, 28.085, 28.085, 28.085, 28.085, 28.085, 28.085, 28.085,\n",
       "       28.085, 28.085, 28.085, 28.085, 28.085, 28.085, 28.085, 28.085,\n",
       "       28.085, 28.085, 28.085, 28.085, 28.085, 28.085, 28.085, 28.085,\n",
       "       28.085, 28.085, 28.085, 28.085, 28.085, 28.085, 28.085, 28.085,\n",
       "       28.085, 28.085, 28.085, 28.085, 28.085, 28.085, 28.085, 28.085,\n",
       "       28.085, 28.085, 28.085, 28.085, 28.085, 28.085, 28.085, 28.085,\n",
       "       28.085, 28.085, 28.085, 28.085, 28.085, 28.085, 28.085, 28.085,\n",
       "       28.085, 28.085, 28.085, 28.085, 28.085, 28.085, 28.085, 28.085,\n",
       "       28.085, 28.085, 28.085, 28.085, 28.085, 28.085, 28.085, 28.085,\n",
       "       28.085, 28.085, 28.085, 28.085, 28.085, 28.085, 28.085, 28.085,\n",
       "       28.085, 28.085, 28.085, 28.085, 28.085, 28.085, 28.085, 28.085,\n",
       "       28.085, 28.085, 28.085, 28.085, 28.085, 28.085, 28.085, 28.085,\n",
       "       28.085, 28.085, 28.085, 28.085, 28.085, 28.085, 28.085, 28.085])"
      ]
     },
     "metadata": {},
     "execution_count": 43
    }
   ],
   "metadata": {}
  },
  {
   "cell_type": "code",
   "execution_count": 44,
   "source": [
    "import numpy as np\n",
    "from ase.io import read\n",
    "\n",
    "'''\n",
    "evaluate velocity operator.\n",
    "structure file: unitcell structure with vasp POSCAR format\n",
    "FC_file: force constant file of phonopy format \n",
    "'''\n",
    "def get_Vij(structure_file,FC_file):\n",
    "    atoms=read(structure_file,format='vasp')\n",
    "    masses=atoms.get_masses()\n",
    "    natom=len(atoms.positions)\n",
    "\n",
    "    dist=np.zeros((natom,natom,3))\n",
    "\n",
    "    from nearest import find_nearest\n",
    "    for i in range(natom):  \n",
    "        for j in range(i):\n",
    "            xdc,ydc,zdc,rmin=find_nearest(atoms,i,j)\n",
    "            dist[i,j]=np.array([xdc,ydc,zdc])\n",
    "    \n",
    "    #reading phonopy format force constant\n",
    "    with open(FC_file,'r') as fc:\n",
    "        lines=fc.readlines()\n",
    "\n",
    "        nlineblock=4\n",
    "        fc_all=np.zeros((natom,natom,3,3))\n",
    "        start=1\n",
    "        for i in range(natom):\n",
    "            for j in range(natom):\n",
    "                fc_block=lines[start+1:start+nlineblock]\n",
    "                fc=np.loadtxt(fc_block)\n",
    "                fc_all[i,j]=fc/np.sqrt(masses[i]*masses[j])\n",
    "                #fc_all[i,j]=fc\n",
    "                start=start+nlineblock\n",
    "    \n",
    "    Rx=dist[:,:,0]\n",
    "    Ry=dist[:,:,1]\n",
    "    Rz=dist[:,:,2]  \n",
    "\n",
    "    Vx=np.zeros((natom,natom,3,3))\n",
    "    Vy=np.zeros((natom,natom,3,3))\n",
    "    Vz=np.zeros((natom,natom,3,3))\n",
    "\n",
    "    #loop only for lower triangle\n",
    "    #make sure that Vij=-Vji\n",
    "    for i in range(natom):\n",
    "        for j in range(i):\n",
    "            Vijx=-Rx[i,j]*fc_all[i,j]\n",
    "            Vx[i,j]=Vijx\n",
    "            Vx[j,i]=-Vijx.T\n",
    "\n",
    "            Vijy=-Ry[i,j]*fc_all[i,j]\n",
    "            Vy[i,j]=Vijy\n",
    "            Vy[j,i]=-Vijy.T\n",
    "\n",
    "            Vijz=-Rz[i,j]*fc_all[i,j]\n",
    "            Vz[i,j]=Vijz\n",
    "            Vz[j,i]=-Vijz.T\n",
    "\n",
    "    #reshape to (natom*3,natom*3) that matches with GULP format\n",
    "    flatVx=np.zeros((natom*3,natom*3))\n",
    "    flatVy=np.zeros((natom*3,natom*3))\n",
    "    flatVz=np.zeros((natom*3,natom*3))\n",
    "\n",
    "    for i in range(natom):\n",
    "        for j in range(natom):\n",
    "            flatVx[i*3:i*3+3,j*3:j*3+3]=Vx[i,j]\n",
    "            flatVy[i*3:i*3+3,j*3:j*3+3]=Vy[i,j]\n",
    "            flatVz[i*3:i*3+3,j*3:j*3+3]=Vz[i,j]\n",
    "\n",
    "    return flatVx, flatVy, flatVz"
   ],
   "outputs": [],
   "metadata": {}
  },
  {
   "cell_type": "code",
   "execution_count": 45,
   "source": [
    "structure_file='optimized.vasp'\n",
    "FC_file='FORCE_CONSTANTS_2ND'\n",
    "\n",
    "Vx, Vy, Vz=get_Vij(structure_file,FC_file)"
   ],
   "outputs": [],
   "metadata": {}
  },
  {
   "cell_type": "code",
   "execution_count": 46,
   "source": [
    "import numpy as np \n",
    "natom=len(atoms.positions)\n",
    "eigenvector=np.loadtxt('eigr.dat').reshape((natom*3,natom*3))\n",
    "omega=np.loadtxt('freq.dat')"
   ],
   "outputs": [],
   "metadata": {}
  },
  {
   "cell_type": "code",
   "execution_count": 47,
   "source": [
    "'''\n",
    "evaluate heat flux operator matrix element.\n",
    "Vx, Vy, Vz is the return of get_Vij\n",
    "omega--> phonon frequency\n",
    "note that eigenvector is assumed to store in column order (same as the return of numpy.linalg.eig)\n",
    "'''\n",
    "def get_Sij(Vx,Vy,Vz, eigenvector, omega):\n",
    "\n",
    "    nmodes=len(omega)\n",
    "\n",
    "    #confirm matrix shape\n",
    "    if(Vx.shape[0]!=Vx.shape[1] or Vx.shape[0]!=nmodes):\n",
    "        assert \"matrix shape Vx is strange\"\n",
    "\n",
    "    if(Vy.shape[0]!=Vy.shape[1] or Vy.shape[0]!=nmodes):\n",
    "        assert \"matrix shape Vy is strange\"   \n",
    "\n",
    "    if(Vz.shape[0]!=Vz.shape[1] or Vz.shape[0]!=nmodes):\n",
    "        assert \"matrix shape Vz is strange\"  \n",
    "\n",
    "    if(eigenvector.shape[0]!=eigenvector.shape[1] or eigenvector.shape[0]!=nmodes):\n",
    "        assert \"matrix shape eigenvector is strange\" \n",
    "\n",
    "    #here the shape of eigenvector is assumed to that the typical return of numpy.linalg.eig\n",
    "    #thus, each column is the eigenvector of each mode\n",
    "    tmpx=np.dot(Vx,eigenvector)\n",
    "    EVijx=np.dot(eigenvector.T,tmpx)\n",
    "\n",
    "    tmpy=np.dot(Vy,eigenvector)\n",
    "    EVijy=np.dot(eigenvector.T,tmpy)\n",
    "\n",
    "    tmpz=np.dot(Vz,eigenvector)\n",
    "    EVijz=np.dot(eigenvector.T,tmpz)\n",
    "\n",
    "\n",
    "    Sijx=np.zeros((nmodes,nmodes))\n",
    "    Sijy=np.zeros((nmodes,nmodes))\n",
    "    Sijz=np.zeros((nmodes,nmodes))\n",
    "\n",
    "    nfreqmin = 0\n",
    "    inv_omega=np.zeros(nmodes)\n",
    "    for i in range(nmodes):\n",
    "        if (nfreqmin==0 and omega[i]> 0.01):\n",
    "            nfreqmin = i\n",
    "        if omega[i] >0.0:\n",
    "            inv_omega[i]=1.0/np.sqrt(omega[i])\n",
    "        else:\n",
    "            inv_omega[i]=0.0\n",
    "\n",
    "\n",
    "    for i in range(nmodes):\n",
    "        for j in range(nmodes):\n",
    "            Sijx[i,j]=EVijx[i,j]*(omega[i]+omega[j])*inv_omega[i]*inv_omega[j]\n",
    "            Sijy[i,j]=EVijy[i,j]*(omega[i]+omega[j])*inv_omega[i]*inv_omega[j]\n",
    "            Sijz[i,j]=EVijz[i,j]*(omega[i]+omega[j])*inv_omega[i]*inv_omega[j]\n",
    "    \n",
    "    return Sijx, Sijy, Sijz"
   ],
   "outputs": [],
   "metadata": {}
  },
  {
   "cell_type": "code",
   "execution_count": 48,
   "source": [
    "Sx,Sy,Sz=get_Sij(Vx,Vy,Vz,eigenvector,omega)"
   ],
   "outputs": [],
   "metadata": {}
  },
  {
   "cell_type": "code",
   "execution_count": 49,
   "source": [
    "#check\n",
    "GULP_Vijx=np.loadtxt('Vijx.dat').reshape((natom*3,natom*3))\n",
    "np.where(np.abs(Vx-GULP_Vijx) > 0.1)"
   ],
   "outputs": [
    {
     "output_type": "execute_result",
     "data": {
      "text/plain": [
       "(array([  54,   55,  108,  108,  108,  109,  109,  110,  114,  114,  115,\n",
       "         116,  117,  117,  117,  118,  118,  119,  132,  132,  133,  133,\n",
       "         134,  134,  174,  175,  183,  184,  201,  203,  204,  204,  204,\n",
       "         204,  204,  205,  205,  205,  205,  206,  206,  206,  216,  216,\n",
       "         217,  218,  225,  225,  225,  225,  226,  226,  226,  227,  315,\n",
       "         316,  366,  367,  372,  373,  374,  374,  429,  429,  430,  431,\n",
       "         459,  459,  459,  459,  460,  460,  460,  461,  461,  461,  486,\n",
       "         487,  488,  488,  510,  511,  579,  579,  580,  581,  624,  625,\n",
       "         645,  645,  646,  647,  724,  725,  756,  756,  757,  758,  759,\n",
       "         761,  789,  791,  804,  806,  853,  854,  930,  931,  933,  934,\n",
       "         957,  958,  959,  959,  960,  961,  999, 1001, 1002, 1002, 1003,\n",
       "        1004, 1074, 1074, 1075, 1076, 1137, 1139, 1230, 1232, 1266, 1267,\n",
       "        1440, 1441]),\n",
       " array([1294, 1293,  217,  767, 1321,  216, 1320,  765, 1240, 1241, 1239,\n",
       "        1239,  217,  526,  527,  216,  525,  525,  283,  284,  282,  284,\n",
       "         282,  283, 1240, 1239,  766,  765,  830,  828,  226,  931,  932,\n",
       "        1486, 1487,  225,  930, 1485, 1487,  930, 1485, 1486,  526, 1241,\n",
       "         525, 1239,  931,  932,  961, 1390,  930,  960, 1389,  930, 1231,\n",
       "        1230, 1465, 1464, 1367,  671,  670, 1365, 1267, 1466, 1266, 1464,\n",
       "         625,  626, 1384, 1385,  624,  626, 1383,  624,  625, 1383,  731,\n",
       "         731,  729,  730,  904,  903,  812, 1462, 1461,  810, 1462, 1461,\n",
       "        1513, 1514, 1512, 1512, 1481, 1480,  791, 1501, 1500,  789, 1262,\n",
       "        1260, 1133, 1131, 1127, 1125, 1337, 1336, 1486, 1485,  946,  945,\n",
       "        1487, 1487, 1485, 1486, 1390, 1389, 1262, 1260, 1462, 1463, 1461,\n",
       "        1461, 1321, 1322, 1320, 1320, 1301, 1299, 1436, 1434, 1465, 1464,\n",
       "        1471, 1470]))"
      ]
     },
     "metadata": {},
     "execution_count": 49
    }
   ],
   "metadata": {}
  },
  {
   "cell_type": "code",
   "execution_count": 56,
   "source": [
    "Vx[0,243:260]"
   ],
   "outputs": [
    {
     "output_type": "execute_result",
     "data": {
      "text/plain": [
       "array([-0.11037678,  0.05516625,  0.11238344,  0.        ,  0.        ,\n",
       "        0.        ,  0.        ,  0.        ,  0.        , -0.        ,\n",
       "       -0.        , -0.        ,  0.        ,  0.        ,  0.        ,\n",
       "        0.        ,  0.        ])"
      ]
     },
     "metadata": {},
     "execution_count": 56
    }
   ],
   "metadata": {}
  },
  {
   "cell_type": "code",
   "execution_count": 51,
   "source": [
    "GULP_Vijx[0,243:260]"
   ],
   "outputs": [
    {
     "output_type": "execute_result",
     "data": {
      "text/plain": [
       "array([-0.11035713,  0.0387888 ,  0.13676687,  0.        ,  0.        ,\n",
       "        0.        ,  0.        ,  0.        ,  0.        ,  0.        ,\n",
       "        0.        ,  0.        ,  0.        ,  0.        ,  0.        ,\n",
       "        0.        ,  0.        ])"
      ]
     },
     "metadata": {},
     "execution_count": 51
    }
   ],
   "metadata": {}
  },
  {
   "cell_type": "markdown",
   "source": [
    "0,82の要素を詳しくみてみる"
   ],
   "metadata": {}
  },
  {
   "cell_type": "code",
   "execution_count": 52,
   "source": [
    "masses=atoms.get_masses()\n",
    "\n",
    "with open(FC_file,'r') as fc:\n",
    "    lines=fc.readlines()\n",
    "    nlineblock=4\n",
    "    fc_all=np.zeros((natom,natom,3,3))\n",
    "    start=1\n",
    "    for i in range(natom):\n",
    "        for j in range(natom):\n",
    "            fc_block=lines[start+1:start+nlineblock]\n",
    "            fc=np.loadtxt(fc_block)\n",
    "            fc_all[i,j]=fc/np.sqrt(masses[i]*masses[j])\n",
    "            #fc_all[i,j]=fc\n",
    "            start=start+nlineblock"
   ],
   "outputs": [],
   "metadata": {}
  },
  {
   "cell_type": "code",
   "execution_count": 53,
   "source": [
    "fc_all[0,81]"
   ],
   "outputs": [
    {
     "output_type": "execute_result",
     "data": {
      "text/plain": [
       "array([[-0.10056151,  0.03534579,  0.12462704],\n",
       "       [ 0.05026058, -0.08582116, -0.14422731],\n",
       "       [ 0.10238973, -0.09820934, -0.25153559]])"
      ]
     },
     "metadata": {},
     "execution_count": 53
    }
   ],
   "metadata": {}
  },
  {
   "cell_type": "code",
   "execution_count": 57,
   "source": [
    "fc_all[81,0]"
   ],
   "outputs": [
    {
     "output_type": "execute_result",
     "data": {
      "text/plain": [
       "array([[-0.10056151,  0.05026058,  0.10238973],\n",
       "       [ 0.03534579, -0.08582116, -0.09820934],\n",
       "       [ 0.12462704, -0.14422731, -0.25153559]])"
      ]
     },
     "metadata": {},
     "execution_count": 57
    }
   ],
   "metadata": {}
  },
  {
   "cell_type": "markdown",
   "source": [
    "アモルファスの場合は非対角項がある。i,jとj,iは転置の関係にある。\n",
    "これが上手く反映されていないように見える"
   ],
   "metadata": {}
  },
  {
   "cell_type": "code",
   "execution_count": 54,
   "source": [
    "dist[81,0,0]"
   ],
   "outputs": [
    {
     "output_type": "execute_result",
     "data": {
      "text/plain": [
       "1.0976046420000003"
      ]
     },
     "metadata": {},
     "execution_count": 54
    }
   ],
   "metadata": {}
  },
  {
   "cell_type": "code",
   "execution_count": 55,
   "source": [
    "fc_all[0,81]*dist[81,0,0]"
   ],
   "outputs": [
    {
     "output_type": "execute_result",
     "data": {
      "text/plain": [
       "array([[-0.11037678,  0.0387957 ,  0.13679122],\n",
       "       [ 0.05516625, -0.0941977 , -0.15830457],\n",
       "       [ 0.11238344, -0.10779503, -0.27608664]])"
      ]
     },
     "metadata": {},
     "execution_count": 55
    }
   ],
   "metadata": {}
  },
  {
   "cell_type": "markdown",
   "source": [
    "```\n",
    "-0.11035713,  0.0387888 ,  0.13676687\n",
    "```\n",
    "force constant と距離の積から求めると、GULPの計算とあっている。\n",
    "tensorのreshapeの挙動がおかしいのかも"
   ],
   "metadata": {}
  },
  {
   "cell_type": "code",
   "execution_count": null,
   "source": [],
   "outputs": [],
   "metadata": {}
  }
 ],
 "metadata": {
  "orig_nbformat": 4,
  "language_info": {
   "name": "python",
   "version": "3.9.5",
   "mimetype": "text/x-python",
   "codemirror_mode": {
    "name": "ipython",
    "version": 3
   },
   "pygments_lexer": "ipython3",
   "nbconvert_exporter": "python",
   "file_extension": ".py"
  },
  "kernelspec": {
   "name": "python3",
   "display_name": "Python 3.9.5 64-bit ('env_3.9': venv)"
  },
  "interpreter": {
   "hash": "f28014fb09611fa8280d50d19c96de868b70c0c432dcef6642ed055c9deb0d24"
  }
 },
 "nbformat": 4,
 "nbformat_minor": 2
}