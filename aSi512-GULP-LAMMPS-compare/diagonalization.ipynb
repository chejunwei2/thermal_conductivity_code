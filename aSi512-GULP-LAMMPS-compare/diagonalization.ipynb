{
 "cells": [
  {
   "cell_type": "code",
   "execution_count": 1,
   "source": [
    "from ase.io import read\n",
    "vasp=read('optimized.vasp',format='vasp')\n",
    "natom=len(vasp.positions)\n",
    "cell=vasp.cell\n",
    "positions=vasp.positions\n",
    "masses=vasp.get_masses()\n",
    "nmodes=natom*3\n",
    "import numpy as np\n",
    "lammps_dyn=np.loadtxt('Dyn.form').reshape((nmodes,nmodes))"
   ],
   "outputs": [],
   "metadata": {}
  },
  {
   "cell_type": "code",
   "execution_count": 2,
   "source": [
    "eigenvalue, eigenvector=np.linalg.eig(lammps_dyn)"
   ],
   "outputs": [],
   "metadata": {}
  },
  {
   "cell_type": "markdown",
   "source": [
    "LAMMPSのregularオプションで出てくるものは、\n",
    "$D=\\frac{\\Psi^{\\alpha\\beta}_{ij}}{\\sqrt{MiMj}}$\n",
    "で\n",
    "$\\Psi^{\\alpha\\beta}_{ij}=\\frac{\\partial^2 E_{tot}}{\\partial u_{i\\alpha} \\partial u_{j\\beta}}$\n",
    "となっている。\n",
    "unit=metalの場合、変位$u$はAngstrom, EnergyはeVで扱われていて、原子量はg/molの単位になっている。\n",
    "固有値は周波数$\\omega$の二乗だが、Hz=$1/s$の単位にするためには、Dが$1/s^2$の単位を持つようにあわせないといけない。\n",
    "これを実現するために、\n",
    "$\\frac{mol \\cdot eV}{g \\cdot Angstrom\\cdot Angstrom} \\rightarrow kg_{to}g (m_{to}Ang)^2 N_{A} eV_{to}J \\quad 1/s^2$\n",
    "のような変換を行う。$N_A$はアボガドロ数である。\n",
    "$kg_{to}g (m_{to}Ang)^2$で1.0e23が出てくる。THzで換算するには1THz=1e-12Hzを考えると、Dには\n",
    "$0.1\\cdot N_{A} eV_{to}J$\n",
    "のスケール因子をかければいい"
   ],
   "metadata": {}
  },
  {
   "cell_type": "code",
   "execution_count": 18,
   "source": [
    "#scale to convert THz unit\n",
    "#Boltzmanns constant (J/K)\n",
    "boltz = 1.38066244e-23\n",
    "\n",
    "#Planck's constant (Js)\n",
    "planck = 6.62617636e-34\n",
    "\n",
    "#Speed of light (in cm/s)\n",
    "speedl = 2.99792458e10\n",
    "\n",
    "#eV -> Joules\n",
    "\n",
    "evtoj = 1.6021917e-19\n",
    "\n",
    "#Avogadros number\n",
    "avogadro = 6.022045e23\n",
    "\n",
    "#THz:1e-12\n",
    "#AngAngkgTHzTHz\n",
    "fscale =0.1*evtoj*avogadro\n",
    "eigenvalue*fscale"
   ],
   "outputs": [
    {
     "output_type": "execute_result",
     "data": {
      "text/plain": [
       "array([16020.47996374, 15318.35691059, 14903.39722164, ...,\n",
       "        1004.45472347,  1012.81310909,   944.51780334])"
      ]
     },
     "metadata": {},
     "execution_count": 18
    }
   ],
   "metadata": {}
  },
  {
   "cell_type": "markdown",
   "source": [
    "Dynamical Matrixの対角化で出てくる固有値をsqrtしたものは、各周波数なので、THzで表示するためには$2\\pi$で割る"
   ],
   "metadata": {}
  },
  {
   "cell_type": "code",
   "execution_count": 29,
   "source": [
    "omega=[]\n",
    "for eig in eigenvalue*fscale:\n",
    "    if eig<0.0:\n",
    "        omega.append(np.sqrt(-eig)/2.0/np.pi)\n",
    "    else:\n",
    "        omega.append(np.sqrt(eig)/2.0/np.pi)"
   ],
   "outputs": [],
   "metadata": {}
  },
  {
   "cell_type": "code",
   "execution_count": 30,
   "source": [
    "omega=np.array(omega)"
   ],
   "outputs": [],
   "metadata": {}
  },
  {
   "cell_type": "code",
   "execution_count": 31,
   "source": [
    "THzTocm=1.0e12/speedl\n",
    "omega_cm=omega*THzTocm"
   ],
   "outputs": [],
   "metadata": {}
  },
  {
   "cell_type": "code",
   "execution_count": 32,
   "source": [
    "np.max(omega_cm)"
   ],
   "outputs": [
    {
     "output_type": "execute_result",
     "data": {
      "text/plain": [
       "671.9503589701478"
      ]
     },
     "metadata": {},
     "execution_count": 32
    }
   ],
   "metadata": {}
  },
  {
   "cell_type": "code",
   "execution_count": 33,
   "source": [
    "sorted=np.sort(omega_cm)"
   ],
   "outputs": [],
   "metadata": {}
  },
  {
   "cell_type": "code",
   "execution_count": 34,
   "source": [
    "sorted"
   ],
   "outputs": [
    {
     "output_type": "execute_result",
     "data": {
      "text/plain": [
       "array([1.19094034e-02, 1.24880509e-02, 2.04923770e-02, ...,\n",
       "       6.48100068e+02, 6.57060744e+02, 6.71950359e+02])"
      ]
     },
     "metadata": {},
     "execution_count": 34
    }
   ],
   "metadata": {}
  },
  {
   "cell_type": "code",
   "execution_count": 35,
   "source": [
    "freq_gulp=np.loadtxt('freq.dat')"
   ],
   "outputs": [],
   "metadata": {}
  },
  {
   "cell_type": "code",
   "execution_count": 36,
   "source": [
    "np.max(np.abs(sorted-freq_gulp))"
   ],
   "outputs": [
    {
     "output_type": "execute_result",
     "data": {
      "text/plain": [
       "0.07379355841578672"
      ]
     },
     "metadata": {},
     "execution_count": 36
    }
   ],
   "metadata": {}
  }
 ],
 "metadata": {
  "orig_nbformat": 4,
  "language_info": {
   "name": "python",
   "version": "3.9.5",
   "mimetype": "text/x-python",
   "codemirror_mode": {
    "name": "ipython",
    "version": 3
   },
   "pygments_lexer": "ipython3",
   "nbconvert_exporter": "python",
   "file_extension": ".py"
  },
  "kernelspec": {
   "name": "python3",
   "display_name": "Python 3.9.5 64-bit ('env_3.9': venv)"
  },
  "interpreter": {
   "hash": "f28014fb09611fa8280d50d19c96de868b70c0c432dcef6642ed055c9deb0d24"
  }
 },
 "nbformat": 4,
 "nbformat_minor": 2
}