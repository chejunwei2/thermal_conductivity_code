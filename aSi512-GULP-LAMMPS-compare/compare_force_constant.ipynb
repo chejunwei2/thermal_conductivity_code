{
 "cells": [
  {
   "cell_type": "code",
   "execution_count": 1,
   "source": [
    "import sys\n",
    "sys.path.append('../src')"
   ],
   "outputs": [],
   "metadata": {}
  },
  {
   "cell_type": "code",
   "execution_count": 2,
   "source": [
    "from data_parse import *\n",
    "from ase.io import read\n",
    "vasp=read('optimized.vasp',format='vasp')\n",
    "natom=len(vasp.positions)\n",
    "cell=vasp.cell\n",
    "positions=vasp.positions\n",
    "masses=vasp.get_masses()\n",
    "\n",
    "gulp_fcfile='FORCE_CONSTANTS_2ND'\n",
    "#mass_scaled\n",
    "gulp_fc=read_fc_phonopy(gulp_fcfile,natom,masses)"
   ],
   "outputs": [],
   "metadata": {}
  },
  {
   "cell_type": "code",
   "execution_count": 3,
   "source": [
    "flat_gulp_fc=phonopy_to_flat(gulp_fc,natom)"
   ],
   "outputs": [],
   "metadata": {}
  },
  {
   "cell_type": "code",
   "execution_count": 4,
   "source": [
    "import numpy as np\n",
    "nmodes=natom*3\n",
    "lammps_dyn=np.loadtxt('Dyn.form').reshape((nmodes,nmodes))"
   ],
   "outputs": [],
   "metadata": {}
  },
  {
   "cell_type": "code",
   "execution_count": 5,
   "source": [
    "lammps_dyn[0:3,0:3]"
   ],
   "outputs": [
    {
     "output_type": "execute_result",
     "data": {
      "text/plain": [
       "array([[ 0.58531107, -0.01759416, -0.04394639],\n",
       "       [-0.01759416,  0.59643282, -0.04675787],\n",
       "       [-0.04394639, -0.04675787,  0.54067295]])"
      ]
     },
     "metadata": {},
     "execution_count": 5
    }
   ],
   "metadata": {}
  },
  {
   "cell_type": "code",
   "execution_count": 6,
   "source": [
    "flat_gulp_fc[0:3,0:3]"
   ],
   "outputs": [
    {
     "output_type": "execute_result",
     "data": {
      "text/plain": [
       "array([[ 0.58530382, -0.01759308, -0.04394616],\n",
       "       [-0.01759308,  0.59642497, -0.04675728],\n",
       "       [-0.04394616, -0.04675728,  0.54066383]])"
      ]
     },
     "metadata": {},
     "execution_count": 6
    }
   ],
   "metadata": {}
  },
  {
   "cell_type": "markdown",
   "source": [
    "構造をきちんと合わせればForce constantは一致する"
   ],
   "metadata": {}
  },
  {
   "cell_type": "code",
   "execution_count": 7,
   "source": [
    "np.where(np.abs(flat_gulp_fc-lammps_dyn) >0.1)"
   ],
   "outputs": [
    {
     "output_type": "execute_result",
     "data": {
      "text/plain": [
       "(array([], dtype=int64), array([], dtype=int64))"
      ]
     },
     "metadata": {},
     "execution_count": 7
    }
   ],
   "metadata": {}
  }
 ],
 "metadata": {
  "orig_nbformat": 4,
  "language_info": {
   "name": "python",
   "version": "3.9.5",
   "mimetype": "text/x-python",
   "codemirror_mode": {
    "name": "ipython",
    "version": 3
   },
   "pygments_lexer": "ipython3",
   "nbconvert_exporter": "python",
   "file_extension": ".py"
  },
  "kernelspec": {
   "name": "python3",
   "display_name": "Python 3.9.5 64-bit ('env_3.9': venv)"
  },
  "interpreter": {
   "hash": "f28014fb09611fa8280d50d19c96de868b70c0c432dcef6642ed055c9deb0d24"
  }
 },
 "nbformat": 4,
 "nbformat_minor": 2
}