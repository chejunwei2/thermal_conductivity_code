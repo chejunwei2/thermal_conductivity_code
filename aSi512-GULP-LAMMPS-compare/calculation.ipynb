{
 "cells": [
  {
   "cell_type": "code",
   "execution_count": 1,
   "source": [
    "import sys\n",
    "sys.path.append('../src')\n",
    "from ase.io import read\n",
    "vasp=read('optimized.vasp',format='vasp')\n",
    "natom=len(vasp.positions)\n",
    "cell=vasp.cell\n",
    "positions=vasp.positions\n",
    "masses=vasp.get_masses()"
   ],
   "outputs": [],
   "metadata": {}
  },
  {
   "cell_type": "code",
   "execution_count": 2,
   "source": [
    "import numpy as np\n",
    "nmodes=natom*3\n",
    "lammps_dyn=np.loadtxt('Dyn.form').reshape((nmodes,nmodes))"
   ],
   "outputs": [],
   "metadata": {}
  },
  {
   "cell_type": "code",
   "execution_count": 3,
   "source": [
    "structure_file='optimized.vasp'\n",
    "from thermal_conductivity_AF import *\n",
    "Vx,Vy,Vz=get_Vij_from_flat(structure_file,lammps_dyn)"
   ],
   "outputs": [],
   "metadata": {}
  },
  {
   "cell_type": "code",
   "execution_count": 4,
   "source": [
    "#check part\n",
    "GULP_Vijx=np.loadtxt('Vijx.dat').reshape((natom*3,natom*3))\n",
    "np.where(np.abs(Vx-GULP_Vijx) > 0.01)"
   ],
   "outputs": [
    {
     "output_type": "execute_result",
     "data": {
      "text/plain": [
       "(array([], dtype=int64), array([], dtype=int64))"
      ]
     },
     "metadata": {},
     "execution_count": 4
    }
   ],
   "metadata": {}
  },
  {
   "cell_type": "code",
   "execution_count": 5,
   "source": [
    "GULP_Vijy=np.loadtxt('Vijy.dat').reshape((natom*3,natom*3))\n",
    "np.where(np.abs(Vy-GULP_Vijy) > 0.01)"
   ],
   "outputs": [
    {
     "output_type": "execute_result",
     "data": {
      "text/plain": [
       "(array([], dtype=int64), array([], dtype=int64))"
      ]
     },
     "metadata": {},
     "execution_count": 5
    }
   ],
   "metadata": {}
  },
  {
   "cell_type": "code",
   "execution_count": null,
   "source": [
    "GULP_Vijz=np.loadtxt('Vijz.dat').reshape((natom*3,natom*3))\n",
    "np.where(np.abs(Vz-GULP_Vijz) > 0.01)"
   ],
   "outputs": [],
   "metadata": {}
  }
 ],
 "metadata": {
  "orig_nbformat": 4,
  "language_info": {
   "name": "python",
   "version": "3.9.5",
   "mimetype": "text/x-python",
   "codemirror_mode": {
    "name": "ipython",
    "version": 3
   },
   "pygments_lexer": "ipython3",
   "nbconvert_exporter": "python",
   "file_extension": ".py"
  },
  "kernelspec": {
   "name": "python3",
   "display_name": "Python 3.9.5 64-bit ('env_3.9': venv)"
  },
  "interpreter": {
   "hash": "f28014fb09611fa8280d50d19c96de868b70c0c432dcef6642ed055c9deb0d24"
  }
 },
 "nbformat": 4,
 "nbformat_minor": 2
}