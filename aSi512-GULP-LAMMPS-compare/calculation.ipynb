{
 "cells": [
  {
   "cell_type": "code",
   "execution_count": 2,
   "source": [
    "import sys\n",
    "sys.path.append('../src')\n",
    "from ase.io import read\n",
    "vasp=read('optimized.vasp',format='vasp')\n",
    "natom=len(vasp.positions)\n",
    "cell=vasp.cell\n",
    "positions=vasp.positions\n",
    "masses=vasp.get_masses()"
   ],
   "outputs": [],
   "metadata": {}
  },
  {
   "cell_type": "code",
   "execution_count": 3,
   "source": [
    "import numpy as np\n",
    "nmodes=natom*3\n",
    "lammps_dyn=np.loadtxt('Dyn.form').reshape((nmodes,nmodes))"
   ],
   "outputs": [],
   "metadata": {}
  },
  {
   "cell_type": "code",
   "execution_count": 4,
   "source": [
    "structure_file='optimized.vasp'\n",
    "from thermal_conductivity_AF import *\n",
    "Vx,Vy,Vz=get_Vij_from_flat(structure_file,lammps_dyn)"
   ],
   "outputs": [],
   "metadata": {}
  },
  {
   "cell_type": "code",
   "execution_count": 5,
   "source": [
    "#check part\n",
    "GULP_Vijx=np.loadtxt('Vijx.dat').reshape((natom*3,natom*3))\n",
    "np.where(np.abs(Vx-GULP_Vijx) > 0.01)"
   ],
   "outputs": [
    {
     "output_type": "execute_result",
     "data": {
      "text/plain": [
       "(array([], dtype=int64), array([], dtype=int64))"
      ]
     },
     "metadata": {},
     "execution_count": 5
    }
   ],
   "metadata": {}
  },
  {
   "cell_type": "code",
   "execution_count": 6,
   "source": [
    "GULP_Vijy=np.loadtxt('Vijy.dat').reshape((natom*3,natom*3))\n",
    "np.where(np.abs(Vy-GULP_Vijy) > 0.01)"
   ],
   "outputs": [
    {
     "output_type": "execute_result",
     "data": {
      "text/plain": [
       "(array([], dtype=int64), array([], dtype=int64))"
      ]
     },
     "metadata": {},
     "execution_count": 6
    }
   ],
   "metadata": {}
  },
  {
   "cell_type": "code",
   "execution_count": 7,
   "source": [
    "GULP_Vijz=np.loadtxt('Vijz.dat').reshape((natom*3,natom*3))\n",
    "np.where(np.abs(Vz-GULP_Vijz) > 0.01)"
   ],
   "outputs": [
    {
     "output_type": "execute_result",
     "data": {
      "text/plain": [
       "(array([], dtype=int64), array([], dtype=int64))"
      ]
     },
     "metadata": {},
     "execution_count": 7
    }
   ],
   "metadata": {}
  },
  {
   "cell_type": "code",
   "execution_count": 8,
   "source": [
    "#scale to convert THz or cm-1 unit\n",
    "#Boltzmanns constant (J/K)\n",
    "boltz = 1.38066244e-23\n",
    "\n",
    "#Planck's constant (Js)\n",
    "planck = 6.62617636e-34\n",
    "\n",
    "#Speed of light (in cm/s)\n",
    "speedl = 2.99792458e10\n",
    "\n",
    "#eV -> Joules\n",
    "\n",
    "evtoj = 1.6021917e-19\n",
    "\n",
    "#Avogadros number\n",
    "avogadro = 6.022045e23\n",
    "\n",
    "#THz:1e-12\n",
    "#AngAngkgTHzTHz\n",
    "#scale factor to eigenvalue\n",
    "scale_THz =np.sqrt(0.1*evtoj*avogadro)/(2.0*np.pi)\n",
    "scale_cm =np.sqrt(1.0e23*evtoj*avogadro)/speedl/(2.0*np.pi)"
   ],
   "outputs": [],
   "metadata": {}
  },
  {
   "cell_type": "code",
   "execution_count": 9,
   "source": [
    "scale_cm, scale_THz, scale_cm/scale_THz"
   ],
   "outputs": [
    {
     "output_type": "execute_result",
     "data": {
      "text/plain": [
       "(521.4692040170344, 15.63325344435702, 33.35640951981521)"
      ]
     },
     "metadata": {},
     "execution_count": 9
    }
   ],
   "metadata": {}
  },
  {
   "cell_type": "code",
   "execution_count": 18,
   "source": [
    "#using eigh(Hermite) much faster & order of eigenvalue is similar to that in GULP\n",
    "eigenvalue, eigenvector=np.linalg.eigh(lammps_dyn)"
   ],
   "outputs": [],
   "metadata": {}
  },
  {
   "cell_type": "code",
   "execution_count": 19,
   "source": [
    "freq=[]\n",
    "with open(\"freq_LAMMPS.dat\",'w') as fL:\n",
    "    for i in range(nmodes):\n",
    "        if eigenvalue[i] <0.0:\n",
    "            val=np.sqrt(-eigenvalue[i])*scale_cm\n",
    "            freq.append(val)\n",
    "            fL.write(str(val)+'\\n')\n",
    "        else:\n",
    "            val=np.sqrt(eigenvalue[i])*scale_cm\n",
    "            fL.write(str(val)+'\\n')\n",
    "            freq.append(val)\n"
   ],
   "outputs": [],
   "metadata": {}
  },
  {
   "cell_type": "code",
   "execution_count": 38,
   "source": [
    "GULP_eig=np.loadtxt('eigr.dat').reshape(nmodes,nmodes)"
   ],
   "outputs": [],
   "metadata": {}
  },
  {
   "cell_type": "code",
   "execution_count": 39,
   "source": [
    "GULP_eig[:,3]"
   ],
   "outputs": [
    {
     "output_type": "execute_result",
     "data": {
      "text/plain": [
       "array([ 0.00833792, -0.02958731, -0.01382491, ...,  0.00113291,\n",
       "       -0.00667961, -0.00602454])"
      ]
     },
     "metadata": {},
     "execution_count": 39
    }
   ],
   "metadata": {}
  },
  {
   "cell_type": "code",
   "execution_count": 40,
   "source": [
    "eigenvector[:,3]"
   ],
   "outputs": [
    {
     "output_type": "execute_result",
     "data": {
      "text/plain": [
       "array([ 0.00834461, -0.02960095, -0.01383089, ...,  0.00113445,\n",
       "       -0.00668173, -0.0060268 ])"
      ]
     },
     "metadata": {},
     "execution_count": 40
    }
   ],
   "metadata": {}
  },
  {
   "cell_type": "code",
   "execution_count": 52,
   "source": [
    "np.argmax(np.abs(eigenvector-GULP_eig))"
   ],
   "outputs": [
    {
     "output_type": "execute_result",
     "data": {
      "text/plain": [
       "660478"
      ]
     },
     "metadata": {},
     "execution_count": 52
    }
   ],
   "metadata": {}
  },
  {
   "cell_type": "code",
   "execution_count": 33,
   "source": [
    "freq[0:3]=[ -1.917099908336566E-005,1.544513285771906E-005,2.897206441232811E-005]"
   ],
   "outputs": [],
   "metadata": {}
  },
  {
   "cell_type": "code",
   "execution_count": null,
   "source": [],
   "outputs": [],
   "metadata": {}
  },
  {
   "cell_type": "code",
   "execution_count": 34,
   "source": [
    "Sx,Sy,Sz=get_Sij(Vx,Vy,Vz,eigenvector,freq)"
   ],
   "outputs": [],
   "metadata": {}
  },
  {
   "cell_type": "code",
   "execution_count": 21,
   "source": [
    "GULP_Sijx=np.loadtxt('Sijx.dat').reshape((nmodes,nmodes))\n",
    "GULP_Sijy=np.loadtxt('Sijy.dat').reshape((nmodes,nmodes))\n",
    "GULP_Sijz=np.loadtxt('Sijz.dat').reshape((nmodes,nmodes))\n"
   ],
   "outputs": [
    {
     "output_type": "execute_result",
     "data": {
      "text/plain": [
       "(array([   0,    0,    0, ..., 1535, 1535, 1535]),\n",
       " array([   4,    5,    6, ..., 1513, 1516, 1523]))"
      ]
     },
     "metadata": {},
     "execution_count": 21
    }
   ],
   "metadata": {}
  },
  {
   "cell_type": "code",
   "execution_count": 35,
   "source": [
    "np.where(np.abs(Sx-GULP_Sijx) > 0.01)"
   ],
   "outputs": [
    {
     "output_type": "execute_result",
     "data": {
      "text/plain": [
       "(array([   1,    1,    1, ..., 1535, 1535, 1535]),\n",
       " array([   4,    5,    6, ..., 1513, 1516, 1523]))"
      ]
     },
     "metadata": {},
     "execution_count": 35
    }
   ],
   "metadata": {}
  },
  {
   "cell_type": "code",
   "execution_count": 36,
   "source": [
    "GULP_Sijx[1,0:6]"
   ],
   "outputs": [
    {
     "output_type": "execute_result",
     "data": {
      "text/plain": [
       "array([ 0.00000000e+00,  1.21430643e-17, -1.45698759e-16,  3.40375494e+00,\n",
       "        3.35875123e+00,  2.74822320e+00])"
      ]
     },
     "metadata": {},
     "execution_count": 36
    }
   ],
   "metadata": {}
  },
  {
   "cell_type": "code",
   "execution_count": 37,
   "source": [
    "Sx[1,0:6]"
   ],
   "outputs": [
    {
     "output_type": "execute_result",
     "data": {
      "text/plain": [
       "array([ 0.00000000e+00, -1.62793749e-10, -1.83455468e-09,  3.41131667e+00,\n",
       "        1.38049350e+00, -3.06387826e+00])"
      ]
     },
     "metadata": {},
     "execution_count": 37
    }
   ],
   "metadata": {}
  },
  {
   "cell_type": "code",
   "execution_count": 42,
   "source": [
    "omega=freq\n",
    "nfreqmin=0\n",
    "inv_omega=np.zeros(nmodes)\n",
    "for i in range(nmodes):\n",
    "    if (nfreqmin==0 and omega[i]> 0.01):\n",
    "        nfreqmin = i\n",
    "    if omega[i] >0.0:\n",
    "        inv_omega[i]=1.0/np.sqrt(omega[i])\n",
    "    else:\n",
    "        inv_omega[i]=0.0"
   ],
   "outputs": [],
   "metadata": {}
  },
  {
   "cell_type": "code",
   "execution_count": 43,
   "source": [
    "tmpx=np.dot(Vx,eigenvector)\n",
    "EVijx=np.dot(eigenvector.T,tmpx)"
   ],
   "outputs": [],
   "metadata": {}
  },
  {
   "cell_type": "code",
   "execution_count": 44,
   "source": [
    "Sijx=np.zeros((nmodes,nmodes))\n",
    "for i in range(nmodes):\n",
    "    for j in range(nmodes):\n",
    "        Sijx[i,j]=EVijx[i,j]*(omega[i]+omega[j])*inv_omega[i]*inv_omega[j]"
   ],
   "outputs": [],
   "metadata": {}
  },
  {
   "cell_type": "code",
   "execution_count": 45,
   "source": [
    "Sijx[1,0:6]"
   ],
   "outputs": [
    {
     "output_type": "execute_result",
     "data": {
      "text/plain": [
       "array([ 0.00000000e+00, -1.62793749e-10, -1.83455468e-09,  3.41131667e+00,\n",
       "        1.38049350e+00, -3.06387826e+00])"
      ]
     },
     "metadata": {},
     "execution_count": 45
    }
   ],
   "metadata": {}
  },
  {
   "cell_type": "code",
   "execution_count": 53,
   "source": [
    "constant = ((1.0e-17*evtoj*avogadro)**0.5)*(scale_cm**3)\n",
    "constant = np.pi*constant/48.0"
   ],
   "outputs": [],
   "metadata": {}
  },
  {
   "cell_type": "code",
   "execution_count": 54,
   "source": [
    "#get mean of frequency spacing\n",
    "dwavg=0.0\n",
    "for i in range(len(omega)-1):\n",
    "    if omega[i] > 0.0:\n",
    "        dwavg+=omega[i+1]-omega[i]\n",
    "    elif omega[i+1] >0.0:\n",
    "        dwavg+=omega[i+1]\n",
    "\n",
    "dwavg=dwavg/(len(omega)-1)\n",
    "dwavg"
   ],
   "outputs": [
    {
     "output_type": "execute_result",
     "data": {
      "text/plain": [
       "0.4377526769013716"
      ]
     },
     "metadata": {},
     "execution_count": 54
    }
   ],
   "metadata": {}
  },
  {
   "cell_type": "code",
   "execution_count": 55,
   "source": [
    "Di=np.zeros(len(omega))\n",
    "nmodes=len(omega)\n",
    "bfactor=5.0\n",
    "broad = bfactor*dwavg\n",
    "for i in range(nmodes):\n",
    "    Di_loc = 0.0\n",
    "    for j in range(nmodes):\n",
    "        if(omega[i] > 0.01):\n",
    "            dwij = (1.0/np.pi)*broad/( (omega[j] - omega[i])**2 + broad**2 )\n",
    "            if(dwij > 0.01):\n",
    "                Di_loc = Di_loc + dwij*Sx[j,i]**2+dwij*Sy[j,i]**2+dwij*Sz[j,i]**2\n",
    "    Di[i] = Di[i] + Di_loc*constant/(omega[i]**2)"
   ],
   "outputs": [],
   "metadata": {}
  },
  {
   "cell_type": "code",
   "execution_count": 56,
   "source": [
    "Di"
   ],
   "outputs": [
    {
     "output_type": "execute_result",
     "data": {
      "text/plain": [
       "array([0.00000000e+00, 0.00000000e+00, 0.00000000e+00, ...,\n",
       "       9.34287666e-10, 3.85287912e-29, 1.63156491e-23])"
      ]
     },
     "metadata": {},
     "execution_count": 56
    }
   ],
   "metadata": {}
  },
  {
   "cell_type": "code",
   "execution_count": 63,
   "source": [
    "from ase.io import read\n",
    "atoms=read(structure_file,format='vasp')\n",
    "vol = atoms.get_volume()\n",
    "kappafct = 1.0e30/vol\n",
    "temperature=300\n",
    "cmfact = planck*speedl/(boltz*temperature)\n",
    "kappa_info=[]\n",
    "\n",
    "with open('kappa_out','w') as kf:\n",
    "    kf.write('frequency[cm-1]   Diffusivity[cm^2/s]   Thermal_conductivity[W/mK] \\n')\n",
    "    for i in range(nmodes):\n",
    "        xfreq = omega[i]*cmfact\n",
    "        expfreq = np.exp(xfreq)\n",
    "        cv_i = boltz*xfreq*xfreq*expfreq/(expfreq - 1.0)**2\n",
    "        kappa_info.append([omega[i],Di[i]*1.0e4,cv_i*kappafct*Di[i]])\n",
    "        kf.write('{0:8f}  {1:12f}  {2:12f}\\n'.format(omega[i],Di[i]*1.0e4,cv_i*kappafct*Di[i]))"
   ],
   "outputs": [],
   "metadata": {}
  }
 ],
 "metadata": {
  "orig_nbformat": 4,
  "language_info": {
   "name": "python",
   "version": "3.9.5",
   "mimetype": "text/x-python",
   "codemirror_mode": {
    "name": "ipython",
    "version": 3
   },
   "pygments_lexer": "ipython3",
   "nbconvert_exporter": "python",
   "file_extension": ".py"
  },
  "kernelspec": {
   "name": "python3",
   "display_name": "Python 3.9.5 64-bit ('env_3.9': venv)"
  },
  "interpreter": {
   "hash": "f28014fb09611fa8280d50d19c96de868b70c0c432dcef6642ed055c9deb0d24"
  }
 },
 "nbformat": 4,
 "nbformat_minor": 2
}