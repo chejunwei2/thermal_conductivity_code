{
 "cells": [
  {
   "cell_type": "code",
   "execution_count": 1,
   "source": [
    "import phonopy\n",
    "\n",
    "phonon = phonopy.load(supercell_matrix=[1, 1, 1],\n",
    "                      primitive_matrix=[[1, 0, 0],\n",
    "                                         [0, 1, 0],\n",
    "                                         [0, 0, 1]],\n",
    "                      unitcell_filename=\"POSCAR\",\n",
    "                      force_constants_filename=\"force_constants.hdf5\")"
   ],
   "outputs": [],
   "metadata": {}
  },
  {
   "cell_type": "code",
   "execution_count": 2,
   "source": [
    "mesh = [1, 1, 1]\n",
    "phonon.run_mesh(mesh, with_eigenvectors=True)"
   ],
   "outputs": [],
   "metadata": {}
  },
  {
   "cell_type": "code",
   "execution_count": 3,
   "source": [
    "mesh_dict = phonon.get_mesh_dict()\n",
    "frequencies = mesh_dict['frequencies']\n",
    "eigenvectors = mesh_dict['eigenvectors']"
   ],
   "outputs": [],
   "metadata": {}
  },
  {
   "cell_type": "code",
   "execution_count": 4,
   "source": [
    "frequencies"
   ],
   "outputs": [
    {
     "output_type": "execute_result",
     "data": {
      "text/plain": [
       "array([[-15.84784346, -15.77453198, -15.74793658, ...,  15.6868612 ,\n",
       "         15.79345229,  15.83054541]])"
      ]
     },
     "metadata": {},
     "execution_count": 4
    }
   ],
   "metadata": {}
  },
  {
   "cell_type": "markdown",
   "source": [
    "なんかGULPの結果とだいぶ違うような"
   ],
   "metadata": {}
  }
 ],
 "metadata": {
  "orig_nbformat": 4,
  "language_info": {
   "name": "python",
   "version": "3.9.5",
   "mimetype": "text/x-python",
   "codemirror_mode": {
    "name": "ipython",
    "version": 3
   },
   "pygments_lexer": "ipython3",
   "nbconvert_exporter": "python",
   "file_extension": ".py"
  },
  "kernelspec": {
   "name": "python3",
   "display_name": "Python 3.9.5 64-bit ('env_3.9': venv)"
  },
  "interpreter": {
   "hash": "f28014fb09611fa8280d50d19c96de868b70c0c432dcef6642ed055c9deb0d24"
  }
 },
 "nbformat": 4,
 "nbformat_minor": 2
}