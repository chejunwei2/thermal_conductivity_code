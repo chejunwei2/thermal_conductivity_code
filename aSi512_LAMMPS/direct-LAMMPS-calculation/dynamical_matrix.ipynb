{
 "cells": [
  {
   "cell_type": "code",
   "execution_count": 12,
   "source": [
    "from ase.io import read,write\n",
    "gulp_structure=read('gulp.xyz',format='xyz')\n",
    "atoms=read('../optimized.vasp',format='vasp')\n",
    "gulp_structure.set_cell(atoms.cell)\n",
    "\n",
    "write('gulp.dat',gulp_structure,format='lammps-data')\n"
   ],
   "outputs": [],
   "metadata": {}
  },
  {
   "cell_type": "code",
   "execution_count": 13,
   "source": [
    "natom=512\n",
    "nmodes=natom*3\n",
    "\n",
    "import numpy as np\n"
   ],
   "outputs": [],
   "metadata": {}
  },
  {
   "cell_type": "code",
   "execution_count": 14,
   "source": [
    "dyn=np.loadtxt('Dyn.form').reshape((nmodes,nmodes))"
   ],
   "outputs": [],
   "metadata": {}
  },
  {
   "cell_type": "code",
   "execution_count": 15,
   "source": [
    "dyn[0]"
   ],
   "outputs": [
    {
     "output_type": "execute_result",
     "data": {
      "text/plain": [
       "array([ 0.58531107, -0.01759416, -0.04394639, ...,  0.        ,\n",
       "        0.        ,  0.        ])"
      ]
     },
     "metadata": {},
     "execution_count": 15
    }
   ],
   "metadata": {}
  },
  {
   "cell_type": "code",
   "execution_count": 16,
   "source": [
    "from ase.io import read\n",
    "\n",
    "atoms=read('../optimized.vasp',format='vasp')\n"
   ],
   "outputs": [],
   "metadata": {}
  },
  {
   "cell_type": "code",
   "execution_count": 17,
   "source": [
    "masses=atoms.get_masses()\n"
   ],
   "outputs": [],
   "metadata": {}
  },
  {
   "cell_type": "code",
   "execution_count": 18,
   "source": [
    "dyn[0:3,0:3]*masses[0]"
   ],
   "outputs": [
    {
     "output_type": "execute_result",
     "data": {
      "text/plain": [
       "array([[16.4384614 , -0.49413198, -1.23423436],\n",
       "       [-0.49413198, 16.75081575, -1.31319478],\n",
       "       [-1.23423436, -1.31319478, 15.1847998 ]])"
      ]
     },
     "metadata": {},
     "execution_count": 18
    }
   ],
   "metadata": {}
  },
  {
   "cell_type": "code",
   "execution_count": 22,
   "source": [
    "dyn[3:6,3:6]*masses[0]"
   ],
   "outputs": [
    {
     "output_type": "execute_result",
     "data": {
      "text/plain": [
       "array([[18.50484224, -0.35696175, -1.29725823],\n",
       "       [-0.35696175, 15.33447207, -1.50714923],\n",
       "       [-1.29725823, -1.50714923, 14.6965109 ]])"
      ]
     },
     "metadata": {},
     "execution_count": 22
    }
   ],
   "metadata": {}
  },
  {
   "cell_type": "code",
   "execution_count": 20,
   "source": [
    "#reading phonopy format force constant\n",
    "FC_file='/home/emi/GULP/thermal_conductivity/aSi512_GULP/FORCE_CONSTANTS_2ND'\n",
    "with open(FC_file,'r') as fc:\n",
    "    lines=fc.readlines()\n",
    "\n",
    "    nlineblock=4\n",
    "    fc_all=np.zeros((natom,natom,3,3))\n",
    "    start=1\n",
    "    for i in range(natom):\n",
    "        for j in range(natom):\n",
    "            fc_block=lines[start+1:start+nlineblock]\n",
    "            fc=np.loadtxt(fc_block)\n",
    "            #fc_all[i,j]=fc/np.sqrt(masses[i]*masses[j])\n",
    "            fc_all[i,j]=fc\n",
    "            start=start+nlineblock"
   ],
   "outputs": [],
   "metadata": {}
  },
  {
   "cell_type": "code",
   "execution_count": 21,
   "source": [
    "fc_all[0,0]"
   ],
   "outputs": [
    {
     "output_type": "execute_result",
     "data": {
      "text/plain": [
       "array([[16.43823915, -0.49410715, -1.23422592],\n",
       "       [-0.49410715, 16.7505942 , -1.31317768],\n",
       "       [-1.23422592, -1.31317768, 15.18455583]])"
      ]
     },
     "metadata": {},
     "execution_count": 21
    }
   ],
   "metadata": {}
  },
  {
   "cell_type": "code",
   "execution_count": 23,
   "source": [
    "fc_all[1,1]"
   ],
   "outputs": [
    {
     "output_type": "execute_result",
     "data": {
      "text/plain": [
       "array([[18.5043507 , -0.35710017, -1.29724485],\n",
       "       [-0.35710017, 15.33418511, -1.50717439],\n",
       "       [-1.29724485, -1.50717439, 14.6962958 ]])"
      ]
     },
     "metadata": {},
     "execution_count": 23
    }
   ],
   "metadata": {}
  },
  {
   "cell_type": "markdown",
   "source": [
    "以下のはまだテストしてない"
   ],
   "metadata": {}
  },
  {
   "cell_type": "code",
   "execution_count": 38,
   "source": [
    "\n",
    "'''\n",
    "evaluate velocity operator.\n",
    "structure file: unitcell structure with vasp POSCAR format\n",
    "Dyn: Flat format (low:0x,0y,0z....., column:0x,0y,0z....) natom*3xnatom*3 Dynamical matrix\n",
    "(already scaled by mass, regular output of lammps dynamical_matrix) \n",
    "'''\n",
    "import sys\n",
    "sys.path.append('../../src')\n",
    "def get_Vij_from_flat(structure_file,Dyn):\n",
    "    atoms=read(structure_file,format='vasp')\n",
    "    natom=len(atoms.positions)\n",
    "\n",
    "    dist=np.zeros((natom,natom,3))\n",
    "\n",
    "    from src.nearest import find_nearest\n",
    "    for i in range(natom):  \n",
    "        for j in range(i):\n",
    "            xdc,ydc,zdc,rmin=find_nearest(atoms,i,j)\n",
    "            dist[i,j]=np.array([xdc,ydc,zdc])\n",
    "            #invert\n",
    "            dist[j,i]=-np.array([xdc,ydc,zdc])\n",
    "    \n",
    "    \n",
    "    Rx=np.repeat(dist[:,:,0],3,axis=1)\n",
    "    Rx=np.repeat(Rx,3,axis=0)\n",
    "    Ry=np.repeat(dist[:,:,1],3,axis=1)\n",
    "    Ry=np.repeat(Ry,3,axis=0)\n",
    "    Rz=np.repeat(dist[:,:,2],3,axis=1)\n",
    "    Rz=np.repeat(Rz,3,axis=0)  \n",
    "\n",
    "    Vx=np.zeros((natom*3,natom*3))\n",
    "    Vy=np.zeros((natom*3,natom*3))\n",
    "    Vz=np.zeros((natom*3,natom*3))\n",
    "\n",
    "    '''\n",
    "    triu=np.triu(np.ones((natom*3,natom*3)))\n",
    "    tril=np.tril(np.ones((natom*3,natom*3)),-1)\n",
    "    mask=triu+tril*-1\n",
    "    '''\n",
    "\n",
    "    Vx=np.dot(Rx,Dyn)\n",
    "    Vy=np.dot(Ry,Dyn)\n",
    "    Vx=np.dot(Rz,Dyn)\n",
    "\n",
    "    return Vx, Vy, Vz"
   ],
   "outputs": [],
   "metadata": {}
  },
  {
   "cell_type": "code",
   "execution_count": 29,
   "source": [
    "import sys\n",
    "sys.path.append('../../src')"
   ],
   "outputs": [],
   "metadata": {}
  },
  {
   "cell_type": "code",
   "execution_count": 30,
   "source": [
    "from nearest import find_nearest\n",
    "dist=np.zeros((natom,natom,3))\n",
    "for i in range(natom):  \n",
    "    for j in range(i):\n",
    "        xdc,ydc,zdc,rmin=find_nearest(atoms,i,j)\n",
    "        dist[i,j]=np.array([xdc,ydc,zdc])\n",
    "        #invert\n",
    "        dist[j,i]=-np.array([xdc,ydc,zdc])"
   ],
   "outputs": [],
   "metadata": {}
  },
  {
   "cell_type": "code",
   "execution_count": 31,
   "source": [
    "Rx=np.repeat(dist[:,:,0],3,axis=1)\n",
    "Rx=np.repeat(Rx,3,axis=0)\n",
    "Ry=np.repeat(dist[:,:,1],3,axis=1)\n",
    "Ry=np.repeat(Ry,3,axis=0)\n",
    "Rz=np.repeat(dist[:,:,2],3,axis=1)\n",
    "Rz=np.repeat(Rz,3,axis=0)  "
   ],
   "outputs": [],
   "metadata": {}
  },
  {
   "cell_type": "code",
   "execution_count": 32,
   "source": [
    "Rx.shape"
   ],
   "outputs": [
    {
     "output_type": "execute_result",
     "data": {
      "text/plain": [
       "(1536, 1536)"
      ]
     },
     "metadata": {},
     "execution_count": 32
    }
   ],
   "metadata": {}
  },
  {
   "cell_type": "code",
   "execution_count": 35,
   "source": [
    "Rx[0,0:6]"
   ],
   "outputs": [
    {
     "output_type": "execute_result",
     "data": {
      "text/plain": [
       "array([  0.        ,   0.        ,   0.        , -10.14206505,\n",
       "       -10.14206505, -10.14206505])"
      ]
     },
     "metadata": {},
     "execution_count": 35
    }
   ],
   "metadata": {}
  },
  {
   "cell_type": "code",
   "execution_count": 36,
   "source": [
    "Rx[1,0:6]"
   ],
   "outputs": [
    {
     "output_type": "execute_result",
     "data": {
      "text/plain": [
       "array([  0.        ,   0.        ,   0.        , -10.14206505,\n",
       "       -10.14206505, -10.14206505])"
      ]
     },
     "metadata": {},
     "execution_count": 36
    }
   ],
   "metadata": {}
  },
  {
   "cell_type": "code",
   "execution_count": 37,
   "source": [
    "Rx[3,0:6]"
   ],
   "outputs": [
    {
     "output_type": "execute_result",
     "data": {
      "text/plain": [
       "array([10.14206505, 10.14206505, 10.14206505,  0.        ,  0.        ,\n",
       "        0.        ])"
      ]
     },
     "metadata": {},
     "execution_count": 37
    }
   ],
   "metadata": {}
  }
 ],
 "metadata": {
  "orig_nbformat": 4,
  "language_info": {
   "name": "python",
   "version": "3.9.5",
   "mimetype": "text/x-python",
   "codemirror_mode": {
    "name": "ipython",
    "version": 3
   },
   "pygments_lexer": "ipython3",
   "nbconvert_exporter": "python",
   "file_extension": ".py"
  },
  "kernelspec": {
   "name": "python3",
   "display_name": "Python 3.9.5 64-bit ('env_3.9': venv)"
  },
  "interpreter": {
   "hash": "f28014fb09611fa8280d50d19c96de868b70c0c432dcef6642ed055c9deb0d24"
  }
 },
 "nbformat": 4,
 "nbformat_minor": 2
}