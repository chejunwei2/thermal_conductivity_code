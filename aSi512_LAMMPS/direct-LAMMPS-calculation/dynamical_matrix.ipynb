{
 "cells": [
  {
   "cell_type": "code",
   "execution_count": 1,
   "source": [
    "from ase.io import read,write\n",
    "gulp_structure=read('gulp.xyz',format='xyz')\n",
    "atoms=read('../optimized.vasp',format='vasp')\n",
    "gulp_structure.set_cell(atoms.cell)\n",
    "\n",
    "write('gulp.dat',gulp_structure,format='lammps-data')\n",
    "write('gulp.vasp',gulp_structure,format='vasp',vasp5=True)\n"
   ],
   "outputs": [],
   "metadata": {}
  },
  {
   "cell_type": "code",
   "execution_count": 2,
   "source": [
    "natom=512\n",
    "nmodes=natom*3\n",
    "\n",
    "import numpy as np\n"
   ],
   "outputs": [],
   "metadata": {}
  },
  {
   "cell_type": "code",
   "execution_count": 3,
   "source": [
    "dyn=np.loadtxt('Dyn.form').reshape((nmodes,nmodes))"
   ],
   "outputs": [],
   "metadata": {}
  },
  {
   "cell_type": "code",
   "execution_count": 4,
   "source": [
    "dyn[0]"
   ],
   "outputs": [
    {
     "output_type": "execute_result",
     "data": {
      "text/plain": [
       "array([ 0.58531107, -0.01759416, -0.04394639, ...,  0.        ,\n",
       "        0.        ,  0.        ])"
      ]
     },
     "metadata": {},
     "execution_count": 4
    }
   ],
   "metadata": {}
  },
  {
   "cell_type": "code",
   "execution_count": 5,
   "source": [
    "from ase.io import read\n",
    "\n",
    "atoms=read('../optimized.vasp',format='vasp')\n"
   ],
   "outputs": [],
   "metadata": {}
  },
  {
   "cell_type": "code",
   "execution_count": 6,
   "source": [
    "masses=atoms.get_masses()\n"
   ],
   "outputs": [],
   "metadata": {}
  },
  {
   "cell_type": "code",
   "execution_count": 7,
   "source": [
    "dyn[0:3,0:3]*masses[0]"
   ],
   "outputs": [
    {
     "output_type": "execute_result",
     "data": {
      "text/plain": [
       "array([[16.4384614 , -0.49413198, -1.23423436],\n",
       "       [-0.49413198, 16.75081575, -1.31319478],\n",
       "       [-1.23423436, -1.31319478, 15.1847998 ]])"
      ]
     },
     "metadata": {},
     "execution_count": 7
    }
   ],
   "metadata": {}
  },
  {
   "cell_type": "code",
   "execution_count": 8,
   "source": [
    "dyn[0:3,243:246]*masses[0]"
   ],
   "outputs": [
    {
     "output_type": "execute_result",
     "data": {
      "text/plain": [
       "array([[-2.82429304,  0.9926882 ,  3.50022091],\n",
       "       [ 1.41156586, -2.41028222, -4.05070798],\n",
       "       [ 2.87561023, -2.75822616, -7.0644217 ]])"
      ]
     },
     "metadata": {},
     "execution_count": 8
    }
   ],
   "metadata": {}
  },
  {
   "cell_type": "code",
   "execution_count": 9,
   "source": [
    "dyn[3:6,3:6]*masses[0]"
   ],
   "outputs": [
    {
     "output_type": "execute_result",
     "data": {
      "text/plain": [
       "array([[18.50484224, -0.35696175, -1.29725823],\n",
       "       [-0.35696175, 15.33447207, -1.50714923],\n",
       "       [-1.29725823, -1.50714923, 14.6965109 ]])"
      ]
     },
     "metadata": {},
     "execution_count": 9
    }
   ],
   "metadata": {}
  },
  {
   "cell_type": "code",
   "execution_count": 10,
   "source": [
    "#reading phonopy format force constant\n",
    "FC_file='/home/emi/GULP/thermal_conductivity/aSi512_GULP/FORCE_CONSTANTS_2ND'\n",
    "with open(FC_file,'r') as fc:\n",
    "    lines=fc.readlines()\n",
    "\n",
    "    nlineblock=4\n",
    "    fc_all=np.zeros((natom,natom,3,3))\n",
    "    start=1\n",
    "    for i in range(natom):\n",
    "        for j in range(natom):\n",
    "            fc_block=lines[start+1:start+nlineblock]\n",
    "            fc=np.loadtxt(fc_block)\n",
    "            #fc_all[i,j]=fc/np.sqrt(masses[i]*masses[j])\n",
    "            fc_all[i,j]=fc\n",
    "            start=start+nlineblock"
   ],
   "outputs": [],
   "metadata": {}
  },
  {
   "cell_type": "code",
   "execution_count": 11,
   "source": [
    "fc_all[0,0]"
   ],
   "outputs": [
    {
     "output_type": "execute_result",
     "data": {
      "text/plain": [
       "array([[16.43823915, -0.49410715, -1.23422592],\n",
       "       [-0.49410715, 16.7505942 , -1.31317768],\n",
       "       [-1.23422592, -1.31317768, 15.18455583]])"
      ]
     },
     "metadata": {},
     "execution_count": 11
    }
   ],
   "metadata": {}
  },
  {
   "cell_type": "code",
   "execution_count": 12,
   "source": [
    "fc_all[1,1]"
   ],
   "outputs": [
    {
     "output_type": "execute_result",
     "data": {
      "text/plain": [
       "array([[18.5043507 , -0.35710017, -1.29724485],\n",
       "       [-0.35710017, 15.33418511, -1.50717439],\n",
       "       [-1.29724485, -1.50717439, 14.6962958 ]])"
      ]
     },
     "metadata": {},
     "execution_count": 12
    }
   ],
   "metadata": {}
  },
  {
   "cell_type": "code",
   "execution_count": 13,
   "source": [
    "fc_all[0,81]"
   ],
   "outputs": [
    {
     "output_type": "execute_result",
     "data": {
      "text/plain": [
       "array([[-2.82426989,  0.99268656,  3.50015051],\n",
       "       [ 1.41156841, -2.41028727, -4.05062407],\n",
       "       [ 2.87561549, -2.75820939, -7.06437718]])"
      ]
     },
     "metadata": {},
     "execution_count": 13
    }
   ],
   "metadata": {}
  },
  {
   "cell_type": "markdown",
   "source": [
    "以下のはまだテストしてない"
   ],
   "metadata": {}
  },
  {
   "cell_type": "code",
   "execution_count": 14,
   "source": [
    "\n",
    "'''\n",
    "evaluate velocity operator.\n",
    "structure file: unitcell structure with vasp POSCAR format\n",
    "Dyn: Flat format (low:0x,0y,0z....., column:0x,0y,0z....) natom*3xnatom*3 Dynamical matrix\n",
    "(already scaled by mass, regular output of lammps dynamical_matrix) \n",
    "'''\n",
    "import sys\n",
    "sys.path.append('../../src')\n",
    "def get_Vij_from_flat(structure_file,Dyn):\n",
    "    atoms=read(structure_file,format='vasp')\n",
    "    natom=len(atoms.positions)\n",
    "\n",
    "    dist=np.zeros((natom,natom,3))\n",
    "\n",
    "    from nearest import find_nearest_ortho\n",
    "    dist=np.zeros((natom,natom,3))\n",
    "    positions=atoms.positions\n",
    "    cell=atoms.cell\n",
    "    for i in range(natom):  \n",
    "        for j in range(i):\n",
    "            dist[i,j]=find_nearest_ortho(positions,cell,i,j)\n",
    "            #invert\n",
    "            dist[j,i]=-dist[i,j]\n",
    "    \n",
    "    \n",
    "    Rx=np.repeat(dist[:,:,0],3,axis=1)\n",
    "    Rx=np.repeat(Rx,3,axis=0)\n",
    "    Ry=np.repeat(dist[:,:,1],3,axis=1)\n",
    "    Ry=np.repeat(Ry,3,axis=0)\n",
    "    Rz=np.repeat(dist[:,:,2],3,axis=1)\n",
    "    Rz=np.repeat(Rz,3,axis=0)  \n",
    "\n",
    "    '''\n",
    "    triu=np.triu(np.ones((natom*3,natom*3)))\n",
    "    tril=np.tril(np.ones((natom*3,natom*3)),-1)\n",
    "    mask=triu+tril*-1\n",
    "    '''\n",
    "    #Hadamard product\n",
    "    Vx=Rx*Dyn*-1\n",
    "    Vy=Ry*Dyn*-1\n",
    "    Vz=Rz*Dyn*-1\n",
    "\n",
    "    return Vx, Vy, Vz"
   ],
   "outputs": [],
   "metadata": {}
  },
  {
   "cell_type": "code",
   "execution_count": 15,
   "source": [
    "import sys\n",
    "sys.path.append('../../src')"
   ],
   "outputs": [],
   "metadata": {}
  },
  {
   "cell_type": "code",
   "execution_count": 16,
   "source": [
    "import numpy as np\n",
    "\n",
    "from nearest import find_nearest_ortho\n",
    "dist=np.zeros((natom,natom,3))\n",
    "positions=atoms.positions\n",
    "cell=atoms.cell\n",
    "for i in range(natom):  \n",
    "    for j in range(i):\n",
    "        dist[i,j]=find_nearest_ortho(positions,cell,i,j)\n",
    "        #invert\n",
    "        dist[j,i]=-dist[i,j]"
   ],
   "outputs": [],
   "metadata": {}
  },
  {
   "cell_type": "code",
   "execution_count": 17,
   "source": [
    "Rx=np.repeat(dist[:,:,0],3,axis=1)\n",
    "Rx=np.repeat(Rx,3,axis=0)\n",
    "Ry=np.repeat(dist[:,:,1],3,axis=1)\n",
    "Ry=np.repeat(Ry,3,axis=0)\n",
    "Rz=np.repeat(dist[:,:,2],3,axis=1)\n",
    "Rz=np.repeat(Rz,3,axis=0)  "
   ],
   "outputs": [],
   "metadata": {}
  },
  {
   "cell_type": "code",
   "execution_count": 18,
   "source": [
    "Rx.shape"
   ],
   "outputs": [
    {
     "output_type": "execute_result",
     "data": {
      "text/plain": [
       "(1536, 1536)"
      ]
     },
     "metadata": {},
     "execution_count": 18
    }
   ],
   "metadata": {}
  },
  {
   "cell_type": "code",
   "execution_count": 19,
   "source": [
    "Rx[0,0:6]"
   ],
   "outputs": [
    {
     "output_type": "execute_result",
     "data": {
      "text/plain": [
       "array([  0.        ,   0.        ,   0.        , -10.14206505,\n",
       "       -10.14206505, -10.14206505])"
      ]
     },
     "metadata": {},
     "execution_count": 19
    }
   ],
   "metadata": {}
  },
  {
   "cell_type": "code",
   "execution_count": 20,
   "source": [
    "Rx[0,243:260]"
   ],
   "outputs": [
    {
     "output_type": "execute_result",
     "data": {
      "text/plain": [
       "array([-1.09760464, -1.09760464, -1.09760464, -2.21248582, -2.21248582,\n",
       "       -2.21248582, -8.17101401, -8.17101401, -8.17101401,  4.01047091,\n",
       "        4.01047091,  4.01047091, -5.2321277 , -5.2321277 , -5.2321277 ,\n",
       "       -5.81435552, -5.81435552])"
      ]
     },
     "metadata": {},
     "execution_count": 20
    }
   ],
   "metadata": {}
  },
  {
   "cell_type": "code",
   "execution_count": 21,
   "source": [
    "Rx[1,0:6]"
   ],
   "outputs": [
    {
     "output_type": "execute_result",
     "data": {
      "text/plain": [
       "array([  0.        ,   0.        ,   0.        , -10.14206505,\n",
       "       -10.14206505, -10.14206505])"
      ]
     },
     "metadata": {},
     "execution_count": 21
    }
   ],
   "metadata": {}
  },
  {
   "cell_type": "code",
   "execution_count": 22,
   "source": [
    "Rx[3,0:6]"
   ],
   "outputs": [
    {
     "output_type": "execute_result",
     "data": {
      "text/plain": [
       "array([10.14206505, 10.14206505, 10.14206505,  0.        ,  0.        ,\n",
       "        0.        ])"
      ]
     },
     "metadata": {},
     "execution_count": 22
    }
   ],
   "metadata": {}
  },
  {
   "cell_type": "code",
   "execution_count": 23,
   "source": [
    "GULP_distx=np.loadtxt('../../aSi512_GULP/distx.dat')[:,2]\n",
    "GULP_disty=np.loadtxt('../../aSi512_GULP/disty.dat')[:,2]\n",
    "GULP_distz=np.loadtxt('../../aSi512_GULP/distz.dat')[:,2]"
   ],
   "outputs": [],
   "metadata": {}
  },
  {
   "cell_type": "code",
   "execution_count": 24,
   "source": [
    "GULP_distx.shape"
   ],
   "outputs": [
    {
     "output_type": "execute_result",
     "data": {
      "text/plain": [
       "(130816,)"
      ]
     },
     "metadata": {},
     "execution_count": 24
    }
   ],
   "metadata": {}
  },
  {
   "cell_type": "code",
   "execution_count": 25,
   "source": [
    "distx=[]\n",
    "for i in range(natom):\n",
    "    for j in range(i):\n",
    "        distx.append(dist[i,j,0])"
   ],
   "outputs": [],
   "metadata": {}
  },
  {
   "cell_type": "code",
   "execution_count": 26,
   "source": [
    "len(distx)"
   ],
   "outputs": [
    {
     "output_type": "execute_result",
     "data": {
      "text/plain": [
       "130816"
      ]
     },
     "metadata": {},
     "execution_count": 26
    }
   ],
   "metadata": {}
  },
  {
   "cell_type": "code",
   "execution_count": 27,
   "source": [
    "distx[0], GULP_distx[0]"
   ],
   "outputs": [
    {
     "output_type": "execute_result",
     "data": {
      "text/plain": [
       "(10.142065046999988, 10.1420650461696)"
      ]
     },
     "metadata": {},
     "execution_count": 27
    }
   ],
   "metadata": {}
  },
  {
   "cell_type": "code",
   "execution_count": 28,
   "source": [
    "np.max(np.abs(np.array(distx)-GULP_distx))"
   ],
   "outputs": [
    {
     "output_type": "execute_result",
     "data": {
      "text/plain": [
       "9.969545189392193e-10"
      ]
     },
     "metadata": {},
     "execution_count": 28
    }
   ],
   "metadata": {}
  },
  {
   "cell_type": "code",
   "execution_count": 29,
   "source": [
    "structure_file='../optimized.vasp'\n",
    "Dyn=np.loadtxt('Dyn.form').reshape((nmodes,nmodes))\n",
    "Vx,Vy,Vz=get_Vij_from_flat(structure_file,Dyn)\n"
   ],
   "outputs": [],
   "metadata": {}
  },
  {
   "cell_type": "code",
   "execution_count": 30,
   "source": [
    "Vx[0,243:246]"
   ],
   "outputs": [
    {
     "output_type": "execute_result",
     "data": {
      "text/plain": [
       "array([-0.11037768,  0.03879577,  0.13679397])"
      ]
     },
     "metadata": {},
     "execution_count": 30
    }
   ],
   "metadata": {}
  },
  {
   "cell_type": "code",
   "execution_count": 31,
   "source": [
    "dist[81,0,0]"
   ],
   "outputs": [
    {
     "output_type": "execute_result",
     "data": {
      "text/plain": [
       "1.0976046420000003"
      ]
     },
     "metadata": {},
     "execution_count": 31
    }
   ],
   "metadata": {}
  },
  {
   "cell_type": "code",
   "execution_count": 32,
   "source": [
    "dyn[0,243:260]*masses[0]"
   ],
   "outputs": [
    {
     "output_type": "execute_result",
     "data": {
      "text/plain": [
       "array([-2.82429304,  0.9926882 ,  3.50022091,  0.        ,  0.        ,\n",
       "        0.        ,  0.        ,  0.        ,  0.        ,  0.        ,\n",
       "        0.        ,  0.        ,  0.        ,  0.        ,  0.        ,\n",
       "        0.        ,  0.        ])"
      ]
     },
     "metadata": {},
     "execution_count": 32
    }
   ],
   "metadata": {}
  },
  {
   "cell_type": "code",
   "execution_count": 33,
   "source": [
    "dyn[0,243:260]*dist[0,81,0]*-1"
   ],
   "outputs": [
    {
     "output_type": "execute_result",
     "data": {
      "text/plain": [
       "array([-0.11037768,  0.03879577,  0.13679397,  0.        ,  0.        ,\n",
       "        0.        ,  0.        ,  0.        ,  0.        ,  0.        ,\n",
       "        0.        ,  0.        ,  0.        ,  0.        ,  0.        ,\n",
       "        0.        ,  0.        ])"
      ]
     },
     "metadata": {},
     "execution_count": 33
    }
   ],
   "metadata": {}
  },
  {
   "cell_type": "code",
   "execution_count": 34,
   "source": [
    "testVx=Dyn*Rx*-1"
   ],
   "outputs": [],
   "metadata": {}
  },
  {
   "cell_type": "code",
   "execution_count": 35,
   "source": [
    "testVx[0,243:246]"
   ],
   "outputs": [
    {
     "output_type": "execute_result",
     "data": {
      "text/plain": [
       "array([-0.11037768,  0.03879577,  0.13679397])"
      ]
     },
     "metadata": {},
     "execution_count": 35
    }
   ],
   "metadata": {}
  },
  {
   "cell_type": "code",
   "execution_count": 36,
   "source": [
    "#check\n",
    "\n",
    "#check\n",
    "GULP_Vijx=np.loadtxt('../../aSi512_GULP/Vijx.dat').reshape((natom*3,natom*3))\n",
    "np.where(np.abs(Vx-GULP_Vijx) > 0.1)"
   ],
   "outputs": [
    {
     "output_type": "execute_result",
     "data": {
      "text/plain": [
       "(array([318]), array([117]))"
      ]
     },
     "metadata": {},
     "execution_count": 36
    }
   ],
   "metadata": {}
  },
  {
   "cell_type": "code",
   "execution_count": 37,
   "source": [
    "GULP_Vijx[318,117]"
   ],
   "outputs": [
    {
     "output_type": "execute_result",
     "data": {
      "text/plain": [
       "0.127553727030799"
      ]
     },
     "metadata": {},
     "execution_count": 37
    }
   ],
   "metadata": {}
  },
  {
   "cell_type": "code",
   "execution_count": 38,
   "source": [
    "Vx[318,117]"
   ],
   "outputs": [
    {
     "output_type": "execute_result",
     "data": {
      "text/plain": [
       "-0.0"
      ]
     },
     "metadata": {},
     "execution_count": 38
    }
   ],
   "metadata": {}
  },
  {
   "cell_type": "code",
   "execution_count": 41,
   "source": [
    "dyn[318,117]*masses[0]"
   ],
   "outputs": [
    {
     "output_type": "execute_result",
     "data": {
      "text/plain": [
       "0.0"
      ]
     },
     "metadata": {},
     "execution_count": 41
    }
   ],
   "metadata": {}
  },
  {
   "cell_type": "code",
   "execution_count": 44,
   "source": [
    "fc_flat=np.reshape(fc_all.transpose(0,2,1,3),(natom*3,natom*3))"
   ],
   "outputs": [],
   "metadata": {}
  },
  {
   "cell_type": "code",
   "execution_count": 45,
   "source": [
    "fc_flat[318,117]"
   ],
   "outputs": [
    {
     "output_type": "execute_result",
     "data": {
      "text/plain": [
       "-0.709636853283"
      ]
     },
     "metadata": {},
     "execution_count": 45
    }
   ],
   "metadata": {}
  },
  {
   "cell_type": "code",
   "execution_count": 50,
   "source": [
    "index=np.where(np.abs(fc_flat-dyn*masses[0])>0.1)"
   ],
   "outputs": [],
   "metadata": {}
  },
  {
   "cell_type": "code",
   "execution_count": 51,
   "source": [
    "fc_flat[index]"
   ],
   "outputs": [
    {
     "output_type": "execute_result",
     "data": {
      "text/plain": [
       "array([-0.18751268,  0.12030477, -0.10443746,  0.1508732 , -0.12547375,\n",
       "       -0.2290738 ,  0.12727899,  0.11403424, -0.1329453 , -0.17011364,\n",
       "       -0.20477279,  0.15424688, -0.70963685, -0.17575628,  0.11371868,\n",
       "        0.13584233, -0.34352625, -0.2192917 , -0.26498115, -0.12278619,\n",
       "        0.11414313, -0.2643091 ,  0.1039606 , -0.11056896,  0.18035842,\n",
       "       -0.13599471,  0.10398358,  0.11448346,  0.26430877,  0.46748373,\n",
       "       -0.23355415,  0.10335123])"
      ]
     },
     "metadata": {},
     "execution_count": 51
    }
   ],
   "metadata": {}
  },
  {
   "cell_type": "code",
   "execution_count": 53,
   "source": [
    "dyn[index]*masses[0]"
   ],
   "outputs": [
    {
     "output_type": "execute_result",
     "data": {
      "text/plain": [
       "array([0., 0., 0., 0., 0., 0., 0., 0., 0., 0., 0., 0., 0., 0., 0., 0., 0.,\n",
       "       0., 0., 0., 0., 0., 0., 0., 0., 0., 0., 0., 0., 0., 0., 0.])"
      ]
     },
     "metadata": {},
     "execution_count": 53
    }
   ],
   "metadata": {}
  },
  {
   "cell_type": "markdown",
   "source": [
    "ごく一部でForce constantが合致していないようだ"
   ],
   "metadata": {}
  },
  {
   "cell_type": "code",
   "execution_count": 39,
   "source": [
    "GULP_Vijy=np.loadtxt('../../aSi512_GULP/Vijy.dat').reshape((natom*3,natom*3))\n",
    "np.where(np.abs(Vy-GULP_Vijy) > 0.1)"
   ],
   "outputs": [
    {
     "output_type": "execute_result",
     "data": {
      "text/plain": [
       "(array([], dtype=int64), array([], dtype=int64))"
      ]
     },
     "metadata": {},
     "execution_count": 39
    }
   ],
   "metadata": {}
  },
  {
   "cell_type": "code",
   "execution_count": 40,
   "source": [
    "GULP_Vijz=np.loadtxt('../../aSi512_GULP/Vijz.dat').reshape((natom*3,natom*3))\n",
    "np.where(np.abs(Vz-GULP_Vijz) > 0.1)"
   ],
   "outputs": [
    {
     "output_type": "execute_result",
     "data": {
      "text/plain": [
       "(array([], dtype=int64), array([], dtype=int64))"
      ]
     },
     "metadata": {},
     "execution_count": 40
    }
   ],
   "metadata": {}
  }
 ],
 "metadata": {
  "orig_nbformat": 4,
  "language_info": {
   "name": "python",
   "version": "3.9.5",
   "mimetype": "text/x-python",
   "codemirror_mode": {
    "name": "ipython",
    "version": 3
   },
   "pygments_lexer": "ipython3",
   "nbconvert_exporter": "python",
   "file_extension": ".py"
  },
  "kernelspec": {
   "name": "python3",
   "display_name": "Python 3.9.5 64-bit ('env_3.9': venv)"
  },
  "interpreter": {
   "hash": "f28014fb09611fa8280d50d19c96de868b70c0c432dcef6642ed055c9deb0d24"
  }
 },
 "nbformat": 4,
 "nbformat_minor": 2
}