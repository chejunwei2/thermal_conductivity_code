{
 "cells": [
  {
   "cell_type": "code",
   "execution_count": 1,
   "source": [
    "from pyAF.interface import thermal_conductivity\n",
    "results=thermal_conductivity('setup_phonopy.yaml')"
   ],
   "outputs": [
    {
     "output_type": "stream",
     "name": "stdout",
     "text": [
      "loaded calculation setups:\n",
      "{'structure_file': 'optimized.vasp', 'dyn_file': 'FORCE_CONSTANTS_2ND', 'style': 'phonopy', 'temperature': 300, 'broadening_factor': 5.0, 'using_mean_spacing': True, 'omega_threshould': 0.01, 'broadening_threshould': 0.01, 'two_dim': False, 'symmetrize_fc': True}\n",
      "enter thermal conductivity calculation\n",
      "style is phonopy\n",
      "dynamical matrix&force constants are symmetrized\n",
      "Max drift of force constants: -0.000000 (zx) -0.000000 (xz)\n",
      "Max drift after symmetrization by translation: 0.000000 (xx) 0.000000 (xx)\n",
      "average mode spacing:0.438315 cm-1\n"
     ]
    }
   ],
   "metadata": {}
  },
  {
   "cell_type": "code",
   "execution_count": 2,
   "source": [
    "import numpy as np\n",
    "np.sum(results['thermal_conductivity'])"
   ],
   "outputs": [
    {
     "output_type": "execute_result",
     "data": {
      "text/plain": [
       "0.9767857416776426"
      ]
     },
     "metadata": {},
     "execution_count": 2
    }
   ],
   "metadata": {}
  }
 ],
 "metadata": {
  "orig_nbformat": 4,
  "language_info": {
   "name": "python",
   "version": "3.9.1",
   "mimetype": "text/x-python",
   "codemirror_mode": {
    "name": "ipython",
    "version": 3
   },
   "pygments_lexer": "ipython3",
   "nbconvert_exporter": "python",
   "file_extension": ".py"
  },
  "kernelspec": {
   "name": "python3",
   "display_name": "Python 3.9.1 64-bit ('3.9.1': pyenv)"
  },
  "interpreter": {
   "hash": "6b06cc675365d6e34b55bbd2104213cd0e0efce92debab3881a805e2e1560b16"
  }
 },
 "nbformat": 4,
 "nbformat_minor": 2
}