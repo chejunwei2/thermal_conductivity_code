{
 "cells": [
  {
   "cell_type": "code",
   "execution_count": 1,
   "source": [
    "import pyAF\n",
    "from pyAF.interface import thermal_conductivity\n",
    "results=thermal_conductivity('setup.yaml')"
   ],
   "outputs": [
    {
     "output_type": "stream",
     "name": "stdout",
     "text": [
      "loaded calculation setups:\n",
      "{'structure_file': 'optimized.vasp', 'dyn_file': 'Dyn.form', 'style': 'lammps-regular', 'temperature': 300, 'broadening_factor': 5.0, 'using_mean_spacing': True, 'omega_threshould': 0.01, 'broadening_threshould': 0.01}\n",
      "enter thermal conductivity calculation: lammps-regular\n"
     ]
    }
   ],
   "metadata": {}
  },
  {
   "cell_type": "code",
   "execution_count": 2,
   "source": [
    "results"
   ],
   "outputs": [
    {
     "output_type": "execute_result",
     "data": {
      "text/plain": [
       "{'freq': array([1.39055732e-02, 1.11663342e-02, 2.05978377e-02, ...,\n",
       "        6.48100068e+02, 6.57060744e+02, 6.71950359e+02]),\n",
       " 'diffusivity': array([3.59221388e-09, 1.07856434e-08, 3.77188771e-09, ...,\n",
       "        9.34271380e-06, 3.85295885e-25, 1.63159868e-19]),\n",
       " 'thermal_conductivity': array([4.72882306e-10, 1.41983192e-09, 4.96534733e-10, ...,\n",
       "        5.81701161e-07, 2.35275811e-26, 9.64215537e-21])}"
      ]
     },
     "metadata": {},
     "execution_count": 2
    }
   ],
   "metadata": {}
  },
  {
   "cell_type": "code",
   "execution_count": 3,
   "source": [
    "import numpy as np\n",
    "np.sum(results['thermal_conductivity'])"
   ],
   "outputs": [
    {
     "output_type": "execute_result",
     "data": {
      "text/plain": [
       "0.9769413513451517"
      ]
     },
     "metadata": {},
     "execution_count": 3
    }
   ],
   "metadata": {}
  },
  {
   "cell_type": "markdown",
   "source": [
    "GULP output\n",
    "```\n",
    "--------------------------------------------------------------------------------\n",
    "  Thermal conductivity (Allen-Feldman) =     0.976852 W/(m.K) \n",
    "--------------------------------------------------------------------------------\n",
    "```"
   ],
   "metadata": {}
  }
 ],
 "metadata": {
  "orig_nbformat": 4,
  "language_info": {
   "name": "python",
   "version": "3.9.5",
   "mimetype": "text/x-python",
   "codemirror_mode": {
    "name": "ipython",
    "version": 3
   },
   "pygments_lexer": "ipython3",
   "nbconvert_exporter": "python",
   "file_extension": ".py"
  },
  "kernelspec": {
   "name": "python3",
   "display_name": "Python 3.9.5 64-bit ('env_3.9': venv)"
  },
  "interpreter": {
   "hash": "f28014fb09611fa8280d50d19c96de868b70c0c432dcef6642ed055c9deb0d24"
  }
 },
 "nbformat": 4,
 "nbformat_minor": 2
}