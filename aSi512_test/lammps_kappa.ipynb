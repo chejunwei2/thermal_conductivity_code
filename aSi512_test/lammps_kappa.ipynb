{
 "cells": [
  {
   "cell_type": "code",
   "execution_count": 1,
   "source": [
    "import pyAF\n",
    "from pyAF.interface import thermal_conductivity\n",
    "results=thermal_conductivity('setup.yaml')"
   ],
   "outputs": [
    {
     "output_type": "stream",
     "name": "stdout",
     "text": [
      "loaded calculation setups:\n",
      "{'structure_file': 'optimized.vasp', 'dyn_file': 'Dyn.form', 'style': 'lammps-regular', 'temperature': 300, 'broadening_factor': 5.0, 'using_mean_spacing': True, 'omega_threshould': 0.01, 'broadening_threshould': 0.01, 'two_dim': False, 'symmetrize_fc': True}\n",
      "enter thermal conductivity calculation\n",
      "style is lammps-regular\n",
      "dynamical matrix&force constants are symmetrized\n",
      "Max drift of force constants: -0.000002 (yy) -0.000002 (yy)\n",
      "Max drift after symmetrization by translation: -0.000000 (yy) -0.000000 (yy)\n",
      "average mode spacing:0.438324 cm-1\n"
     ]
    }
   ],
   "metadata": {}
  },
  {
   "cell_type": "code",
   "execution_count": 2,
   "source": [
    "results"
   ],
   "outputs": [
    {
     "output_type": "execute_result",
     "data": {
      "text/plain": [
       "{'freq': array([-1.84751812e-05,  1.22166155e-05,  1.84794272e-05, ...,\n",
       "         6.48100068e+02,  6.57060744e+02,  6.71950359e+02]),\n",
       " 'diffusivity': array([0.00000000e+00, 0.00000000e+00, 0.00000000e+00, ...,\n",
       "        9.35314023e-06, 2.95905087e-33, 1.62880962e-32]),\n",
       " 'thermal_conductivity': array([0.00000000e+00, 0.00000000e+00, 0.00000000e+00, ...,\n",
       "        5.82350336e-07, 1.80690508e-34, 9.62567307e-34])}"
      ]
     },
     "metadata": {},
     "execution_count": 2
    }
   ],
   "metadata": {}
  },
  {
   "cell_type": "code",
   "execution_count": 3,
   "source": [
    "import numpy as np\n",
    "np.sum(results['thermal_conductivity'])"
   ],
   "outputs": [
    {
     "output_type": "execute_result",
     "data": {
      "text/plain": [
       "0.9768075626620725"
      ]
     },
     "metadata": {},
     "execution_count": 3
    }
   ],
   "metadata": {}
  },
  {
   "cell_type": "markdown",
   "source": [
    "GULP output\n",
    "```\n",
    "--------------------------------------------------------------------------------\n",
    "  Thermal conductivity (Allen-Feldman) =     0.976852 W/(m.K) \n",
    "--------------------------------------------------------------------------------\n",
    "```"
   ],
   "metadata": {}
  }
 ],
 "metadata": {
  "orig_nbformat": 4,
  "language_info": {
   "name": "python",
   "version": "3.9.1",
   "mimetype": "text/x-python",
   "codemirror_mode": {
    "name": "ipython",
    "version": 3
   },
   "pygments_lexer": "ipython3",
   "nbconvert_exporter": "python",
   "file_extension": ".py"
  },
  "kernelspec": {
   "name": "python3",
   "display_name": "Python 3.9.1 64-bit ('3.9.1': pyenv)"
  },
  "interpreter": {
   "hash": "6b06cc675365d6e34b55bbd2104213cd0e0efce92debab3881a805e2e1560b16"
  }
 },
 "nbformat": 4,
 "nbformat_minor": 2
}