{
 "cells": [
  {
   "cell_type": "code",
   "execution_count": 6,
   "source": [
    "import numpy as np"
   ],
   "outputs": [],
   "metadata": {}
  },
  {
   "cell_type": "code",
   "execution_count": 7,
   "source": [
    "mass=28.0855000000 "
   ],
   "outputs": [],
   "metadata": {}
  },
  {
   "cell_type": "code",
   "execution_count": 9,
   "source": [
    "with open('FORCE_CONSTANTS_2ND','r') as fc:\n",
    "    lines=fc.readlines()\n",
    "    natom=int(lines[0])\n",
    "\n",
    "    nlineblock=4\n",
    "    fc_all=np.zeros((natom,natom,3,3))\n",
    "    start=1\n",
    "    for i in range(natom):\n",
    "        for j in range(natom):\n",
    "            fc_block=lines[start+1:start+nlineblock]\n",
    "            fc=np.loadtxt(fc_block)\n",
    "            fc_all[i,j]=fc/mass\n",
    "\n"
   ],
   "outputs": [],
   "metadata": {}
  },
  {
   "cell_type": "code",
   "execution_count": 10,
   "source": [
    "fc_all[0,0]"
   ],
   "outputs": [
    {
     "output_type": "execute_result",
     "data": {
      "text/plain": [
       "array([[17.41754259, -0.        , -0.        ],\n",
       "       [-0.        , 17.41754259, -0.        ],\n",
       "       [-0.        , -0.        , 17.41754259]])"
      ]
     },
     "metadata": {},
     "execution_count": 10
    }
   ],
   "metadata": {}
  },
  {
   "cell_type": "code",
   "execution_count": 13,
   "source": [
    "from ase.io import read\n",
    "atoms=read('data.vasp',format='vasp')\n",
    "\n",
    "#all atom is in central region by definition\n",
    "#here we assume number of ghost shell is 1\n",
    "\n",
    "#construct the list of vector connecting between each atoms\n",
    "\n",
    "dist=np.zeros((natom,natom,3))\n",
    "for i in range(natom):\n",
    "    for j in range(natom):\n",
    "        rmin=np.zeros(3)\n",
    "        rij=atoms.get_distance(i,j,vector=True)\n",
    "        rij_mic=atoms.get_distance(i,j,mic=True,vector=True)\n",
    "        if(np.linalg.norm(rij_mic)<np.linalg.norm(rij)):\n",
    "            rmin=rij_mic\n",
    "        else:\n",
    "            rmin=rij\n",
    "        dist[i,j]=rmin"
   ],
   "outputs": [],
   "metadata": {}
  },
  {
   "cell_type": "code",
   "execution_count": 14,
   "source": [
    "dist"
   ],
   "outputs": [
    {
     "output_type": "execute_result",
     "data": {
      "text/plain": [
       "array([[[ 0.    ,  0.    ,  0.    ],\n",
       "        [ 0.    , -2.725 , -2.725 ],\n",
       "        [-2.725 ,  0.    , -2.725 ],\n",
       "        [-2.725 , -2.725 ,  0.    ],\n",
       "        [ 1.3625,  1.3625,  1.3625],\n",
       "        [ 1.3625, -1.3625, -1.3625],\n",
       "        [-1.3625,  1.3625, -1.3625],\n",
       "        [-1.3625, -1.3625,  1.3625]],\n",
       "\n",
       "       [[ 0.    ,  2.725 ,  2.725 ],\n",
       "        [ 0.    ,  0.    ,  0.    ],\n",
       "        [-2.725 ,  2.725 ,  0.    ],\n",
       "        [-2.725 ,  0.    ,  2.725 ],\n",
       "        [ 1.3625, -1.3625, -1.3625],\n",
       "        [ 1.3625,  1.3625,  1.3625],\n",
       "        [-1.3625, -1.3625,  1.3625],\n",
       "        [-1.3625,  1.3625, -1.3625]],\n",
       "\n",
       "       [[ 2.725 ,  0.    ,  2.725 ],\n",
       "        [ 2.725 , -2.725 ,  0.    ],\n",
       "        [ 0.    ,  0.    ,  0.    ],\n",
       "        [ 0.    , -2.725 ,  2.725 ],\n",
       "        [-1.3625,  1.3625, -1.3625],\n",
       "        [-1.3625, -1.3625,  1.3625],\n",
       "        [ 1.3625,  1.3625,  1.3625],\n",
       "        [ 1.3625, -1.3625, -1.3625]],\n",
       "\n",
       "       [[ 2.725 ,  2.725 ,  0.    ],\n",
       "        [ 2.725 ,  0.    , -2.725 ],\n",
       "        [ 0.    ,  2.725 , -2.725 ],\n",
       "        [ 0.    ,  0.    ,  0.    ],\n",
       "        [-1.3625, -1.3625,  1.3625],\n",
       "        [-1.3625,  1.3625, -1.3625],\n",
       "        [ 1.3625, -1.3625, -1.3625],\n",
       "        [ 1.3625,  1.3625,  1.3625]],\n",
       "\n",
       "       [[-1.3625, -1.3625, -1.3625],\n",
       "        [-1.3625,  1.3625,  1.3625],\n",
       "        [ 1.3625, -1.3625,  1.3625],\n",
       "        [ 1.3625,  1.3625, -1.3625],\n",
       "        [ 0.    ,  0.    ,  0.    ],\n",
       "        [ 0.    ,  2.725 ,  2.725 ],\n",
       "        [ 2.725 ,  0.    ,  2.725 ],\n",
       "        [ 2.725 ,  2.725 ,  0.    ]],\n",
       "\n",
       "       [[-1.3625,  1.3625,  1.3625],\n",
       "        [-1.3625, -1.3625, -1.3625],\n",
       "        [ 1.3625,  1.3625, -1.3625],\n",
       "        [ 1.3625, -1.3625,  1.3625],\n",
       "        [ 0.    , -2.725 , -2.725 ],\n",
       "        [ 0.    ,  0.    ,  0.    ],\n",
       "        [ 2.725 , -2.725 ,  0.    ],\n",
       "        [ 2.725 ,  0.    , -2.725 ]],\n",
       "\n",
       "       [[ 1.3625, -1.3625,  1.3625],\n",
       "        [ 1.3625,  1.3625, -1.3625],\n",
       "        [-1.3625, -1.3625, -1.3625],\n",
       "        [-1.3625,  1.3625,  1.3625],\n",
       "        [-2.725 ,  0.    , -2.725 ],\n",
       "        [-2.725 ,  2.725 ,  0.    ],\n",
       "        [ 0.    ,  0.    ,  0.    ],\n",
       "        [ 0.    ,  2.725 , -2.725 ]],\n",
       "\n",
       "       [[ 1.3625,  1.3625, -1.3625],\n",
       "        [ 1.3625, -1.3625,  1.3625],\n",
       "        [-1.3625,  1.3625,  1.3625],\n",
       "        [-1.3625, -1.3625, -1.3625],\n",
       "        [-2.725 , -2.725 ,  0.    ],\n",
       "        [-2.725 ,  0.    ,  2.725 ],\n",
       "        [ 0.    , -2.725 ,  2.725 ],\n",
       "        [ 0.    ,  0.    ,  0.    ]]])"
      ]
     },
     "metadata": {},
     "execution_count": 14
    }
   ],
   "metadata": {}
  }
 ],
 "metadata": {
  "orig_nbformat": 4,
  "language_info": {
   "name": "python",
   "version": "3.9.5",
   "mimetype": "text/x-python",
   "codemirror_mode": {
    "name": "ipython",
    "version": 3
   },
   "pygments_lexer": "ipython3",
   "nbconvert_exporter": "python",
   "file_extension": ".py"
  },
  "kernelspec": {
   "name": "python3",
   "display_name": "Python 3.9.5 64-bit ('env_3.9': venv)"
  },
  "interpreter": {
   "hash": "f28014fb09611fa8280d50d19c96de868b70c0c432dcef6642ed055c9deb0d24"
  }
 },
 "nbformat": 4,
 "nbformat_minor": 2
}