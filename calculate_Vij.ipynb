{
 "cells": [
  {
   "cell_type": "code",
   "execution_count": 2,
   "source": [
    "import numpy as np\n",
    "import math"
   ],
   "outputs": [],
   "metadata": {}
  },
  {
   "cell_type": "code",
   "execution_count": 3,
   "source": [
    "from ase.io import read\n",
    "atoms=read('data.vasp',format='vasp')\n",
    "\n",
    "#all atom is in central region by definition\n",
    "#here we assume number of ghost shell is 1\n",
    "\n",
    "#construct the list of vector connecting between each atoms\n",
    "\n",
    "masses=atoms.get_masses()\n",
    "natom=len(atoms.positions)\n",
    "\n",
    "dist=np.zeros((natom,natom,3))\n",
    "for i in range(natom):\n",
    "    for j in range(natom):\n",
    "        rmin=np.zeros(3)\n",
    "        rij=atoms.get_distance(i,j,vector=True)\n",
    "        rij_mic=atoms.get_distance(i,j,mic=True,vector=True)\n",
    "        if(np.linalg.norm(rij_mic)<np.linalg.norm(rij)):\n",
    "            rmin=rij_mic\n",
    "        else:\n",
    "            rmin=rij\n",
    "        dist[i,j]=rmin"
   ],
   "outputs": [],
   "metadata": {}
  },
  {
   "cell_type": "code",
   "execution_count": 4,
   "source": [
    "with open('FORCE_CONSTANTS_2ND','r') as fc:\n",
    "    lines=fc.readlines()\n",
    "\n",
    "    nlineblock=4\n",
    "    fc_all=np.zeros((natom,natom,3,3))\n",
    "    start=1\n",
    "    for i in range(natom):\n",
    "        for j in range(natom):\n",
    "            fc_block=lines[start+1:start+nlineblock]\n",
    "            fc=np.loadtxt(fc_block)\n",
    "            fc_all[i,j]=fc/np.sqrt(masses[i]*masses[j])\n",
    "            #fc_all[i,j]=fc\n",
    "            start=start+nlineblock\n",
    "\n"
   ],
   "outputs": [],
   "metadata": {}
  },
  {
   "cell_type": "code",
   "execution_count": 5,
   "source": [
    "fc_all[0,1]"
   ],
   "outputs": [
    {
     "output_type": "execute_result",
     "data": {
      "text/plain": [
       "array([[ 0.03913539, -0.        , -0.        ],\n",
       "       [ 0.        , -0.00978188, -0.        ],\n",
       "       [ 0.        , -0.        , -0.00978188]])"
      ]
     },
     "metadata": {},
     "execution_count": 5
    }
   ],
   "metadata": {}
  },
  {
   "cell_type": "code",
   "execution_count": null,
   "source": [],
   "outputs": [],
   "metadata": {}
  },
  {
   "cell_type": "code",
   "execution_count": 6,
   "source": [
    "atoms.get_masses()"
   ],
   "outputs": [
    {
     "output_type": "execute_result",
     "data": {
      "text/plain": [
       "array([28.085, 28.085, 28.085, 28.085, 28.085, 28.085, 28.085, 28.085])"
      ]
     },
     "metadata": {},
     "execution_count": 6
    }
   ],
   "metadata": {}
  },
  {
   "cell_type": "code",
   "execution_count": 7,
   "source": [
    "dist"
   ],
   "outputs": [
    {
     "output_type": "execute_result",
     "data": {
      "text/plain": [
       "array([[[ 0.    ,  0.    ,  0.    ],\n",
       "        [ 0.    , -2.725 , -2.725 ],\n",
       "        [-2.725 ,  0.    , -2.725 ],\n",
       "        [-2.725 , -2.725 ,  0.    ],\n",
       "        [ 1.3625,  1.3625,  1.3625],\n",
       "        [ 1.3625, -1.3625, -1.3625],\n",
       "        [-1.3625,  1.3625, -1.3625],\n",
       "        [-1.3625, -1.3625,  1.3625]],\n",
       "\n",
       "       [[ 0.    ,  2.725 ,  2.725 ],\n",
       "        [ 0.    ,  0.    ,  0.    ],\n",
       "        [-2.725 ,  2.725 ,  0.    ],\n",
       "        [-2.725 ,  0.    ,  2.725 ],\n",
       "        [ 1.3625, -1.3625, -1.3625],\n",
       "        [ 1.3625,  1.3625,  1.3625],\n",
       "        [-1.3625, -1.3625,  1.3625],\n",
       "        [-1.3625,  1.3625, -1.3625]],\n",
       "\n",
       "       [[ 2.725 ,  0.    ,  2.725 ],\n",
       "        [ 2.725 , -2.725 ,  0.    ],\n",
       "        [ 0.    ,  0.    ,  0.    ],\n",
       "        [ 0.    , -2.725 ,  2.725 ],\n",
       "        [-1.3625,  1.3625, -1.3625],\n",
       "        [-1.3625, -1.3625,  1.3625],\n",
       "        [ 1.3625,  1.3625,  1.3625],\n",
       "        [ 1.3625, -1.3625, -1.3625]],\n",
       "\n",
       "       [[ 2.725 ,  2.725 ,  0.    ],\n",
       "        [ 2.725 ,  0.    , -2.725 ],\n",
       "        [ 0.    ,  2.725 , -2.725 ],\n",
       "        [ 0.    ,  0.    ,  0.    ],\n",
       "        [-1.3625, -1.3625,  1.3625],\n",
       "        [-1.3625,  1.3625, -1.3625],\n",
       "        [ 1.3625, -1.3625, -1.3625],\n",
       "        [ 1.3625,  1.3625,  1.3625]],\n",
       "\n",
       "       [[-1.3625, -1.3625, -1.3625],\n",
       "        [-1.3625,  1.3625,  1.3625],\n",
       "        [ 1.3625, -1.3625,  1.3625],\n",
       "        [ 1.3625,  1.3625, -1.3625],\n",
       "        [ 0.    ,  0.    ,  0.    ],\n",
       "        [ 0.    ,  2.725 ,  2.725 ],\n",
       "        [ 2.725 ,  0.    ,  2.725 ],\n",
       "        [ 2.725 ,  2.725 ,  0.    ]],\n",
       "\n",
       "       [[-1.3625,  1.3625,  1.3625],\n",
       "        [-1.3625, -1.3625, -1.3625],\n",
       "        [ 1.3625,  1.3625, -1.3625],\n",
       "        [ 1.3625, -1.3625,  1.3625],\n",
       "        [ 0.    , -2.725 , -2.725 ],\n",
       "        [ 0.    ,  0.    ,  0.    ],\n",
       "        [ 2.725 , -2.725 ,  0.    ],\n",
       "        [ 2.725 ,  0.    , -2.725 ]],\n",
       "\n",
       "       [[ 1.3625, -1.3625,  1.3625],\n",
       "        [ 1.3625,  1.3625, -1.3625],\n",
       "        [-1.3625, -1.3625, -1.3625],\n",
       "        [-1.3625,  1.3625,  1.3625],\n",
       "        [-2.725 ,  0.    , -2.725 ],\n",
       "        [-2.725 ,  2.725 ,  0.    ],\n",
       "        [ 0.    ,  0.    ,  0.    ],\n",
       "        [ 0.    ,  2.725 , -2.725 ]],\n",
       "\n",
       "       [[ 1.3625,  1.3625, -1.3625],\n",
       "        [ 1.3625, -1.3625,  1.3625],\n",
       "        [-1.3625,  1.3625,  1.3625],\n",
       "        [-1.3625, -1.3625, -1.3625],\n",
       "        [-2.725 , -2.725 ,  0.    ],\n",
       "        [-2.725 ,  0.    ,  2.725 ],\n",
       "        [ 0.    , -2.725 ,  2.725 ],\n",
       "        [ 0.    ,  0.    ,  0.    ]]])"
      ]
     },
     "metadata": {},
     "execution_count": 7
    }
   ],
   "metadata": {}
  },
  {
   "cell_type": "code",
   "execution_count": 8,
   "source": [
    "#slice for x-component\n",
    "dist[:,:,0]"
   ],
   "outputs": [
    {
     "output_type": "execute_result",
     "data": {
      "text/plain": [
       "array([[ 0.    ,  0.    , -2.725 , -2.725 ,  1.3625,  1.3625, -1.3625,\n",
       "        -1.3625],\n",
       "       [ 0.    ,  0.    , -2.725 , -2.725 ,  1.3625,  1.3625, -1.3625,\n",
       "        -1.3625],\n",
       "       [ 2.725 ,  2.725 ,  0.    ,  0.    , -1.3625, -1.3625,  1.3625,\n",
       "         1.3625],\n",
       "       [ 2.725 ,  2.725 ,  0.    ,  0.    , -1.3625, -1.3625,  1.3625,\n",
       "         1.3625],\n",
       "       [-1.3625, -1.3625,  1.3625,  1.3625,  0.    ,  0.    ,  2.725 ,\n",
       "         2.725 ],\n",
       "       [-1.3625, -1.3625,  1.3625,  1.3625,  0.    ,  0.    ,  2.725 ,\n",
       "         2.725 ],\n",
       "       [ 1.3625,  1.3625, -1.3625, -1.3625, -2.725 , -2.725 ,  0.    ,\n",
       "         0.    ],\n",
       "       [ 1.3625,  1.3625, -1.3625, -1.3625, -2.725 , -2.725 ,  0.    ,\n",
       "         0.    ]])"
      ]
     },
     "metadata": {},
     "execution_count": 8
    }
   ],
   "metadata": {}
  },
  {
   "cell_type": "code",
   "execution_count": 9,
   "source": [
    "Rx=dist[:,:,0]\n",
    "Ry=dist[:,:,1]\n",
    "Rz=dist[:,:,2]\n",
    "Rx.shape, fc_all.shape"
   ],
   "outputs": [
    {
     "output_type": "execute_result",
     "data": {
      "text/plain": [
       "((8, 8), (8, 8, 3, 3))"
      ]
     },
     "metadata": {},
     "execution_count": 9
    }
   ],
   "metadata": {}
  },
  {
   "cell_type": "code",
   "execution_count": 10,
   "source": [
    "Vx=np.zeros((natom,natom,3,3))\n",
    "Vy=np.zeros((natom,natom,3,3))\n",
    "Vz=np.zeros((natom,natom,3,3))\n",
    "\n",
    "for i in range(natom):\n",
    "    for j in range(natom):\n",
    "        Vijx=Rx[i,j]*fc_all[i,j]\n",
    "        Vx[i,j]=Vijx\n",
    "\n",
    "        Vijy=Ry[i,j]*fc_all[i,j]\n",
    "        Vy[i,j]=Vijy\n",
    "\n",
    "        Vijz=Rz[i,j]*fc_all[i,j]\n",
    "        Vz[i,j]=Vijz\n",
    "\n"
   ],
   "outputs": [],
   "metadata": {}
  },
  {
   "cell_type": "code",
   "execution_count": 11,
   "source": [
    "#compare with GULP output\n",
    "#1st atom x-direction component\n",
    "Vx[0,:,0,:]"
   ],
   "outputs": [
    {
     "output_type": "execute_result",
     "data": {
      "text/plain": [
       "array([[ 0.        , -0.        , -0.        ],\n",
       "       [ 0.        , -0.        , -0.        ],\n",
       "       [ 0.02665562, -0.        ,  0.        ],\n",
       "       [ 0.02665562,  0.        , -0.        ],\n",
       "       [-0.21791282, -0.13620392, -0.13620392],\n",
       "       [-0.21791282,  0.13620392,  0.13620392],\n",
       "       [ 0.21791282, -0.13620392,  0.13620392],\n",
       "       [ 0.21791282,  0.13620392, -0.13620392]])"
      ]
     },
     "metadata": {},
     "execution_count": 11
    }
   ],
   "metadata": {}
  },
  {
   "cell_type": "markdown",
   "source": [
    "GULP side\n",
    "```\n",
    " ixyz:           1\n",
    "  0.000000000000000E+000  0.000000000000000E+000  0.000000000000000E+000\n",
    "  0.000000000000000E+000  0.000000000000000E+000  0.000000000000000E+000\n",
    "  2.665087135698760E-002 -8.616184384773376E-017  7.000649812628367E-017\n",
    "  2.665087135698760E-002  7.000649812628367E-017 -8.616184384773376E-017\n",
    " -0.217874033757599      -0.136179679902043      -0.136179679902043     \n",
    " -0.217874033757600       0.136179679902044       0.136179679902044     \n",
    "  0.217874033757599      -0.136179679902043       0.136179679902043     \n",
    "  0.217874033757599       0.136179679902043      -0.136179679902043     \n",
    "```"
   ],
   "metadata": {}
  },
  {
   "cell_type": "code",
   "execution_count": 12,
   "source": [
    "#1st atom y-direction component\n",
    "Vx[0,:,1,:]"
   ],
   "outputs": [
    {
     "output_type": "execute_result",
     "data": {
      "text/plain": [
       "array([[-0.        ,  0.        , -0.        ],\n",
       "       [ 0.        , -0.        , -0.        ],\n",
       "       [ 0.        , -0.10664395,  0.        ],\n",
       "       [ 0.        ,  0.02665562, -0.        ],\n",
       "       [-0.13620392, -0.21791282, -0.13620392],\n",
       "       [ 0.13620392, -0.21791282, -0.13620392],\n",
       "       [-0.13620392,  0.21791282, -0.13620392],\n",
       "       [ 0.13620392,  0.21791282, -0.13620392]])"
      ]
     },
     "metadata": {},
     "execution_count": 12
    }
   ],
   "metadata": {}
  },
  {
   "cell_type": "markdown",
   "source": [
    "GULP\n",
    "```\n",
    "0.00E+00\t0.00E+00\t0.00E+00\n",
    "0.00E+00\t0.00E+00\t0.00E+00\n",
    "8.62E-17\t-0.106624965\t8.62E-17\n",
    "7.00E-17\t2.67E-02\t-8.62E-17\n",
    "-0.13617968\t-0.217874034\t-0.13617968\n",
    "0.13617968\t-0.217874034\t-0.13617968\n",
    "-0.13617968\t0.217874034\t-0.13617968\n",
    "0.13617968\t0.217874034\t-0.13617968\n",
    "```"
   ],
   "metadata": {}
  },
  {
   "cell_type": "code",
   "execution_count": 13,
   "source": [
    "Vx[7,:,2,:]"
   ],
   "outputs": [
    {
     "output_type": "execute_result",
     "data": {
      "text/plain": [
       "array([[ 0.13620392,  0.13620392, -0.21791282],\n",
       "       [-0.13620392,  0.13620392, -0.21791282],\n",
       "       [-0.13620392,  0.13620392,  0.21791282],\n",
       "       [ 0.13620392,  0.13620392,  0.21791282],\n",
       "       [-0.        ,  0.        , -0.10664395],\n",
       "       [ 0.        ,  0.        ,  0.02665562],\n",
       "       [-0.        , -0.        , -0.        ],\n",
       "       [ 0.        , -0.        ,  0.        ]])"
      ]
     },
     "metadata": {},
     "execution_count": 13
    }
   ],
   "metadata": {}
  },
  {
   "cell_type": "markdown",
   "source": [
    "GULP\n",
    "```\n",
    "0.13617968\t0.13617968\t-0.217874034\n",
    "-0.13617968\t0.13617968\t-0.217874034\n",
    "-0.13617968\t0.13617968\t0.217874034\n",
    "0.13617968\t0.13617968\t0.217874034\n",
    "0.00E+00\t-5.39E-18\t0.106624965\n",
    "-3.23E-17\t-1.62E-17\t-2.67E-02\n",
    "0.00E+00\t0.00E+00\t0.00E+00\n",
    "0.00E+00\t0.00E+00\t0.00E+00\n",
    "```"
   ],
   "metadata": {}
  },
  {
   "cell_type": "code",
   "execution_count": 14,
   "source": [
    "#y-component\n",
    "\n",
    "Vy[0,:,0,:]"
   ],
   "outputs": [
    {
     "output_type": "execute_result",
     "data": {
      "text/plain": [
       "array([[ 0.        , -0.        , -0.        ],\n",
       "       [-0.10664395,  0.        ,  0.        ],\n",
       "       [-0.        ,  0.        , -0.        ],\n",
       "       [ 0.02665562,  0.        , -0.        ],\n",
       "       [-0.21791282, -0.13620392, -0.13620392],\n",
       "       [ 0.21791282, -0.13620392, -0.13620392],\n",
       "       [-0.21791282,  0.13620392, -0.13620392],\n",
       "       [ 0.21791282,  0.13620392, -0.13620392]])"
      ]
     },
     "metadata": {},
     "execution_count": 14
    }
   ],
   "metadata": {}
  },
  {
   "cell_type": "markdown",
   "source": [
    "GULP\n",
    "```\n",
    "0.00E+00\t0.00E+00\t0.00E+00\n",
    "-0.106624965\t8.62E-17\t8.62E-17\n",
    "0.00E+00\t0.00E+00\t0.00E+00\n",
    "2.67E-02\t7.00E-17\t-8.62E-17\n",
    "-0.217874034\t-0.13617968\t-0.13617968\n",
    "0.217874034\t-0.13617968\t-0.13617968\n",
    "-0.217874034\t0.13617968\t-0.13617968\n",
    "0.217874034\t0.13617968\t-0.13617968\n",
    "```"
   ],
   "metadata": {}
  },
  {
   "cell_type": "code",
   "execution_count": 15,
   "source": [
    "#z component\n",
    "Vz[0,:,0,:]"
   ],
   "outputs": [
    {
     "output_type": "execute_result",
     "data": {
      "text/plain": [
       "array([[ 0.        , -0.        , -0.        ],\n",
       "       [-0.10664395,  0.        ,  0.        ],\n",
       "       [ 0.02665562, -0.        ,  0.        ],\n",
       "       [-0.        , -0.        ,  0.        ],\n",
       "       [-0.21791282, -0.13620392, -0.13620392],\n",
       "       [ 0.21791282, -0.13620392, -0.13620392],\n",
       "       [ 0.21791282, -0.13620392,  0.13620392],\n",
       "       [-0.21791282, -0.13620392,  0.13620392]])"
      ]
     },
     "metadata": {},
     "execution_count": 15
    }
   ],
   "metadata": {}
  },
  {
   "cell_type": "markdown",
   "source": [
    "GULP\n",
    "```\n",
    "0.00E+00\t0.00E+00\t0.00E+00\n",
    "-0.106624965\t8.62E-17\t8.62E-17\n",
    "2.67E-02\t-8.62E-17\t7.00E-17\n",
    "0.00E+00\t0.00E+00\t0.00E+00\n",
    "-0.217874034\t-0.13617968\t-0.13617968\n",
    "0.217874034\t-0.13617968\t-0.13617968\n",
    "0.217874034\t-0.13617968\t0.13617968\n",
    "-0.217874034\t-0.13617968\t0.13617968\n",
    "```"
   ],
   "metadata": {}
  },
  {
   "cell_type": "markdown",
   "source": [
    "convert the shape of tensor to evaluate Sij with dot product with eigenvector"
   ],
   "metadata": {}
  },
  {
   "cell_type": "code",
   "execution_count": 20,
   "source": [
    "flatVx=np.reshape(Vx.transpose(0,2,1,3),(24,24))"
   ],
   "outputs": [],
   "metadata": {}
  },
  {
   "cell_type": "code",
   "execution_count": 21,
   "source": [
    "flatVx[0]"
   ],
   "outputs": [
    {
     "output_type": "execute_result",
     "data": {
      "text/plain": [
       "array([ 0.        , -0.        , -0.        ,  0.        , -0.        ,\n",
       "       -0.        ,  0.02665562, -0.        ,  0.        ,  0.02665562,\n",
       "        0.        , -0.        , -0.21791282, -0.13620392, -0.13620392,\n",
       "       -0.21791282,  0.13620392,  0.13620392,  0.21791282, -0.13620392,\n",
       "        0.13620392,  0.21791282,  0.13620392, -0.13620392])"
      ]
     },
     "metadata": {},
     "execution_count": 21
    }
   ],
   "metadata": {}
  },
  {
   "cell_type": "code",
   "execution_count": 23,
   "source": [
    "GULP_Vijx=np.loadtxt('Vijx.txt').reshape((24,24))"
   ],
   "outputs": [],
   "metadata": {}
  },
  {
   "cell_type": "code",
   "execution_count": 24,
   "source": [
    "GULP_Vijx[0]"
   ],
   "outputs": [
    {
     "output_type": "execute_result",
     "data": {
      "text/plain": [
       "array([ 0.00000000e+00,  0.00000000e+00,  0.00000000e+00,  0.00000000e+00,\n",
       "        0.00000000e+00,  0.00000000e+00,  2.67000000e-02, -8.62000000e-17,\n",
       "        7.00000000e-17,  2.67000000e-02,  7.00000000e-17, -8.62000000e-17,\n",
       "       -2.17874034e-01, -1.36179680e-01, -1.36179680e-01, -2.17874034e-01,\n",
       "        1.36179680e-01,  1.36179680e-01,  2.17874034e-01, -1.36179680e-01,\n",
       "        1.36179680e-01,  2.17874034e-01,  1.36179680e-01, -1.36179680e-01])"
      ]
     },
     "metadata": {},
     "execution_count": 24
    }
   ],
   "metadata": {}
  },
  {
   "cell_type": "code",
   "execution_count": 25,
   "source": [
    "np.sum(flatVx-GULP_Vijx)"
   ],
   "outputs": [
    {
     "output_type": "execute_result",
     "data": {
      "text/plain": [
       "-1.0842021724855044e-19"
      ]
     },
     "metadata": {},
     "execution_count": 25
    }
   ],
   "metadata": {}
  },
  {
   "cell_type": "code",
   "execution_count": 26,
   "source": [
    "flatVy=np.reshape(Vy.transpose(0,2,1,3),(24,24))\n",
    "GULP_Vijy=np.loadtxt('Vijy.txt').reshape((24,24))\n",
    "np.sum(flatVy-GULP_Vijy)"
   ],
   "outputs": [
    {
     "output_type": "execute_result",
     "data": {
      "text/plain": [
       "2.7755575615628914e-17"
      ]
     },
     "metadata": {},
     "execution_count": 26
    }
   ],
   "metadata": {}
  },
  {
   "cell_type": "code",
   "execution_count": 27,
   "source": [
    "flatVz=np.reshape(Vz.transpose(0,2,1,3),(24,24))\n",
    "GULP_Vijz=np.loadtxt('Vijz.txt').reshape((24,24))\n",
    "np.sum(flatVz-GULP_Vijz)"
   ],
   "outputs": [
    {
     "output_type": "execute_result",
     "data": {
      "text/plain": [
       "-2.7755575615628914e-17"
      ]
     },
     "metadata": {},
     "execution_count": 27
    }
   ],
   "metadata": {}
  }
 ],
 "metadata": {
  "orig_nbformat": 4,
  "language_info": {
   "name": "python",
   "version": "3.9.5",
   "mimetype": "text/x-python",
   "codemirror_mode": {
    "name": "ipython",
    "version": 3
   },
   "pygments_lexer": "ipython3",
   "nbconvert_exporter": "python",
   "file_extension": ".py"
  },
  "kernelspec": {
   "name": "python3",
   "display_name": "Python 3.9.5 64-bit ('env_3.9': venv)"
  },
  "interpreter": {
   "hash": "f28014fb09611fa8280d50d19c96de868b70c0c432dcef6642ed055c9deb0d24"
  }
 },
 "nbformat": 4,
 "nbformat_minor": 2
}